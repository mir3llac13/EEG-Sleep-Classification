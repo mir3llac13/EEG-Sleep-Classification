{
  "nbformat": 4,
  "nbformat_minor": 0,
  "metadata": {
    "colab": {
      "provenance": [],
      "machine_shape": "hm",
      "gpuType": "L4"
    },
    "kernelspec": {
      "name": "python3",
      "display_name": "Python 3"
    },
    "language_info": {
      "name": "python"
    },
    "accelerator": "GPU"
  },
  "cells": [
    {
      "cell_type": "code",
      "execution_count": 1,
      "metadata": {
        "colab": {
          "base_uri": "https://localhost:8080/"
        },
        "id": "ewgTMXqeP_MY",
        "outputId": "225066d8-907d-4161-c853-2179a8c7c1cf"
      },
      "outputs": [
        {
          "output_type": "stream",
          "name": "stdout",
          "text": [
            "Collecting mne\n",
            "  Downloading mne-1.9.0-py3-none-any.whl.metadata (20 kB)\n",
            "Requirement already satisfied: scikit-learn in /usr/local/lib/python3.11/dist-packages (1.6.1)\n",
            "Requirement already satisfied: tensorflow in /usr/local/lib/python3.11/dist-packages (2.18.0)\n",
            "Requirement already satisfied: matplotlib in /usr/local/lib/python3.11/dist-packages (3.10.0)\n",
            "Requirement already satisfied: seaborn in /usr/local/lib/python3.11/dist-packages (0.13.2)\n",
            "Requirement already satisfied: pandas in /usr/local/lib/python3.11/dist-packages (2.2.2)\n",
            "Requirement already satisfied: decorator in /usr/local/lib/python3.11/dist-packages (from mne) (4.4.2)\n",
            "Requirement already satisfied: jinja2 in /usr/local/lib/python3.11/dist-packages (from mne) (3.1.6)\n",
            "Requirement already satisfied: lazy-loader>=0.3 in /usr/local/lib/python3.11/dist-packages (from mne) (0.4)\n",
            "Requirement already satisfied: numpy<3,>=1.23 in /usr/local/lib/python3.11/dist-packages (from mne) (2.0.2)\n",
            "Requirement already satisfied: packaging in /usr/local/lib/python3.11/dist-packages (from mne) (24.2)\n",
            "Requirement already satisfied: pooch>=1.5 in /usr/local/lib/python3.11/dist-packages (from mne) (1.8.2)\n",
            "Requirement already satisfied: scipy>=1.9 in /usr/local/lib/python3.11/dist-packages (from mne) (1.15.2)\n",
            "Requirement already satisfied: tqdm in /usr/local/lib/python3.11/dist-packages (from mne) (4.67.1)\n",
            "Requirement already satisfied: joblib>=1.2.0 in /usr/local/lib/python3.11/dist-packages (from scikit-learn) (1.5.0)\n",
            "Requirement already satisfied: threadpoolctl>=3.1.0 in /usr/local/lib/python3.11/dist-packages (from scikit-learn) (3.6.0)\n",
            "Requirement already satisfied: absl-py>=1.0.0 in /usr/local/lib/python3.11/dist-packages (from tensorflow) (1.4.0)\n",
            "Requirement already satisfied: astunparse>=1.6.0 in /usr/local/lib/python3.11/dist-packages (from tensorflow) (1.6.3)\n",
            "Requirement already satisfied: flatbuffers>=24.3.25 in /usr/local/lib/python3.11/dist-packages (from tensorflow) (25.2.10)\n",
            "Requirement already satisfied: gast!=0.5.0,!=0.5.1,!=0.5.2,>=0.2.1 in /usr/local/lib/python3.11/dist-packages (from tensorflow) (0.6.0)\n",
            "Requirement already satisfied: google-pasta>=0.1.1 in /usr/local/lib/python3.11/dist-packages (from tensorflow) (0.2.0)\n",
            "Requirement already satisfied: libclang>=13.0.0 in /usr/local/lib/python3.11/dist-packages (from tensorflow) (18.1.1)\n",
            "Requirement already satisfied: opt-einsum>=2.3.2 in /usr/local/lib/python3.11/dist-packages (from tensorflow) (3.4.0)\n",
            "Requirement already satisfied: protobuf!=4.21.0,!=4.21.1,!=4.21.2,!=4.21.3,!=4.21.4,!=4.21.5,<6.0.0dev,>=3.20.3 in /usr/local/lib/python3.11/dist-packages (from tensorflow) (5.29.4)\n",
            "Requirement already satisfied: requests<3,>=2.21.0 in /usr/local/lib/python3.11/dist-packages (from tensorflow) (2.32.3)\n",
            "Requirement already satisfied: setuptools in /usr/local/lib/python3.11/dist-packages (from tensorflow) (75.2.0)\n",
            "Requirement already satisfied: six>=1.12.0 in /usr/local/lib/python3.11/dist-packages (from tensorflow) (1.17.0)\n",
            "Requirement already satisfied: termcolor>=1.1.0 in /usr/local/lib/python3.11/dist-packages (from tensorflow) (3.1.0)\n",
            "Requirement already satisfied: typing-extensions>=3.6.6 in /usr/local/lib/python3.11/dist-packages (from tensorflow) (4.13.2)\n",
            "Requirement already satisfied: wrapt>=1.11.0 in /usr/local/lib/python3.11/dist-packages (from tensorflow) (1.17.2)\n",
            "Requirement already satisfied: grpcio<2.0,>=1.24.3 in /usr/local/lib/python3.11/dist-packages (from tensorflow) (1.71.0)\n",
            "Requirement already satisfied: tensorboard<2.19,>=2.18 in /usr/local/lib/python3.11/dist-packages (from tensorflow) (2.18.0)\n",
            "Requirement already satisfied: keras>=3.5.0 in /usr/local/lib/python3.11/dist-packages (from tensorflow) (3.8.0)\n",
            "Requirement already satisfied: h5py>=3.11.0 in /usr/local/lib/python3.11/dist-packages (from tensorflow) (3.13.0)\n",
            "Requirement already satisfied: ml-dtypes<0.5.0,>=0.4.0 in /usr/local/lib/python3.11/dist-packages (from tensorflow) (0.4.1)\n",
            "Requirement already satisfied: tensorflow-io-gcs-filesystem>=0.23.1 in /usr/local/lib/python3.11/dist-packages (from tensorflow) (0.37.1)\n",
            "Requirement already satisfied: contourpy>=1.0.1 in /usr/local/lib/python3.11/dist-packages (from matplotlib) (1.3.2)\n",
            "Requirement already satisfied: cycler>=0.10 in /usr/local/lib/python3.11/dist-packages (from matplotlib) (0.12.1)\n",
            "Requirement already satisfied: fonttools>=4.22.0 in /usr/local/lib/python3.11/dist-packages (from matplotlib) (4.57.0)\n",
            "Requirement already satisfied: kiwisolver>=1.3.1 in /usr/local/lib/python3.11/dist-packages (from matplotlib) (1.4.8)\n",
            "Requirement already satisfied: pillow>=8 in /usr/local/lib/python3.11/dist-packages (from matplotlib) (11.2.1)\n",
            "Requirement already satisfied: pyparsing>=2.3.1 in /usr/local/lib/python3.11/dist-packages (from matplotlib) (3.2.3)\n",
            "Requirement already satisfied: python-dateutil>=2.7 in /usr/local/lib/python3.11/dist-packages (from matplotlib) (2.9.0.post0)\n",
            "Requirement already satisfied: pytz>=2020.1 in /usr/local/lib/python3.11/dist-packages (from pandas) (2025.2)\n",
            "Requirement already satisfied: tzdata>=2022.7 in /usr/local/lib/python3.11/dist-packages (from pandas) (2025.2)\n",
            "Requirement already satisfied: wheel<1.0,>=0.23.0 in /usr/local/lib/python3.11/dist-packages (from astunparse>=1.6.0->tensorflow) (0.45.1)\n",
            "Requirement already satisfied: rich in /usr/local/lib/python3.11/dist-packages (from keras>=3.5.0->tensorflow) (13.9.4)\n",
            "Requirement already satisfied: namex in /usr/local/lib/python3.11/dist-packages (from keras>=3.5.0->tensorflow) (0.0.9)\n",
            "Requirement already satisfied: optree in /usr/local/lib/python3.11/dist-packages (from keras>=3.5.0->tensorflow) (0.15.0)\n",
            "Requirement already satisfied: platformdirs>=2.5.0 in /usr/local/lib/python3.11/dist-packages (from pooch>=1.5->mne) (4.3.8)\n",
            "Requirement already satisfied: charset-normalizer<4,>=2 in /usr/local/lib/python3.11/dist-packages (from requests<3,>=2.21.0->tensorflow) (3.4.2)\n",
            "Requirement already satisfied: idna<4,>=2.5 in /usr/local/lib/python3.11/dist-packages (from requests<3,>=2.21.0->tensorflow) (3.10)\n",
            "Requirement already satisfied: urllib3<3,>=1.21.1 in /usr/local/lib/python3.11/dist-packages (from requests<3,>=2.21.0->tensorflow) (2.4.0)\n",
            "Requirement already satisfied: certifi>=2017.4.17 in /usr/local/lib/python3.11/dist-packages (from requests<3,>=2.21.0->tensorflow) (2025.4.26)\n",
            "Requirement already satisfied: markdown>=2.6.8 in /usr/local/lib/python3.11/dist-packages (from tensorboard<2.19,>=2.18->tensorflow) (3.8)\n",
            "Requirement already satisfied: tensorboard-data-server<0.8.0,>=0.7.0 in /usr/local/lib/python3.11/dist-packages (from tensorboard<2.19,>=2.18->tensorflow) (0.7.2)\n",
            "Requirement already satisfied: werkzeug>=1.0.1 in /usr/local/lib/python3.11/dist-packages (from tensorboard<2.19,>=2.18->tensorflow) (3.1.3)\n",
            "Requirement already satisfied: MarkupSafe>=2.0 in /usr/local/lib/python3.11/dist-packages (from jinja2->mne) (3.0.2)\n",
            "Requirement already satisfied: markdown-it-py>=2.2.0 in /usr/local/lib/python3.11/dist-packages (from rich->keras>=3.5.0->tensorflow) (3.0.0)\n",
            "Requirement already satisfied: pygments<3.0.0,>=2.13.0 in /usr/local/lib/python3.11/dist-packages (from rich->keras>=3.5.0->tensorflow) (2.19.1)\n",
            "Requirement already satisfied: mdurl~=0.1 in /usr/local/lib/python3.11/dist-packages (from markdown-it-py>=2.2.0->rich->keras>=3.5.0->tensorflow) (0.1.2)\n",
            "Downloading mne-1.9.0-py3-none-any.whl (7.4 MB)\n",
            "\u001b[2K   \u001b[90m━━━━━━━━━━━━━━━━━━━━━━━━━━━━━━━━━━━━━━━━\u001b[0m \u001b[32m7.4/7.4 MB\u001b[0m \u001b[31m116.2 MB/s\u001b[0m eta \u001b[36m0:00:00\u001b[0m\n",
            "\u001b[?25hInstalling collected packages: mne\n",
            "Successfully installed mne-1.9.0\n",
            "Mounted at /content/drive\n"
          ]
        }
      ],
      "source": [
        "!pip install mne scikit-learn tensorflow matplotlib seaborn pandas\n",
        "\n",
        "from google.colab import drive\n",
        "drive.mount('/content/drive')"
      ]
    },
    {
      "cell_type": "code",
      "source": [
        "import os\n",
        "os.listdir(\"/content/drive/MyDrive\")\n"
      ],
      "metadata": {
        "colab": {
          "base_uri": "https://localhost:8080/"
        },
        "id": "pSV8F-RJSLpp",
        "outputId": "ccbda155-51d4-4af9-a118-fe78695b39b5"
      },
      "execution_count": 2,
      "outputs": [
        {
          "output_type": "execute_result",
          "data": {
            "text/plain": [
              "['odevson.mp4',\n",
              " 'e784e920-40d4-4be8-a703-051228e20c96.jpg',\n",
              " 'transkript (1) (1).pdf',\n",
              " 'transkript (1).pdf',\n",
              " '10600322914_Ogrenci (1) (1).pdf',\n",
              " '10600322914_Ogrenci (1).pdf',\n",
              " '4a-emekli-aylik-bilgisi.pdf',\n",
              " 'adli-sicil-kaydi.pdf',\n",
              " 'nvi-yerlesim-yeri-ve-diger-adres-belgesi-sorgulama.pdf',\n",
              " 'Colab Notebooks',\n",
              " '1k.jpg',\n",
              " '2k.jpg',\n",
              " 'Staj',\n",
              " 'CPE 310 SOFTWARE ENGINEERING_week_7 dokümanının çevrilmiş kopyası.gdoc',\n",
              " 'makine',\n",
              " 'Week7 dokümanının çevrilmiş kopyası.gdoc',\n",
              " '2010213011.pdf',\n",
              " 'yok-ogrenci-belgesi-sorgulama (1).pdf',\n",
              " 'ÖSYM Sonuç Açıklama Sistemi(YERLEŞTİRME).pdf',\n",
              " '60336.jpg',\n",
              " 'Meryem_Betül_Mutlu.pdf',\n",
              " 'Meryem_Betül_Mutlu_merged (1).pdf',\n",
              " 'Meryem_Betül_Mutlu_merged.pdf',\n",
              " 'Professional Minimalist CV Resume (4).pdf',\n",
              " '10600322914_Transkript (2) (1).pdf',\n",
              " '10600322914_Transkript (2).pdf',\n",
              " 'yok-ogrenci-belgesi-sorgulama (2).pdf',\n",
              " 'yerlesim-yeri-ve-diger-adres (1).pdf',\n",
              " 'tapumeryem.png',\n",
              " 'tapu faruk.png',\n",
              " 'nvi-nufus-kayit-ornegi-belgesi-sorgulama (2).pdf',\n",
              " 'sgk-tescil-ve-hizmet-dokumu (1) elif.pdf',\n",
              " 'tapuelif1 (1).pdf',\n",
              " 'ELİF_ARAÇ.png',\n",
              " 'FARUK_ARAÇ.pdf',\n",
              " 'sgk-tescil-ve-hizmet-dokumu _FARUK.pdf',\n",
              " 'Ekran görüntüsü 2024-09-10 231243.png',\n",
              " 'adli-sicil-kaydi (3).pdf',\n",
              " '1076440.pdf',\n",
              " 'sleep-cassette',\n",
              " 'sleep-edf-database-expanded-1.0.0',\n",
              " 'SleepEDF_Cassette']"
            ]
          },
          "metadata": {},
          "execution_count": 2
        }
      ]
    },
    {
      "cell_type": "code",
      "source": [
        "import os\n",
        "import numpy as np\n",
        "import pandas as pd\n",
        "from scipy.stats import zscore\n",
        "import mne\n",
        "\n",
        "def load_sleep_data(data_folder):\n",
        "    psg_files = sorted([f for f in os.listdir(data_folder) if 'PSG.edf' in f])\n",
        "    hypnogram_files = sorted([f for f in os.listdir(data_folder) if 'Hypnogram.edf' in f])\n",
        "\n",
        "    mapping = {\n",
        "        'Sleep stage W': 0,\n",
        "        'Sleep stage 1': 1,\n",
        "        'Sleep stage 2': 2,\n",
        "        'Sleep stage 3': 3,\n",
        "        'Sleep stage 4': 3,\n",
        "        'Sleep stage R': 4\n",
        "    }\n",
        "\n",
        "    X, y = [], []\n",
        "\n",
        "    for psg_file, hypnogram_file in zip(psg_files, hypnogram_files):\n",
        "        raw = mne.io.read_raw_edf(os.path.join(data_folder, psg_file), preload=True, verbose=False)\n",
        "        raw.pick_channels(['EEG Fpz-Cz'])\n",
        "        annotations = mne.read_annotations(os.path.join(data_folder, hypnogram_file))\n",
        "        raw.set_annotations(annotations)\n",
        "        sfreq = raw.info['sfreq']\n",
        "        signal = raw.get_data()[0]\n",
        "\n",
        "        samples_per_epoch = int(30 * sfreq)  # 30 saniyelik epoch\n",
        "\n",
        "        for onset, desc in zip(raw.annotations.onset, raw.annotations.description):\n",
        "            if desc not in mapping:\n",
        "                continue\n",
        "            start = int(onset * sfreq)\n",
        "            end = start + samples_per_epoch\n",
        "            if end <= len(signal):\n",
        "                epoch = zscore(signal[start:end])\n",
        "                X.append(epoch)\n",
        "                y.append(mapping[desc])\n",
        "\n",
        "    return np.array(X), np.array(y)\n",
        "\n",
        "data_path = '/content/drive/MyDrive/sleep-cassette'\n",
        "X, y = load_sleep_data(data_path)\n"
      ],
      "metadata": {
        "colab": {
          "base_uri": "https://localhost:8080/"
        },
        "id": "PMVffvyqQMho",
        "outputId": "54544494-961c-4710-ec0c-ef60ddf9d601"
      },
      "execution_count": 3,
      "outputs": [
        {
          "output_type": "stream",
          "name": "stderr",
          "text": [
            "<ipython-input-3-68620a792cc4>:23: RuntimeWarning: Channels contain different highpass filters. Highest filter setting will be stored.\n",
            "  raw = mne.io.read_raw_edf(os.path.join(data_folder, psg_file), preload=True, verbose=False)\n",
            "<ipython-input-3-68620a792cc4>:23: RuntimeWarning: Channels contain different lowpass filters. Lowest filter setting will be stored.\n",
            "  raw = mne.io.read_raw_edf(os.path.join(data_folder, psg_file), preload=True, verbose=False)\n",
            "<ipython-input-3-68620a792cc4>:23: RuntimeWarning: Highpass cutoff frequency 16.0 is greater than lowpass cutoff frequency 0.7, setting values to 0 and Nyquist.\n",
            "  raw = mne.io.read_raw_edf(os.path.join(data_folder, psg_file), preload=True, verbose=False)\n"
          ]
        },
        {
          "output_type": "stream",
          "name": "stdout",
          "text": [
            "NOTE: pick_channels() is a legacy function. New code should use inst.pick(...).\n"
          ]
        },
        {
          "output_type": "stream",
          "name": "stderr",
          "text": [
            "<ipython-input-3-68620a792cc4>:26: RuntimeWarning: Limited 1 annotation(s) that were expanding outside the data range.\n",
            "  raw.set_annotations(annotations)\n",
            "<ipython-input-3-68620a792cc4>:23: RuntimeWarning: Channels contain different highpass filters. Highest filter setting will be stored.\n",
            "  raw = mne.io.read_raw_edf(os.path.join(data_folder, psg_file), preload=True, verbose=False)\n",
            "<ipython-input-3-68620a792cc4>:23: RuntimeWarning: Channels contain different lowpass filters. Lowest filter setting will be stored.\n",
            "  raw = mne.io.read_raw_edf(os.path.join(data_folder, psg_file), preload=True, verbose=False)\n",
            "<ipython-input-3-68620a792cc4>:23: RuntimeWarning: Highpass cutoff frequency 16.0 is greater than lowpass cutoff frequency 0.7, setting values to 0 and Nyquist.\n",
            "  raw = mne.io.read_raw_edf(os.path.join(data_folder, psg_file), preload=True, verbose=False)\n"
          ]
        },
        {
          "output_type": "stream",
          "name": "stdout",
          "text": [
            "NOTE: pick_channels() is a legacy function. New code should use inst.pick(...).\n"
          ]
        },
        {
          "output_type": "stream",
          "name": "stderr",
          "text": [
            "<ipython-input-3-68620a792cc4>:26: RuntimeWarning: Limited 1 annotation(s) that were expanding outside the data range.\n",
            "  raw.set_annotations(annotations)\n",
            "<ipython-input-3-68620a792cc4>:23: RuntimeWarning: Channels contain different highpass filters. Highest filter setting will be stored.\n",
            "  raw = mne.io.read_raw_edf(os.path.join(data_folder, psg_file), preload=True, verbose=False)\n",
            "<ipython-input-3-68620a792cc4>:23: RuntimeWarning: Channels contain different lowpass filters. Lowest filter setting will be stored.\n",
            "  raw = mne.io.read_raw_edf(os.path.join(data_folder, psg_file), preload=True, verbose=False)\n",
            "<ipython-input-3-68620a792cc4>:23: RuntimeWarning: Highpass cutoff frequency 16.0 is greater than lowpass cutoff frequency 0.7, setting values to 0 and Nyquist.\n",
            "  raw = mne.io.read_raw_edf(os.path.join(data_folder, psg_file), preload=True, verbose=False)\n"
          ]
        },
        {
          "output_type": "stream",
          "name": "stdout",
          "text": [
            "NOTE: pick_channels() is a legacy function. New code should use inst.pick(...).\n"
          ]
        },
        {
          "output_type": "stream",
          "name": "stderr",
          "text": [
            "<ipython-input-3-68620a792cc4>:26: RuntimeWarning: Limited 1 annotation(s) that were expanding outside the data range.\n",
            "  raw.set_annotations(annotations)\n",
            "<ipython-input-3-68620a792cc4>:23: RuntimeWarning: Channels contain different highpass filters. Highest filter setting will be stored.\n",
            "  raw = mne.io.read_raw_edf(os.path.join(data_folder, psg_file), preload=True, verbose=False)\n",
            "<ipython-input-3-68620a792cc4>:23: RuntimeWarning: Channels contain different lowpass filters. Lowest filter setting will be stored.\n",
            "  raw = mne.io.read_raw_edf(os.path.join(data_folder, psg_file), preload=True, verbose=False)\n",
            "<ipython-input-3-68620a792cc4>:23: RuntimeWarning: Highpass cutoff frequency 16.0 is greater than lowpass cutoff frequency 0.7, setting values to 0 and Nyquist.\n",
            "  raw = mne.io.read_raw_edf(os.path.join(data_folder, psg_file), preload=True, verbose=False)\n"
          ]
        },
        {
          "output_type": "stream",
          "name": "stdout",
          "text": [
            "NOTE: pick_channels() is a legacy function. New code should use inst.pick(...).\n"
          ]
        },
        {
          "output_type": "stream",
          "name": "stderr",
          "text": [
            "<ipython-input-3-68620a792cc4>:26: RuntimeWarning: Limited 1 annotation(s) that were expanding outside the data range.\n",
            "  raw.set_annotations(annotations)\n",
            "<ipython-input-3-68620a792cc4>:23: RuntimeWarning: Channels contain different highpass filters. Highest filter setting will be stored.\n",
            "  raw = mne.io.read_raw_edf(os.path.join(data_folder, psg_file), preload=True, verbose=False)\n",
            "<ipython-input-3-68620a792cc4>:23: RuntimeWarning: Channels contain different lowpass filters. Lowest filter setting will be stored.\n",
            "  raw = mne.io.read_raw_edf(os.path.join(data_folder, psg_file), preload=True, verbose=False)\n",
            "<ipython-input-3-68620a792cc4>:23: RuntimeWarning: Highpass cutoff frequency 16.0 is greater than lowpass cutoff frequency 0.7, setting values to 0 and Nyquist.\n",
            "  raw = mne.io.read_raw_edf(os.path.join(data_folder, psg_file), preload=True, verbose=False)\n"
          ]
        },
        {
          "output_type": "stream",
          "name": "stdout",
          "text": [
            "NOTE: pick_channels() is a legacy function. New code should use inst.pick(...).\n"
          ]
        },
        {
          "output_type": "stream",
          "name": "stderr",
          "text": [
            "<ipython-input-3-68620a792cc4>:26: RuntimeWarning: Limited 1 annotation(s) that were expanding outside the data range.\n",
            "  raw.set_annotations(annotations)\n",
            "<ipython-input-3-68620a792cc4>:23: RuntimeWarning: Channels contain different highpass filters. Highest filter setting will be stored.\n",
            "  raw = mne.io.read_raw_edf(os.path.join(data_folder, psg_file), preload=True, verbose=False)\n",
            "<ipython-input-3-68620a792cc4>:23: RuntimeWarning: Channels contain different lowpass filters. Lowest filter setting will be stored.\n",
            "  raw = mne.io.read_raw_edf(os.path.join(data_folder, psg_file), preload=True, verbose=False)\n",
            "<ipython-input-3-68620a792cc4>:23: RuntimeWarning: Highpass cutoff frequency 16.0 is greater than lowpass cutoff frequency 0.7, setting values to 0 and Nyquist.\n",
            "  raw = mne.io.read_raw_edf(os.path.join(data_folder, psg_file), preload=True, verbose=False)\n"
          ]
        },
        {
          "output_type": "stream",
          "name": "stdout",
          "text": [
            "NOTE: pick_channels() is a legacy function. New code should use inst.pick(...).\n"
          ]
        },
        {
          "output_type": "stream",
          "name": "stderr",
          "text": [
            "<ipython-input-3-68620a792cc4>:26: RuntimeWarning: Limited 1 annotation(s) that were expanding outside the data range.\n",
            "  raw.set_annotations(annotations)\n",
            "<ipython-input-3-68620a792cc4>:23: RuntimeWarning: Channels contain different highpass filters. Highest filter setting will be stored.\n",
            "  raw = mne.io.read_raw_edf(os.path.join(data_folder, psg_file), preload=True, verbose=False)\n",
            "<ipython-input-3-68620a792cc4>:23: RuntimeWarning: Channels contain different lowpass filters. Lowest filter setting will be stored.\n",
            "  raw = mne.io.read_raw_edf(os.path.join(data_folder, psg_file), preload=True, verbose=False)\n",
            "<ipython-input-3-68620a792cc4>:23: RuntimeWarning: Highpass cutoff frequency 16.0 is greater than lowpass cutoff frequency 0.7, setting values to 0 and Nyquist.\n",
            "  raw = mne.io.read_raw_edf(os.path.join(data_folder, psg_file), preload=True, verbose=False)\n"
          ]
        },
        {
          "output_type": "stream",
          "name": "stdout",
          "text": [
            "NOTE: pick_channels() is a legacy function. New code should use inst.pick(...).\n"
          ]
        },
        {
          "output_type": "stream",
          "name": "stderr",
          "text": [
            "<ipython-input-3-68620a792cc4>:26: RuntimeWarning: Limited 1 annotation(s) that were expanding outside the data range.\n",
            "  raw.set_annotations(annotations)\n",
            "<ipython-input-3-68620a792cc4>:23: RuntimeWarning: Channels contain different highpass filters. Highest filter setting will be stored.\n",
            "  raw = mne.io.read_raw_edf(os.path.join(data_folder, psg_file), preload=True, verbose=False)\n",
            "<ipython-input-3-68620a792cc4>:23: RuntimeWarning: Channels contain different lowpass filters. Lowest filter setting will be stored.\n",
            "  raw = mne.io.read_raw_edf(os.path.join(data_folder, psg_file), preload=True, verbose=False)\n",
            "<ipython-input-3-68620a792cc4>:23: RuntimeWarning: Highpass cutoff frequency 16.0 is greater than lowpass cutoff frequency 0.7, setting values to 0 and Nyquist.\n",
            "  raw = mne.io.read_raw_edf(os.path.join(data_folder, psg_file), preload=True, verbose=False)\n"
          ]
        },
        {
          "output_type": "stream",
          "name": "stdout",
          "text": [
            "NOTE: pick_channels() is a legacy function. New code should use inst.pick(...).\n"
          ]
        },
        {
          "output_type": "stream",
          "name": "stderr",
          "text": [
            "<ipython-input-3-68620a792cc4>:26: RuntimeWarning: Limited 1 annotation(s) that were expanding outside the data range.\n",
            "  raw.set_annotations(annotations)\n",
            "<ipython-input-3-68620a792cc4>:23: RuntimeWarning: Channels contain different highpass filters. Highest filter setting will be stored.\n",
            "  raw = mne.io.read_raw_edf(os.path.join(data_folder, psg_file), preload=True, verbose=False)\n",
            "<ipython-input-3-68620a792cc4>:23: RuntimeWarning: Channels contain different lowpass filters. Lowest filter setting will be stored.\n",
            "  raw = mne.io.read_raw_edf(os.path.join(data_folder, psg_file), preload=True, verbose=False)\n",
            "<ipython-input-3-68620a792cc4>:23: RuntimeWarning: Highpass cutoff frequency 16.0 is greater than lowpass cutoff frequency 0.7, setting values to 0 and Nyquist.\n",
            "  raw = mne.io.read_raw_edf(os.path.join(data_folder, psg_file), preload=True, verbose=False)\n"
          ]
        },
        {
          "output_type": "stream",
          "name": "stdout",
          "text": [
            "NOTE: pick_channels() is a legacy function. New code should use inst.pick(...).\n"
          ]
        },
        {
          "output_type": "stream",
          "name": "stderr",
          "text": [
            "<ipython-input-3-68620a792cc4>:26: RuntimeWarning: Limited 1 annotation(s) that were expanding outside the data range.\n",
            "  raw.set_annotations(annotations)\n",
            "<ipython-input-3-68620a792cc4>:23: RuntimeWarning: Channels contain different highpass filters. Highest filter setting will be stored.\n",
            "  raw = mne.io.read_raw_edf(os.path.join(data_folder, psg_file), preload=True, verbose=False)\n",
            "<ipython-input-3-68620a792cc4>:23: RuntimeWarning: Channels contain different lowpass filters. Lowest filter setting will be stored.\n",
            "  raw = mne.io.read_raw_edf(os.path.join(data_folder, psg_file), preload=True, verbose=False)\n",
            "<ipython-input-3-68620a792cc4>:23: RuntimeWarning: Highpass cutoff frequency 16.0 is greater than lowpass cutoff frequency 0.7, setting values to 0 and Nyquist.\n",
            "  raw = mne.io.read_raw_edf(os.path.join(data_folder, psg_file), preload=True, verbose=False)\n"
          ]
        },
        {
          "output_type": "stream",
          "name": "stdout",
          "text": [
            "NOTE: pick_channels() is a legacy function. New code should use inst.pick(...).\n"
          ]
        },
        {
          "output_type": "stream",
          "name": "stderr",
          "text": [
            "<ipython-input-3-68620a792cc4>:26: RuntimeWarning: Limited 1 annotation(s) that were expanding outside the data range.\n",
            "  raw.set_annotations(annotations)\n",
            "<ipython-input-3-68620a792cc4>:23: RuntimeWarning: Channels contain different highpass filters. Highest filter setting will be stored.\n",
            "  raw = mne.io.read_raw_edf(os.path.join(data_folder, psg_file), preload=True, verbose=False)\n",
            "<ipython-input-3-68620a792cc4>:23: RuntimeWarning: Channels contain different lowpass filters. Lowest filter setting will be stored.\n",
            "  raw = mne.io.read_raw_edf(os.path.join(data_folder, psg_file), preload=True, verbose=False)\n",
            "<ipython-input-3-68620a792cc4>:23: RuntimeWarning: Highpass cutoff frequency 16.0 is greater than lowpass cutoff frequency 0.7, setting values to 0 and Nyquist.\n",
            "  raw = mne.io.read_raw_edf(os.path.join(data_folder, psg_file), preload=True, verbose=False)\n"
          ]
        },
        {
          "output_type": "stream",
          "name": "stdout",
          "text": [
            "NOTE: pick_channels() is a legacy function. New code should use inst.pick(...).\n"
          ]
        },
        {
          "output_type": "stream",
          "name": "stderr",
          "text": [
            "<ipython-input-3-68620a792cc4>:26: RuntimeWarning: Limited 1 annotation(s) that were expanding outside the data range.\n",
            "  raw.set_annotations(annotations)\n",
            "<ipython-input-3-68620a792cc4>:23: RuntimeWarning: Channels contain different highpass filters. Highest filter setting will be stored.\n",
            "  raw = mne.io.read_raw_edf(os.path.join(data_folder, psg_file), preload=True, verbose=False)\n",
            "<ipython-input-3-68620a792cc4>:23: RuntimeWarning: Channels contain different lowpass filters. Lowest filter setting will be stored.\n",
            "  raw = mne.io.read_raw_edf(os.path.join(data_folder, psg_file), preload=True, verbose=False)\n",
            "<ipython-input-3-68620a792cc4>:23: RuntimeWarning: Highpass cutoff frequency 16.0 is greater than lowpass cutoff frequency 0.7, setting values to 0 and Nyquist.\n",
            "  raw = mne.io.read_raw_edf(os.path.join(data_folder, psg_file), preload=True, verbose=False)\n"
          ]
        },
        {
          "output_type": "stream",
          "name": "stdout",
          "text": [
            "NOTE: pick_channels() is a legacy function. New code should use inst.pick(...).\n"
          ]
        },
        {
          "output_type": "stream",
          "name": "stderr",
          "text": [
            "<ipython-input-3-68620a792cc4>:26: RuntimeWarning: Limited 1 annotation(s) that were expanding outside the data range.\n",
            "  raw.set_annotations(annotations)\n",
            "<ipython-input-3-68620a792cc4>:23: RuntimeWarning: Channels contain different highpass filters. Highest filter setting will be stored.\n",
            "  raw = mne.io.read_raw_edf(os.path.join(data_folder, psg_file), preload=True, verbose=False)\n",
            "<ipython-input-3-68620a792cc4>:23: RuntimeWarning: Channels contain different lowpass filters. Lowest filter setting will be stored.\n",
            "  raw = mne.io.read_raw_edf(os.path.join(data_folder, psg_file), preload=True, verbose=False)\n",
            "<ipython-input-3-68620a792cc4>:23: RuntimeWarning: Highpass cutoff frequency 16.0 is greater than lowpass cutoff frequency 0.7, setting values to 0 and Nyquist.\n",
            "  raw = mne.io.read_raw_edf(os.path.join(data_folder, psg_file), preload=True, verbose=False)\n"
          ]
        },
        {
          "output_type": "stream",
          "name": "stdout",
          "text": [
            "NOTE: pick_channels() is a legacy function. New code should use inst.pick(...).\n"
          ]
        },
        {
          "output_type": "stream",
          "name": "stderr",
          "text": [
            "<ipython-input-3-68620a792cc4>:26: RuntimeWarning: Limited 1 annotation(s) that were expanding outside the data range.\n",
            "  raw.set_annotations(annotations)\n",
            "<ipython-input-3-68620a792cc4>:23: RuntimeWarning: Channels contain different highpass filters. Highest filter setting will be stored.\n",
            "  raw = mne.io.read_raw_edf(os.path.join(data_folder, psg_file), preload=True, verbose=False)\n",
            "<ipython-input-3-68620a792cc4>:23: RuntimeWarning: Channels contain different lowpass filters. Lowest filter setting will be stored.\n",
            "  raw = mne.io.read_raw_edf(os.path.join(data_folder, psg_file), preload=True, verbose=False)\n",
            "<ipython-input-3-68620a792cc4>:23: RuntimeWarning: Highpass cutoff frequency 16.0 is greater than lowpass cutoff frequency 0.7, setting values to 0 and Nyquist.\n",
            "  raw = mne.io.read_raw_edf(os.path.join(data_folder, psg_file), preload=True, verbose=False)\n"
          ]
        },
        {
          "output_type": "stream",
          "name": "stdout",
          "text": [
            "NOTE: pick_channels() is a legacy function. New code should use inst.pick(...).\n"
          ]
        },
        {
          "output_type": "stream",
          "name": "stderr",
          "text": [
            "<ipython-input-3-68620a792cc4>:26: RuntimeWarning: Limited 1 annotation(s) that were expanding outside the data range.\n",
            "  raw.set_annotations(annotations)\n",
            "<ipython-input-3-68620a792cc4>:23: RuntimeWarning: Channels contain different highpass filters. Highest filter setting will be stored.\n",
            "  raw = mne.io.read_raw_edf(os.path.join(data_folder, psg_file), preload=True, verbose=False)\n",
            "<ipython-input-3-68620a792cc4>:23: RuntimeWarning: Channels contain different lowpass filters. Lowest filter setting will be stored.\n",
            "  raw = mne.io.read_raw_edf(os.path.join(data_folder, psg_file), preload=True, verbose=False)\n",
            "<ipython-input-3-68620a792cc4>:23: RuntimeWarning: Highpass cutoff frequency 16.0 is greater than lowpass cutoff frequency 0.7, setting values to 0 and Nyquist.\n",
            "  raw = mne.io.read_raw_edf(os.path.join(data_folder, psg_file), preload=True, verbose=False)\n"
          ]
        },
        {
          "output_type": "stream",
          "name": "stdout",
          "text": [
            "NOTE: pick_channels() is a legacy function. New code should use inst.pick(...).\n"
          ]
        },
        {
          "output_type": "stream",
          "name": "stderr",
          "text": [
            "<ipython-input-3-68620a792cc4>:26: RuntimeWarning: Limited 1 annotation(s) that were expanding outside the data range.\n",
            "  raw.set_annotations(annotations)\n",
            "<ipython-input-3-68620a792cc4>:23: RuntimeWarning: Channels contain different highpass filters. Highest filter setting will be stored.\n",
            "  raw = mne.io.read_raw_edf(os.path.join(data_folder, psg_file), preload=True, verbose=False)\n",
            "<ipython-input-3-68620a792cc4>:23: RuntimeWarning: Channels contain different lowpass filters. Lowest filter setting will be stored.\n",
            "  raw = mne.io.read_raw_edf(os.path.join(data_folder, psg_file), preload=True, verbose=False)\n",
            "<ipython-input-3-68620a792cc4>:23: RuntimeWarning: Highpass cutoff frequency 16.0 is greater than lowpass cutoff frequency 0.7, setting values to 0 and Nyquist.\n",
            "  raw = mne.io.read_raw_edf(os.path.join(data_folder, psg_file), preload=True, verbose=False)\n"
          ]
        },
        {
          "output_type": "stream",
          "name": "stdout",
          "text": [
            "NOTE: pick_channels() is a legacy function. New code should use inst.pick(...).\n"
          ]
        },
        {
          "output_type": "stream",
          "name": "stderr",
          "text": [
            "<ipython-input-3-68620a792cc4>:26: RuntimeWarning: Limited 1 annotation(s) that were expanding outside the data range.\n",
            "  raw.set_annotations(annotations)\n",
            "<ipython-input-3-68620a792cc4>:23: RuntimeWarning: Channels contain different highpass filters. Highest filter setting will be stored.\n",
            "  raw = mne.io.read_raw_edf(os.path.join(data_folder, psg_file), preload=True, verbose=False)\n",
            "<ipython-input-3-68620a792cc4>:23: RuntimeWarning: Channels contain different lowpass filters. Lowest filter setting will be stored.\n",
            "  raw = mne.io.read_raw_edf(os.path.join(data_folder, psg_file), preload=True, verbose=False)\n",
            "<ipython-input-3-68620a792cc4>:23: RuntimeWarning: Highpass cutoff frequency 16.0 is greater than lowpass cutoff frequency 0.7, setting values to 0 and Nyquist.\n",
            "  raw = mne.io.read_raw_edf(os.path.join(data_folder, psg_file), preload=True, verbose=False)\n"
          ]
        },
        {
          "output_type": "stream",
          "name": "stdout",
          "text": [
            "NOTE: pick_channels() is a legacy function. New code should use inst.pick(...).\n"
          ]
        },
        {
          "output_type": "stream",
          "name": "stderr",
          "text": [
            "<ipython-input-3-68620a792cc4>:26: RuntimeWarning: Limited 1 annotation(s) that were expanding outside the data range.\n",
            "  raw.set_annotations(annotations)\n",
            "<ipython-input-3-68620a792cc4>:23: RuntimeWarning: Channels contain different highpass filters. Highest filter setting will be stored.\n",
            "  raw = mne.io.read_raw_edf(os.path.join(data_folder, psg_file), preload=True, verbose=False)\n",
            "<ipython-input-3-68620a792cc4>:23: RuntimeWarning: Channels contain different lowpass filters. Lowest filter setting will be stored.\n",
            "  raw = mne.io.read_raw_edf(os.path.join(data_folder, psg_file), preload=True, verbose=False)\n",
            "<ipython-input-3-68620a792cc4>:23: RuntimeWarning: Highpass cutoff frequency 16.0 is greater than lowpass cutoff frequency 0.7, setting values to 0 and Nyquist.\n",
            "  raw = mne.io.read_raw_edf(os.path.join(data_folder, psg_file), preload=True, verbose=False)\n"
          ]
        },
        {
          "output_type": "stream",
          "name": "stdout",
          "text": [
            "NOTE: pick_channels() is a legacy function. New code should use inst.pick(...).\n"
          ]
        },
        {
          "output_type": "stream",
          "name": "stderr",
          "text": [
            "<ipython-input-3-68620a792cc4>:26: RuntimeWarning: Limited 1 annotation(s) that were expanding outside the data range.\n",
            "  raw.set_annotations(annotations)\n",
            "<ipython-input-3-68620a792cc4>:23: RuntimeWarning: Channels contain different highpass filters. Highest filter setting will be stored.\n",
            "  raw = mne.io.read_raw_edf(os.path.join(data_folder, psg_file), preload=True, verbose=False)\n",
            "<ipython-input-3-68620a792cc4>:23: RuntimeWarning: Channels contain different lowpass filters. Lowest filter setting will be stored.\n",
            "  raw = mne.io.read_raw_edf(os.path.join(data_folder, psg_file), preload=True, verbose=False)\n",
            "<ipython-input-3-68620a792cc4>:23: RuntimeWarning: Highpass cutoff frequency 16.0 is greater than lowpass cutoff frequency 0.7, setting values to 0 and Nyquist.\n",
            "  raw = mne.io.read_raw_edf(os.path.join(data_folder, psg_file), preload=True, verbose=False)\n"
          ]
        },
        {
          "output_type": "stream",
          "name": "stdout",
          "text": [
            "NOTE: pick_channels() is a legacy function. New code should use inst.pick(...).\n"
          ]
        },
        {
          "output_type": "stream",
          "name": "stderr",
          "text": [
            "<ipython-input-3-68620a792cc4>:26: RuntimeWarning: Limited 1 annotation(s) that were expanding outside the data range.\n",
            "  raw.set_annotations(annotations)\n",
            "<ipython-input-3-68620a792cc4>:23: RuntimeWarning: Channels contain different highpass filters. Highest filter setting will be stored.\n",
            "  raw = mne.io.read_raw_edf(os.path.join(data_folder, psg_file), preload=True, verbose=False)\n",
            "<ipython-input-3-68620a792cc4>:23: RuntimeWarning: Channels contain different lowpass filters. Lowest filter setting will be stored.\n",
            "  raw = mne.io.read_raw_edf(os.path.join(data_folder, psg_file), preload=True, verbose=False)\n",
            "<ipython-input-3-68620a792cc4>:23: RuntimeWarning: Highpass cutoff frequency 16.0 is greater than lowpass cutoff frequency 0.7, setting values to 0 and Nyquist.\n",
            "  raw = mne.io.read_raw_edf(os.path.join(data_folder, psg_file), preload=True, verbose=False)\n"
          ]
        },
        {
          "output_type": "stream",
          "name": "stdout",
          "text": [
            "NOTE: pick_channels() is a legacy function. New code should use inst.pick(...).\n"
          ]
        },
        {
          "output_type": "stream",
          "name": "stderr",
          "text": [
            "<ipython-input-3-68620a792cc4>:26: RuntimeWarning: Limited 1 annotation(s) that were expanding outside the data range.\n",
            "  raw.set_annotations(annotations)\n",
            "<ipython-input-3-68620a792cc4>:23: RuntimeWarning: Channels contain different highpass filters. Highest filter setting will be stored.\n",
            "  raw = mne.io.read_raw_edf(os.path.join(data_folder, psg_file), preload=True, verbose=False)\n",
            "<ipython-input-3-68620a792cc4>:23: RuntimeWarning: Channels contain different lowpass filters. Lowest filter setting will be stored.\n",
            "  raw = mne.io.read_raw_edf(os.path.join(data_folder, psg_file), preload=True, verbose=False)\n",
            "<ipython-input-3-68620a792cc4>:23: RuntimeWarning: Highpass cutoff frequency 16.0 is greater than lowpass cutoff frequency 0.7, setting values to 0 and Nyquist.\n",
            "  raw = mne.io.read_raw_edf(os.path.join(data_folder, psg_file), preload=True, verbose=False)\n"
          ]
        },
        {
          "output_type": "stream",
          "name": "stdout",
          "text": [
            "NOTE: pick_channels() is a legacy function. New code should use inst.pick(...).\n"
          ]
        },
        {
          "output_type": "stream",
          "name": "stderr",
          "text": [
            "<ipython-input-3-68620a792cc4>:26: RuntimeWarning: Limited 1 annotation(s) that were expanding outside the data range.\n",
            "  raw.set_annotations(annotations)\n",
            "<ipython-input-3-68620a792cc4>:23: RuntimeWarning: Channels contain different highpass filters. Highest filter setting will be stored.\n",
            "  raw = mne.io.read_raw_edf(os.path.join(data_folder, psg_file), preload=True, verbose=False)\n",
            "<ipython-input-3-68620a792cc4>:23: RuntimeWarning: Channels contain different lowpass filters. Lowest filter setting will be stored.\n",
            "  raw = mne.io.read_raw_edf(os.path.join(data_folder, psg_file), preload=True, verbose=False)\n",
            "<ipython-input-3-68620a792cc4>:23: RuntimeWarning: Highpass cutoff frequency 16.0 is greater than lowpass cutoff frequency 0.7, setting values to 0 and Nyquist.\n",
            "  raw = mne.io.read_raw_edf(os.path.join(data_folder, psg_file), preload=True, verbose=False)\n"
          ]
        },
        {
          "output_type": "stream",
          "name": "stdout",
          "text": [
            "NOTE: pick_channels() is a legacy function. New code should use inst.pick(...).\n"
          ]
        },
        {
          "output_type": "stream",
          "name": "stderr",
          "text": [
            "<ipython-input-3-68620a792cc4>:26: RuntimeWarning: Limited 1 annotation(s) that were expanding outside the data range.\n",
            "  raw.set_annotations(annotations)\n",
            "<ipython-input-3-68620a792cc4>:23: RuntimeWarning: Channels contain different highpass filters. Highest filter setting will be stored.\n",
            "  raw = mne.io.read_raw_edf(os.path.join(data_folder, psg_file), preload=True, verbose=False)\n",
            "<ipython-input-3-68620a792cc4>:23: RuntimeWarning: Channels contain different lowpass filters. Lowest filter setting will be stored.\n",
            "  raw = mne.io.read_raw_edf(os.path.join(data_folder, psg_file), preload=True, verbose=False)\n",
            "<ipython-input-3-68620a792cc4>:23: RuntimeWarning: Highpass cutoff frequency 16.0 is greater than lowpass cutoff frequency 0.7, setting values to 0 and Nyquist.\n",
            "  raw = mne.io.read_raw_edf(os.path.join(data_folder, psg_file), preload=True, verbose=False)\n"
          ]
        },
        {
          "output_type": "stream",
          "name": "stdout",
          "text": [
            "NOTE: pick_channels() is a legacy function. New code should use inst.pick(...).\n"
          ]
        },
        {
          "output_type": "stream",
          "name": "stderr",
          "text": [
            "<ipython-input-3-68620a792cc4>:26: RuntimeWarning: Limited 1 annotation(s) that were expanding outside the data range.\n",
            "  raw.set_annotations(annotations)\n",
            "<ipython-input-3-68620a792cc4>:23: RuntimeWarning: Channels contain different highpass filters. Highest filter setting will be stored.\n",
            "  raw = mne.io.read_raw_edf(os.path.join(data_folder, psg_file), preload=True, verbose=False)\n",
            "<ipython-input-3-68620a792cc4>:23: RuntimeWarning: Channels contain different lowpass filters. Lowest filter setting will be stored.\n",
            "  raw = mne.io.read_raw_edf(os.path.join(data_folder, psg_file), preload=True, verbose=False)\n",
            "<ipython-input-3-68620a792cc4>:23: RuntimeWarning: Highpass cutoff frequency 16.0 is greater than lowpass cutoff frequency 0.7, setting values to 0 and Nyquist.\n",
            "  raw = mne.io.read_raw_edf(os.path.join(data_folder, psg_file), preload=True, verbose=False)\n"
          ]
        },
        {
          "output_type": "stream",
          "name": "stdout",
          "text": [
            "NOTE: pick_channels() is a legacy function. New code should use inst.pick(...).\n"
          ]
        },
        {
          "output_type": "stream",
          "name": "stderr",
          "text": [
            "<ipython-input-3-68620a792cc4>:26: RuntimeWarning: Limited 1 annotation(s) that were expanding outside the data range.\n",
            "  raw.set_annotations(annotations)\n",
            "<ipython-input-3-68620a792cc4>:23: RuntimeWarning: Channels contain different highpass filters. Highest filter setting will be stored.\n",
            "  raw = mne.io.read_raw_edf(os.path.join(data_folder, psg_file), preload=True, verbose=False)\n",
            "<ipython-input-3-68620a792cc4>:23: RuntimeWarning: Channels contain different lowpass filters. Lowest filter setting will be stored.\n",
            "  raw = mne.io.read_raw_edf(os.path.join(data_folder, psg_file), preload=True, verbose=False)\n",
            "<ipython-input-3-68620a792cc4>:23: RuntimeWarning: Highpass cutoff frequency 16.0 is greater than lowpass cutoff frequency 0.7, setting values to 0 and Nyquist.\n",
            "  raw = mne.io.read_raw_edf(os.path.join(data_folder, psg_file), preload=True, verbose=False)\n"
          ]
        },
        {
          "output_type": "stream",
          "name": "stdout",
          "text": [
            "NOTE: pick_channels() is a legacy function. New code should use inst.pick(...).\n"
          ]
        },
        {
          "output_type": "stream",
          "name": "stderr",
          "text": [
            "<ipython-input-3-68620a792cc4>:26: RuntimeWarning: Limited 1 annotation(s) that were expanding outside the data range.\n",
            "  raw.set_annotations(annotations)\n",
            "<ipython-input-3-68620a792cc4>:23: RuntimeWarning: Channels contain different highpass filters. Highest filter setting will be stored.\n",
            "  raw = mne.io.read_raw_edf(os.path.join(data_folder, psg_file), preload=True, verbose=False)\n",
            "<ipython-input-3-68620a792cc4>:23: RuntimeWarning: Channels contain different lowpass filters. Lowest filter setting will be stored.\n",
            "  raw = mne.io.read_raw_edf(os.path.join(data_folder, psg_file), preload=True, verbose=False)\n",
            "<ipython-input-3-68620a792cc4>:23: RuntimeWarning: Highpass cutoff frequency 16.0 is greater than lowpass cutoff frequency 0.7, setting values to 0 and Nyquist.\n",
            "  raw = mne.io.read_raw_edf(os.path.join(data_folder, psg_file), preload=True, verbose=False)\n"
          ]
        },
        {
          "output_type": "stream",
          "name": "stdout",
          "text": [
            "NOTE: pick_channels() is a legacy function. New code should use inst.pick(...).\n"
          ]
        },
        {
          "output_type": "stream",
          "name": "stderr",
          "text": [
            "<ipython-input-3-68620a792cc4>:26: RuntimeWarning: Limited 1 annotation(s) that were expanding outside the data range.\n",
            "  raw.set_annotations(annotations)\n",
            "<ipython-input-3-68620a792cc4>:23: RuntimeWarning: Channels contain different highpass filters. Highest filter setting will be stored.\n",
            "  raw = mne.io.read_raw_edf(os.path.join(data_folder, psg_file), preload=True, verbose=False)\n",
            "<ipython-input-3-68620a792cc4>:23: RuntimeWarning: Channels contain different lowpass filters. Lowest filter setting will be stored.\n",
            "  raw = mne.io.read_raw_edf(os.path.join(data_folder, psg_file), preload=True, verbose=False)\n",
            "<ipython-input-3-68620a792cc4>:23: RuntimeWarning: Highpass cutoff frequency 16.0 is greater than lowpass cutoff frequency 0.7, setting values to 0 and Nyquist.\n",
            "  raw = mne.io.read_raw_edf(os.path.join(data_folder, psg_file), preload=True, verbose=False)\n"
          ]
        },
        {
          "output_type": "stream",
          "name": "stdout",
          "text": [
            "NOTE: pick_channels() is a legacy function. New code should use inst.pick(...).\n"
          ]
        },
        {
          "output_type": "stream",
          "name": "stderr",
          "text": [
            "<ipython-input-3-68620a792cc4>:26: RuntimeWarning: Limited 1 annotation(s) that were expanding outside the data range.\n",
            "  raw.set_annotations(annotations)\n",
            "<ipython-input-3-68620a792cc4>:23: RuntimeWarning: Channels contain different highpass filters. Highest filter setting will be stored.\n",
            "  raw = mne.io.read_raw_edf(os.path.join(data_folder, psg_file), preload=True, verbose=False)\n",
            "<ipython-input-3-68620a792cc4>:23: RuntimeWarning: Channels contain different lowpass filters. Lowest filter setting will be stored.\n",
            "  raw = mne.io.read_raw_edf(os.path.join(data_folder, psg_file), preload=True, verbose=False)\n",
            "<ipython-input-3-68620a792cc4>:23: RuntimeWarning: Highpass cutoff frequency 16.0 is greater than lowpass cutoff frequency 0.7, setting values to 0 and Nyquist.\n",
            "  raw = mne.io.read_raw_edf(os.path.join(data_folder, psg_file), preload=True, verbose=False)\n"
          ]
        },
        {
          "output_type": "stream",
          "name": "stdout",
          "text": [
            "NOTE: pick_channels() is a legacy function. New code should use inst.pick(...).\n"
          ]
        },
        {
          "output_type": "stream",
          "name": "stderr",
          "text": [
            "<ipython-input-3-68620a792cc4>:26: RuntimeWarning: Limited 1 annotation(s) that were expanding outside the data range.\n",
            "  raw.set_annotations(annotations)\n",
            "<ipython-input-3-68620a792cc4>:23: RuntimeWarning: Channels contain different highpass filters. Highest filter setting will be stored.\n",
            "  raw = mne.io.read_raw_edf(os.path.join(data_folder, psg_file), preload=True, verbose=False)\n",
            "<ipython-input-3-68620a792cc4>:23: RuntimeWarning: Channels contain different lowpass filters. Lowest filter setting will be stored.\n",
            "  raw = mne.io.read_raw_edf(os.path.join(data_folder, psg_file), preload=True, verbose=False)\n",
            "<ipython-input-3-68620a792cc4>:23: RuntimeWarning: Highpass cutoff frequency 16.0 is greater than lowpass cutoff frequency 0.7, setting values to 0 and Nyquist.\n",
            "  raw = mne.io.read_raw_edf(os.path.join(data_folder, psg_file), preload=True, verbose=False)\n"
          ]
        },
        {
          "output_type": "stream",
          "name": "stdout",
          "text": [
            "NOTE: pick_channels() is a legacy function. New code should use inst.pick(...).\n"
          ]
        },
        {
          "output_type": "stream",
          "name": "stderr",
          "text": [
            "<ipython-input-3-68620a792cc4>:26: RuntimeWarning: Limited 1 annotation(s) that were expanding outside the data range.\n",
            "  raw.set_annotations(annotations)\n",
            "<ipython-input-3-68620a792cc4>:23: RuntimeWarning: Channels contain different highpass filters. Highest filter setting will be stored.\n",
            "  raw = mne.io.read_raw_edf(os.path.join(data_folder, psg_file), preload=True, verbose=False)\n",
            "<ipython-input-3-68620a792cc4>:23: RuntimeWarning: Channels contain different lowpass filters. Lowest filter setting will be stored.\n",
            "  raw = mne.io.read_raw_edf(os.path.join(data_folder, psg_file), preload=True, verbose=False)\n",
            "<ipython-input-3-68620a792cc4>:23: RuntimeWarning: Highpass cutoff frequency 16.0 is greater than lowpass cutoff frequency 0.7, setting values to 0 and Nyquist.\n",
            "  raw = mne.io.read_raw_edf(os.path.join(data_folder, psg_file), preload=True, verbose=False)\n"
          ]
        },
        {
          "output_type": "stream",
          "name": "stdout",
          "text": [
            "NOTE: pick_channels() is a legacy function. New code should use inst.pick(...).\n"
          ]
        },
        {
          "output_type": "stream",
          "name": "stderr",
          "text": [
            "<ipython-input-3-68620a792cc4>:26: RuntimeWarning: Limited 1 annotation(s) that were expanding outside the data range.\n",
            "  raw.set_annotations(annotations)\n",
            "<ipython-input-3-68620a792cc4>:23: RuntimeWarning: Channels contain different highpass filters. Highest filter setting will be stored.\n",
            "  raw = mne.io.read_raw_edf(os.path.join(data_folder, psg_file), preload=True, verbose=False)\n",
            "<ipython-input-3-68620a792cc4>:23: RuntimeWarning: Channels contain different lowpass filters. Lowest filter setting will be stored.\n",
            "  raw = mne.io.read_raw_edf(os.path.join(data_folder, psg_file), preload=True, verbose=False)\n",
            "<ipython-input-3-68620a792cc4>:23: RuntimeWarning: Highpass cutoff frequency 16.0 is greater than lowpass cutoff frequency 0.7, setting values to 0 and Nyquist.\n",
            "  raw = mne.io.read_raw_edf(os.path.join(data_folder, psg_file), preload=True, verbose=False)\n"
          ]
        },
        {
          "output_type": "stream",
          "name": "stdout",
          "text": [
            "NOTE: pick_channels() is a legacy function. New code should use inst.pick(...).\n"
          ]
        },
        {
          "output_type": "stream",
          "name": "stderr",
          "text": [
            "<ipython-input-3-68620a792cc4>:26: RuntimeWarning: Limited 1 annotation(s) that were expanding outside the data range.\n",
            "  raw.set_annotations(annotations)\n",
            "<ipython-input-3-68620a792cc4>:23: RuntimeWarning: Channels contain different highpass filters. Highest filter setting will be stored.\n",
            "  raw = mne.io.read_raw_edf(os.path.join(data_folder, psg_file), preload=True, verbose=False)\n",
            "<ipython-input-3-68620a792cc4>:23: RuntimeWarning: Channels contain different lowpass filters. Lowest filter setting will be stored.\n",
            "  raw = mne.io.read_raw_edf(os.path.join(data_folder, psg_file), preload=True, verbose=False)\n",
            "<ipython-input-3-68620a792cc4>:23: RuntimeWarning: Highpass cutoff frequency 16.0 is greater than lowpass cutoff frequency 0.7, setting values to 0 and Nyquist.\n",
            "  raw = mne.io.read_raw_edf(os.path.join(data_folder, psg_file), preload=True, verbose=False)\n"
          ]
        },
        {
          "output_type": "stream",
          "name": "stdout",
          "text": [
            "NOTE: pick_channels() is a legacy function. New code should use inst.pick(...).\n"
          ]
        },
        {
          "output_type": "stream",
          "name": "stderr",
          "text": [
            "<ipython-input-3-68620a792cc4>:26: RuntimeWarning: Limited 1 annotation(s) that were expanding outside the data range.\n",
            "  raw.set_annotations(annotations)\n",
            "<ipython-input-3-68620a792cc4>:23: RuntimeWarning: Channels contain different highpass filters. Highest filter setting will be stored.\n",
            "  raw = mne.io.read_raw_edf(os.path.join(data_folder, psg_file), preload=True, verbose=False)\n",
            "<ipython-input-3-68620a792cc4>:23: RuntimeWarning: Channels contain different lowpass filters. Lowest filter setting will be stored.\n",
            "  raw = mne.io.read_raw_edf(os.path.join(data_folder, psg_file), preload=True, verbose=False)\n",
            "<ipython-input-3-68620a792cc4>:23: RuntimeWarning: Highpass cutoff frequency 16.0 is greater than lowpass cutoff frequency 0.7, setting values to 0 and Nyquist.\n",
            "  raw = mne.io.read_raw_edf(os.path.join(data_folder, psg_file), preload=True, verbose=False)\n"
          ]
        },
        {
          "output_type": "stream",
          "name": "stdout",
          "text": [
            "NOTE: pick_channels() is a legacy function. New code should use inst.pick(...).\n"
          ]
        },
        {
          "output_type": "stream",
          "name": "stderr",
          "text": [
            "<ipython-input-3-68620a792cc4>:26: RuntimeWarning: Limited 1 annotation(s) that were expanding outside the data range.\n",
            "  raw.set_annotations(annotations)\n",
            "<ipython-input-3-68620a792cc4>:23: RuntimeWarning: Channels contain different highpass filters. Highest filter setting will be stored.\n",
            "  raw = mne.io.read_raw_edf(os.path.join(data_folder, psg_file), preload=True, verbose=False)\n",
            "<ipython-input-3-68620a792cc4>:23: RuntimeWarning: Channels contain different lowpass filters. Lowest filter setting will be stored.\n",
            "  raw = mne.io.read_raw_edf(os.path.join(data_folder, psg_file), preload=True, verbose=False)\n",
            "<ipython-input-3-68620a792cc4>:23: RuntimeWarning: Highpass cutoff frequency 16.0 is greater than lowpass cutoff frequency 0.7, setting values to 0 and Nyquist.\n",
            "  raw = mne.io.read_raw_edf(os.path.join(data_folder, psg_file), preload=True, verbose=False)\n"
          ]
        },
        {
          "output_type": "stream",
          "name": "stdout",
          "text": [
            "NOTE: pick_channels() is a legacy function. New code should use inst.pick(...).\n"
          ]
        },
        {
          "output_type": "stream",
          "name": "stderr",
          "text": [
            "<ipython-input-3-68620a792cc4>:26: RuntimeWarning: Limited 1 annotation(s) that were expanding outside the data range.\n",
            "  raw.set_annotations(annotations)\n",
            "<ipython-input-3-68620a792cc4>:23: RuntimeWarning: Channels contain different highpass filters. Highest filter setting will be stored.\n",
            "  raw = mne.io.read_raw_edf(os.path.join(data_folder, psg_file), preload=True, verbose=False)\n",
            "<ipython-input-3-68620a792cc4>:23: RuntimeWarning: Channels contain different lowpass filters. Lowest filter setting will be stored.\n",
            "  raw = mne.io.read_raw_edf(os.path.join(data_folder, psg_file), preload=True, verbose=False)\n",
            "<ipython-input-3-68620a792cc4>:23: RuntimeWarning: Highpass cutoff frequency 16.0 is greater than lowpass cutoff frequency 0.7, setting values to 0 and Nyquist.\n",
            "  raw = mne.io.read_raw_edf(os.path.join(data_folder, psg_file), preload=True, verbose=False)\n"
          ]
        },
        {
          "output_type": "stream",
          "name": "stdout",
          "text": [
            "NOTE: pick_channels() is a legacy function. New code should use inst.pick(...).\n"
          ]
        },
        {
          "output_type": "stream",
          "name": "stderr",
          "text": [
            "<ipython-input-3-68620a792cc4>:26: RuntimeWarning: Limited 1 annotation(s) that were expanding outside the data range.\n",
            "  raw.set_annotations(annotations)\n",
            "<ipython-input-3-68620a792cc4>:23: RuntimeWarning: Channels contain different highpass filters. Highest filter setting will be stored.\n",
            "  raw = mne.io.read_raw_edf(os.path.join(data_folder, psg_file), preload=True, verbose=False)\n",
            "<ipython-input-3-68620a792cc4>:23: RuntimeWarning: Channels contain different lowpass filters. Lowest filter setting will be stored.\n",
            "  raw = mne.io.read_raw_edf(os.path.join(data_folder, psg_file), preload=True, verbose=False)\n",
            "<ipython-input-3-68620a792cc4>:23: RuntimeWarning: Highpass cutoff frequency 16.0 is greater than lowpass cutoff frequency 0.7, setting values to 0 and Nyquist.\n",
            "  raw = mne.io.read_raw_edf(os.path.join(data_folder, psg_file), preload=True, verbose=False)\n"
          ]
        },
        {
          "output_type": "stream",
          "name": "stdout",
          "text": [
            "NOTE: pick_channels() is a legacy function. New code should use inst.pick(...).\n"
          ]
        },
        {
          "output_type": "stream",
          "name": "stderr",
          "text": [
            "<ipython-input-3-68620a792cc4>:26: RuntimeWarning: Limited 1 annotation(s) that were expanding outside the data range.\n",
            "  raw.set_annotations(annotations)\n",
            "<ipython-input-3-68620a792cc4>:23: RuntimeWarning: Channels contain different highpass filters. Highest filter setting will be stored.\n",
            "  raw = mne.io.read_raw_edf(os.path.join(data_folder, psg_file), preload=True, verbose=False)\n",
            "<ipython-input-3-68620a792cc4>:23: RuntimeWarning: Channels contain different lowpass filters. Lowest filter setting will be stored.\n",
            "  raw = mne.io.read_raw_edf(os.path.join(data_folder, psg_file), preload=True, verbose=False)\n",
            "<ipython-input-3-68620a792cc4>:23: RuntimeWarning: Highpass cutoff frequency 16.0 is greater than lowpass cutoff frequency 0.7, setting values to 0 and Nyquist.\n",
            "  raw = mne.io.read_raw_edf(os.path.join(data_folder, psg_file), preload=True, verbose=False)\n"
          ]
        },
        {
          "output_type": "stream",
          "name": "stdout",
          "text": [
            "NOTE: pick_channels() is a legacy function. New code should use inst.pick(...).\n"
          ]
        },
        {
          "output_type": "stream",
          "name": "stderr",
          "text": [
            "<ipython-input-3-68620a792cc4>:26: RuntimeWarning: Limited 1 annotation(s) that were expanding outside the data range.\n",
            "  raw.set_annotations(annotations)\n",
            "<ipython-input-3-68620a792cc4>:23: RuntimeWarning: Channels contain different highpass filters. Highest filter setting will be stored.\n",
            "  raw = mne.io.read_raw_edf(os.path.join(data_folder, psg_file), preload=True, verbose=False)\n",
            "<ipython-input-3-68620a792cc4>:23: RuntimeWarning: Channels contain different lowpass filters. Lowest filter setting will be stored.\n",
            "  raw = mne.io.read_raw_edf(os.path.join(data_folder, psg_file), preload=True, verbose=False)\n",
            "<ipython-input-3-68620a792cc4>:23: RuntimeWarning: Highpass cutoff frequency 16.0 is greater than lowpass cutoff frequency 0.7, setting values to 0 and Nyquist.\n",
            "  raw = mne.io.read_raw_edf(os.path.join(data_folder, psg_file), preload=True, verbose=False)\n"
          ]
        },
        {
          "output_type": "stream",
          "name": "stdout",
          "text": [
            "NOTE: pick_channels() is a legacy function. New code should use inst.pick(...).\n"
          ]
        },
        {
          "output_type": "stream",
          "name": "stderr",
          "text": [
            "<ipython-input-3-68620a792cc4>:26: RuntimeWarning: Limited 1 annotation(s) that were expanding outside the data range.\n",
            "  raw.set_annotations(annotations)\n",
            "<ipython-input-3-68620a792cc4>:23: RuntimeWarning: Channels contain different highpass filters. Highest filter setting will be stored.\n",
            "  raw = mne.io.read_raw_edf(os.path.join(data_folder, psg_file), preload=True, verbose=False)\n",
            "<ipython-input-3-68620a792cc4>:23: RuntimeWarning: Channels contain different lowpass filters. Lowest filter setting will be stored.\n",
            "  raw = mne.io.read_raw_edf(os.path.join(data_folder, psg_file), preload=True, verbose=False)\n",
            "<ipython-input-3-68620a792cc4>:23: RuntimeWarning: Highpass cutoff frequency 16.0 is greater than lowpass cutoff frequency 0.7, setting values to 0 and Nyquist.\n",
            "  raw = mne.io.read_raw_edf(os.path.join(data_folder, psg_file), preload=True, verbose=False)\n"
          ]
        },
        {
          "output_type": "stream",
          "name": "stdout",
          "text": [
            "NOTE: pick_channels() is a legacy function. New code should use inst.pick(...).\n"
          ]
        },
        {
          "output_type": "stream",
          "name": "stderr",
          "text": [
            "<ipython-input-3-68620a792cc4>:26: RuntimeWarning: Limited 1 annotation(s) that were expanding outside the data range.\n",
            "  raw.set_annotations(annotations)\n",
            "<ipython-input-3-68620a792cc4>:23: RuntimeWarning: Channels contain different highpass filters. Highest filter setting will be stored.\n",
            "  raw = mne.io.read_raw_edf(os.path.join(data_folder, psg_file), preload=True, verbose=False)\n",
            "<ipython-input-3-68620a792cc4>:23: RuntimeWarning: Channels contain different lowpass filters. Lowest filter setting will be stored.\n",
            "  raw = mne.io.read_raw_edf(os.path.join(data_folder, psg_file), preload=True, verbose=False)\n",
            "<ipython-input-3-68620a792cc4>:23: RuntimeWarning: Highpass cutoff frequency 16.0 is greater than lowpass cutoff frequency 0.7, setting values to 0 and Nyquist.\n",
            "  raw = mne.io.read_raw_edf(os.path.join(data_folder, psg_file), preload=True, verbose=False)\n"
          ]
        },
        {
          "output_type": "stream",
          "name": "stdout",
          "text": [
            "NOTE: pick_channels() is a legacy function. New code should use inst.pick(...).\n"
          ]
        },
        {
          "output_type": "stream",
          "name": "stderr",
          "text": [
            "<ipython-input-3-68620a792cc4>:26: RuntimeWarning: Limited 1 annotation(s) that were expanding outside the data range.\n",
            "  raw.set_annotations(annotations)\n",
            "<ipython-input-3-68620a792cc4>:23: RuntimeWarning: Channels contain different highpass filters. Highest filter setting will be stored.\n",
            "  raw = mne.io.read_raw_edf(os.path.join(data_folder, psg_file), preload=True, verbose=False)\n",
            "<ipython-input-3-68620a792cc4>:23: RuntimeWarning: Channels contain different lowpass filters. Lowest filter setting will be stored.\n",
            "  raw = mne.io.read_raw_edf(os.path.join(data_folder, psg_file), preload=True, verbose=False)\n",
            "<ipython-input-3-68620a792cc4>:23: RuntimeWarning: Highpass cutoff frequency 16.0 is greater than lowpass cutoff frequency 0.7, setting values to 0 and Nyquist.\n",
            "  raw = mne.io.read_raw_edf(os.path.join(data_folder, psg_file), preload=True, verbose=False)\n"
          ]
        },
        {
          "output_type": "stream",
          "name": "stdout",
          "text": [
            "NOTE: pick_channels() is a legacy function. New code should use inst.pick(...).\n"
          ]
        },
        {
          "output_type": "stream",
          "name": "stderr",
          "text": [
            "<ipython-input-3-68620a792cc4>:26: RuntimeWarning: Limited 1 annotation(s) that were expanding outside the data range.\n",
            "  raw.set_annotations(annotations)\n",
            "<ipython-input-3-68620a792cc4>:23: RuntimeWarning: Channels contain different highpass filters. Highest filter setting will be stored.\n",
            "  raw = mne.io.read_raw_edf(os.path.join(data_folder, psg_file), preload=True, verbose=False)\n",
            "<ipython-input-3-68620a792cc4>:23: RuntimeWarning: Channels contain different lowpass filters. Lowest filter setting will be stored.\n",
            "  raw = mne.io.read_raw_edf(os.path.join(data_folder, psg_file), preload=True, verbose=False)\n",
            "<ipython-input-3-68620a792cc4>:23: RuntimeWarning: Highpass cutoff frequency 16.0 is greater than lowpass cutoff frequency 0.7, setting values to 0 and Nyquist.\n",
            "  raw = mne.io.read_raw_edf(os.path.join(data_folder, psg_file), preload=True, verbose=False)\n"
          ]
        },
        {
          "output_type": "stream",
          "name": "stdout",
          "text": [
            "NOTE: pick_channels() is a legacy function. New code should use inst.pick(...).\n"
          ]
        },
        {
          "output_type": "stream",
          "name": "stderr",
          "text": [
            "<ipython-input-3-68620a792cc4>:26: RuntimeWarning: Limited 1 annotation(s) that were expanding outside the data range.\n",
            "  raw.set_annotations(annotations)\n",
            "<ipython-input-3-68620a792cc4>:23: RuntimeWarning: Channels contain different highpass filters. Highest filter setting will be stored.\n",
            "  raw = mne.io.read_raw_edf(os.path.join(data_folder, psg_file), preload=True, verbose=False)\n",
            "<ipython-input-3-68620a792cc4>:23: RuntimeWarning: Channels contain different lowpass filters. Lowest filter setting will be stored.\n",
            "  raw = mne.io.read_raw_edf(os.path.join(data_folder, psg_file), preload=True, verbose=False)\n",
            "<ipython-input-3-68620a792cc4>:23: RuntimeWarning: Highpass cutoff frequency 16.0 is greater than lowpass cutoff frequency 0.7, setting values to 0 and Nyquist.\n",
            "  raw = mne.io.read_raw_edf(os.path.join(data_folder, psg_file), preload=True, verbose=False)\n"
          ]
        },
        {
          "output_type": "stream",
          "name": "stdout",
          "text": [
            "NOTE: pick_channels() is a legacy function. New code should use inst.pick(...).\n"
          ]
        },
        {
          "output_type": "stream",
          "name": "stderr",
          "text": [
            "<ipython-input-3-68620a792cc4>:26: RuntimeWarning: Limited 1 annotation(s) that were expanding outside the data range.\n",
            "  raw.set_annotations(annotations)\n",
            "<ipython-input-3-68620a792cc4>:23: RuntimeWarning: Channels contain different highpass filters. Highest filter setting will be stored.\n",
            "  raw = mne.io.read_raw_edf(os.path.join(data_folder, psg_file), preload=True, verbose=False)\n",
            "<ipython-input-3-68620a792cc4>:23: RuntimeWarning: Channels contain different lowpass filters. Lowest filter setting will be stored.\n",
            "  raw = mne.io.read_raw_edf(os.path.join(data_folder, psg_file), preload=True, verbose=False)\n",
            "<ipython-input-3-68620a792cc4>:23: RuntimeWarning: Highpass cutoff frequency 16.0 is greater than lowpass cutoff frequency 0.7, setting values to 0 and Nyquist.\n",
            "  raw = mne.io.read_raw_edf(os.path.join(data_folder, psg_file), preload=True, verbose=False)\n"
          ]
        },
        {
          "output_type": "stream",
          "name": "stdout",
          "text": [
            "NOTE: pick_channels() is a legacy function. New code should use inst.pick(...).\n"
          ]
        },
        {
          "output_type": "stream",
          "name": "stderr",
          "text": [
            "<ipython-input-3-68620a792cc4>:26: RuntimeWarning: Limited 1 annotation(s) that were expanding outside the data range.\n",
            "  raw.set_annotations(annotations)\n",
            "<ipython-input-3-68620a792cc4>:23: RuntimeWarning: Channels contain different highpass filters. Highest filter setting will be stored.\n",
            "  raw = mne.io.read_raw_edf(os.path.join(data_folder, psg_file), preload=True, verbose=False)\n",
            "<ipython-input-3-68620a792cc4>:23: RuntimeWarning: Channels contain different lowpass filters. Lowest filter setting will be stored.\n",
            "  raw = mne.io.read_raw_edf(os.path.join(data_folder, psg_file), preload=True, verbose=False)\n",
            "<ipython-input-3-68620a792cc4>:23: RuntimeWarning: Highpass cutoff frequency 16.0 is greater than lowpass cutoff frequency 0.7, setting values to 0 and Nyquist.\n",
            "  raw = mne.io.read_raw_edf(os.path.join(data_folder, psg_file), preload=True, verbose=False)\n"
          ]
        },
        {
          "output_type": "stream",
          "name": "stdout",
          "text": [
            "NOTE: pick_channels() is a legacy function. New code should use inst.pick(...).\n"
          ]
        },
        {
          "output_type": "stream",
          "name": "stderr",
          "text": [
            "<ipython-input-3-68620a792cc4>:26: RuntimeWarning: Limited 1 annotation(s) that were expanding outside the data range.\n",
            "  raw.set_annotations(annotations)\n",
            "<ipython-input-3-68620a792cc4>:23: RuntimeWarning: Channels contain different highpass filters. Highest filter setting will be stored.\n",
            "  raw = mne.io.read_raw_edf(os.path.join(data_folder, psg_file), preload=True, verbose=False)\n",
            "<ipython-input-3-68620a792cc4>:23: RuntimeWarning: Channels contain different lowpass filters. Lowest filter setting will be stored.\n",
            "  raw = mne.io.read_raw_edf(os.path.join(data_folder, psg_file), preload=True, verbose=False)\n",
            "<ipython-input-3-68620a792cc4>:23: RuntimeWarning: Highpass cutoff frequency 16.0 is greater than lowpass cutoff frequency 0.7, setting values to 0 and Nyquist.\n",
            "  raw = mne.io.read_raw_edf(os.path.join(data_folder, psg_file), preload=True, verbose=False)\n"
          ]
        },
        {
          "output_type": "stream",
          "name": "stdout",
          "text": [
            "NOTE: pick_channels() is a legacy function. New code should use inst.pick(...).\n"
          ]
        },
        {
          "output_type": "stream",
          "name": "stderr",
          "text": [
            "<ipython-input-3-68620a792cc4>:26: RuntimeWarning: Limited 1 annotation(s) that were expanding outside the data range.\n",
            "  raw.set_annotations(annotations)\n",
            "<ipython-input-3-68620a792cc4>:23: RuntimeWarning: Channels contain different highpass filters. Highest filter setting will be stored.\n",
            "  raw = mne.io.read_raw_edf(os.path.join(data_folder, psg_file), preload=True, verbose=False)\n",
            "<ipython-input-3-68620a792cc4>:23: RuntimeWarning: Channels contain different lowpass filters. Lowest filter setting will be stored.\n",
            "  raw = mne.io.read_raw_edf(os.path.join(data_folder, psg_file), preload=True, verbose=False)\n",
            "<ipython-input-3-68620a792cc4>:23: RuntimeWarning: Highpass cutoff frequency 16.0 is greater than lowpass cutoff frequency 0.7, setting values to 0 and Nyquist.\n",
            "  raw = mne.io.read_raw_edf(os.path.join(data_folder, psg_file), preload=True, verbose=False)\n"
          ]
        },
        {
          "output_type": "stream",
          "name": "stdout",
          "text": [
            "NOTE: pick_channels() is a legacy function. New code should use inst.pick(...).\n"
          ]
        },
        {
          "output_type": "stream",
          "name": "stderr",
          "text": [
            "<ipython-input-3-68620a792cc4>:26: RuntimeWarning: Limited 1 annotation(s) that were expanding outside the data range.\n",
            "  raw.set_annotations(annotations)\n",
            "<ipython-input-3-68620a792cc4>:23: RuntimeWarning: Channels contain different highpass filters. Highest filter setting will be stored.\n",
            "  raw = mne.io.read_raw_edf(os.path.join(data_folder, psg_file), preload=True, verbose=False)\n",
            "<ipython-input-3-68620a792cc4>:23: RuntimeWarning: Channels contain different lowpass filters. Lowest filter setting will be stored.\n",
            "  raw = mne.io.read_raw_edf(os.path.join(data_folder, psg_file), preload=True, verbose=False)\n",
            "<ipython-input-3-68620a792cc4>:23: RuntimeWarning: Highpass cutoff frequency 16.0 is greater than lowpass cutoff frequency 0.7, setting values to 0 and Nyquist.\n",
            "  raw = mne.io.read_raw_edf(os.path.join(data_folder, psg_file), preload=True, verbose=False)\n"
          ]
        },
        {
          "output_type": "stream",
          "name": "stdout",
          "text": [
            "NOTE: pick_channels() is a legacy function. New code should use inst.pick(...).\n"
          ]
        },
        {
          "output_type": "stream",
          "name": "stderr",
          "text": [
            "<ipython-input-3-68620a792cc4>:26: RuntimeWarning: Limited 1 annotation(s) that were expanding outside the data range.\n",
            "  raw.set_annotations(annotations)\n",
            "<ipython-input-3-68620a792cc4>:23: RuntimeWarning: Channels contain different highpass filters. Highest filter setting will be stored.\n",
            "  raw = mne.io.read_raw_edf(os.path.join(data_folder, psg_file), preload=True, verbose=False)\n",
            "<ipython-input-3-68620a792cc4>:23: RuntimeWarning: Channels contain different lowpass filters. Lowest filter setting will be stored.\n",
            "  raw = mne.io.read_raw_edf(os.path.join(data_folder, psg_file), preload=True, verbose=False)\n",
            "<ipython-input-3-68620a792cc4>:23: RuntimeWarning: Highpass cutoff frequency 16.0 is greater than lowpass cutoff frequency 0.7, setting values to 0 and Nyquist.\n",
            "  raw = mne.io.read_raw_edf(os.path.join(data_folder, psg_file), preload=True, verbose=False)\n"
          ]
        },
        {
          "output_type": "stream",
          "name": "stdout",
          "text": [
            "NOTE: pick_channels() is a legacy function. New code should use inst.pick(...).\n"
          ]
        },
        {
          "output_type": "stream",
          "name": "stderr",
          "text": [
            "<ipython-input-3-68620a792cc4>:26: RuntimeWarning: Limited 1 annotation(s) that were expanding outside the data range.\n",
            "  raw.set_annotations(annotations)\n",
            "<ipython-input-3-68620a792cc4>:23: RuntimeWarning: Channels contain different highpass filters. Highest filter setting will be stored.\n",
            "  raw = mne.io.read_raw_edf(os.path.join(data_folder, psg_file), preload=True, verbose=False)\n",
            "<ipython-input-3-68620a792cc4>:23: RuntimeWarning: Channels contain different lowpass filters. Lowest filter setting will be stored.\n",
            "  raw = mne.io.read_raw_edf(os.path.join(data_folder, psg_file), preload=True, verbose=False)\n",
            "<ipython-input-3-68620a792cc4>:23: RuntimeWarning: Highpass cutoff frequency 16.0 is greater than lowpass cutoff frequency 0.7, setting values to 0 and Nyquist.\n",
            "  raw = mne.io.read_raw_edf(os.path.join(data_folder, psg_file), preload=True, verbose=False)\n"
          ]
        },
        {
          "output_type": "stream",
          "name": "stdout",
          "text": [
            "NOTE: pick_channels() is a legacy function. New code should use inst.pick(...).\n"
          ]
        },
        {
          "output_type": "stream",
          "name": "stderr",
          "text": [
            "<ipython-input-3-68620a792cc4>:26: RuntimeWarning: Limited 1 annotation(s) that were expanding outside the data range.\n",
            "  raw.set_annotations(annotations)\n",
            "<ipython-input-3-68620a792cc4>:23: RuntimeWarning: Channels contain different highpass filters. Highest filter setting will be stored.\n",
            "  raw = mne.io.read_raw_edf(os.path.join(data_folder, psg_file), preload=True, verbose=False)\n",
            "<ipython-input-3-68620a792cc4>:23: RuntimeWarning: Channels contain different lowpass filters. Lowest filter setting will be stored.\n",
            "  raw = mne.io.read_raw_edf(os.path.join(data_folder, psg_file), preload=True, verbose=False)\n",
            "<ipython-input-3-68620a792cc4>:23: RuntimeWarning: Highpass cutoff frequency 16.0 is greater than lowpass cutoff frequency 0.7, setting values to 0 and Nyquist.\n",
            "  raw = mne.io.read_raw_edf(os.path.join(data_folder, psg_file), preload=True, verbose=False)\n"
          ]
        },
        {
          "output_type": "stream",
          "name": "stdout",
          "text": [
            "NOTE: pick_channels() is a legacy function. New code should use inst.pick(...).\n"
          ]
        },
        {
          "output_type": "stream",
          "name": "stderr",
          "text": [
            "<ipython-input-3-68620a792cc4>:26: RuntimeWarning: Limited 1 annotation(s) that were expanding outside the data range.\n",
            "  raw.set_annotations(annotations)\n",
            "<ipython-input-3-68620a792cc4>:23: RuntimeWarning: Channels contain different highpass filters. Highest filter setting will be stored.\n",
            "  raw = mne.io.read_raw_edf(os.path.join(data_folder, psg_file), preload=True, verbose=False)\n",
            "<ipython-input-3-68620a792cc4>:23: RuntimeWarning: Channels contain different lowpass filters. Lowest filter setting will be stored.\n",
            "  raw = mne.io.read_raw_edf(os.path.join(data_folder, psg_file), preload=True, verbose=False)\n",
            "<ipython-input-3-68620a792cc4>:23: RuntimeWarning: Highpass cutoff frequency 16.0 is greater than lowpass cutoff frequency 0.7, setting values to 0 and Nyquist.\n",
            "  raw = mne.io.read_raw_edf(os.path.join(data_folder, psg_file), preload=True, verbose=False)\n"
          ]
        },
        {
          "output_type": "stream",
          "name": "stdout",
          "text": [
            "NOTE: pick_channels() is a legacy function. New code should use inst.pick(...).\n"
          ]
        },
        {
          "output_type": "stream",
          "name": "stderr",
          "text": [
            "<ipython-input-3-68620a792cc4>:26: RuntimeWarning: Limited 1 annotation(s) that were expanding outside the data range.\n",
            "  raw.set_annotations(annotations)\n",
            "<ipython-input-3-68620a792cc4>:23: RuntimeWarning: Channels contain different highpass filters. Highest filter setting will be stored.\n",
            "  raw = mne.io.read_raw_edf(os.path.join(data_folder, psg_file), preload=True, verbose=False)\n",
            "<ipython-input-3-68620a792cc4>:23: RuntimeWarning: Channels contain different lowpass filters. Lowest filter setting will be stored.\n",
            "  raw = mne.io.read_raw_edf(os.path.join(data_folder, psg_file), preload=True, verbose=False)\n",
            "<ipython-input-3-68620a792cc4>:23: RuntimeWarning: Highpass cutoff frequency 16.0 is greater than lowpass cutoff frequency 0.7, setting values to 0 and Nyquist.\n",
            "  raw = mne.io.read_raw_edf(os.path.join(data_folder, psg_file), preload=True, verbose=False)\n"
          ]
        },
        {
          "output_type": "stream",
          "name": "stdout",
          "text": [
            "NOTE: pick_channels() is a legacy function. New code should use inst.pick(...).\n"
          ]
        },
        {
          "output_type": "stream",
          "name": "stderr",
          "text": [
            "<ipython-input-3-68620a792cc4>:26: RuntimeWarning: Limited 1 annotation(s) that were expanding outside the data range.\n",
            "  raw.set_annotations(annotations)\n",
            "<ipython-input-3-68620a792cc4>:23: RuntimeWarning: Channels contain different highpass filters. Highest filter setting will be stored.\n",
            "  raw = mne.io.read_raw_edf(os.path.join(data_folder, psg_file), preload=True, verbose=False)\n",
            "<ipython-input-3-68620a792cc4>:23: RuntimeWarning: Channels contain different lowpass filters. Lowest filter setting will be stored.\n",
            "  raw = mne.io.read_raw_edf(os.path.join(data_folder, psg_file), preload=True, verbose=False)\n",
            "<ipython-input-3-68620a792cc4>:23: RuntimeWarning: Highpass cutoff frequency 16.0 is greater than lowpass cutoff frequency 0.7, setting values to 0 and Nyquist.\n",
            "  raw = mne.io.read_raw_edf(os.path.join(data_folder, psg_file), preload=True, verbose=False)\n"
          ]
        },
        {
          "output_type": "stream",
          "name": "stdout",
          "text": [
            "NOTE: pick_channels() is a legacy function. New code should use inst.pick(...).\n"
          ]
        },
        {
          "output_type": "stream",
          "name": "stderr",
          "text": [
            "<ipython-input-3-68620a792cc4>:26: RuntimeWarning: Limited 1 annotation(s) that were expanding outside the data range.\n",
            "  raw.set_annotations(annotations)\n",
            "<ipython-input-3-68620a792cc4>:23: RuntimeWarning: Channels contain different highpass filters. Highest filter setting will be stored.\n",
            "  raw = mne.io.read_raw_edf(os.path.join(data_folder, psg_file), preload=True, verbose=False)\n",
            "<ipython-input-3-68620a792cc4>:23: RuntimeWarning: Channels contain different lowpass filters. Lowest filter setting will be stored.\n",
            "  raw = mne.io.read_raw_edf(os.path.join(data_folder, psg_file), preload=True, verbose=False)\n",
            "<ipython-input-3-68620a792cc4>:23: RuntimeWarning: Highpass cutoff frequency 16.0 is greater than lowpass cutoff frequency 0.7, setting values to 0 and Nyquist.\n",
            "  raw = mne.io.read_raw_edf(os.path.join(data_folder, psg_file), preload=True, verbose=False)\n"
          ]
        },
        {
          "output_type": "stream",
          "name": "stdout",
          "text": [
            "NOTE: pick_channels() is a legacy function. New code should use inst.pick(...).\n"
          ]
        },
        {
          "output_type": "stream",
          "name": "stderr",
          "text": [
            "<ipython-input-3-68620a792cc4>:26: RuntimeWarning: Limited 1 annotation(s) that were expanding outside the data range.\n",
            "  raw.set_annotations(annotations)\n",
            "<ipython-input-3-68620a792cc4>:23: RuntimeWarning: Channels contain different highpass filters. Highest filter setting will be stored.\n",
            "  raw = mne.io.read_raw_edf(os.path.join(data_folder, psg_file), preload=True, verbose=False)\n",
            "<ipython-input-3-68620a792cc4>:23: RuntimeWarning: Channels contain different lowpass filters. Lowest filter setting will be stored.\n",
            "  raw = mne.io.read_raw_edf(os.path.join(data_folder, psg_file), preload=True, verbose=False)\n",
            "<ipython-input-3-68620a792cc4>:23: RuntimeWarning: Highpass cutoff frequency 16.0 is greater than lowpass cutoff frequency 0.7, setting values to 0 and Nyquist.\n",
            "  raw = mne.io.read_raw_edf(os.path.join(data_folder, psg_file), preload=True, verbose=False)\n"
          ]
        },
        {
          "output_type": "stream",
          "name": "stdout",
          "text": [
            "NOTE: pick_channels() is a legacy function. New code should use inst.pick(...).\n"
          ]
        },
        {
          "output_type": "stream",
          "name": "stderr",
          "text": [
            "<ipython-input-3-68620a792cc4>:26: RuntimeWarning: Limited 1 annotation(s) that were expanding outside the data range.\n",
            "  raw.set_annotations(annotations)\n",
            "<ipython-input-3-68620a792cc4>:23: RuntimeWarning: Channels contain different highpass filters. Highest filter setting will be stored.\n",
            "  raw = mne.io.read_raw_edf(os.path.join(data_folder, psg_file), preload=True, verbose=False)\n",
            "<ipython-input-3-68620a792cc4>:23: RuntimeWarning: Channels contain different lowpass filters. Lowest filter setting will be stored.\n",
            "  raw = mne.io.read_raw_edf(os.path.join(data_folder, psg_file), preload=True, verbose=False)\n",
            "<ipython-input-3-68620a792cc4>:23: RuntimeWarning: Highpass cutoff frequency 16.0 is greater than lowpass cutoff frequency 0.7, setting values to 0 and Nyquist.\n",
            "  raw = mne.io.read_raw_edf(os.path.join(data_folder, psg_file), preload=True, verbose=False)\n"
          ]
        },
        {
          "output_type": "stream",
          "name": "stdout",
          "text": [
            "NOTE: pick_channels() is a legacy function. New code should use inst.pick(...).\n"
          ]
        },
        {
          "output_type": "stream",
          "name": "stderr",
          "text": [
            "<ipython-input-3-68620a792cc4>:26: RuntimeWarning: Limited 1 annotation(s) that were expanding outside the data range.\n",
            "  raw.set_annotations(annotations)\n",
            "<ipython-input-3-68620a792cc4>:23: RuntimeWarning: Channels contain different highpass filters. Highest filter setting will be stored.\n",
            "  raw = mne.io.read_raw_edf(os.path.join(data_folder, psg_file), preload=True, verbose=False)\n",
            "<ipython-input-3-68620a792cc4>:23: RuntimeWarning: Channels contain different lowpass filters. Lowest filter setting will be stored.\n",
            "  raw = mne.io.read_raw_edf(os.path.join(data_folder, psg_file), preload=True, verbose=False)\n",
            "<ipython-input-3-68620a792cc4>:23: RuntimeWarning: Highpass cutoff frequency 16.0 is greater than lowpass cutoff frequency 0.7, setting values to 0 and Nyquist.\n",
            "  raw = mne.io.read_raw_edf(os.path.join(data_folder, psg_file), preload=True, verbose=False)\n"
          ]
        },
        {
          "output_type": "stream",
          "name": "stdout",
          "text": [
            "NOTE: pick_channels() is a legacy function. New code should use inst.pick(...).\n"
          ]
        },
        {
          "output_type": "stream",
          "name": "stderr",
          "text": [
            "<ipython-input-3-68620a792cc4>:26: RuntimeWarning: Limited 1 annotation(s) that were expanding outside the data range.\n",
            "  raw.set_annotations(annotations)\n",
            "<ipython-input-3-68620a792cc4>:23: RuntimeWarning: Channels contain different highpass filters. Highest filter setting will be stored.\n",
            "  raw = mne.io.read_raw_edf(os.path.join(data_folder, psg_file), preload=True, verbose=False)\n",
            "<ipython-input-3-68620a792cc4>:23: RuntimeWarning: Channels contain different lowpass filters. Lowest filter setting will be stored.\n",
            "  raw = mne.io.read_raw_edf(os.path.join(data_folder, psg_file), preload=True, verbose=False)\n",
            "<ipython-input-3-68620a792cc4>:23: RuntimeWarning: Highpass cutoff frequency 16.0 is greater than lowpass cutoff frequency 0.7, setting values to 0 and Nyquist.\n",
            "  raw = mne.io.read_raw_edf(os.path.join(data_folder, psg_file), preload=True, verbose=False)\n"
          ]
        },
        {
          "output_type": "stream",
          "name": "stdout",
          "text": [
            "NOTE: pick_channels() is a legacy function. New code should use inst.pick(...).\n"
          ]
        },
        {
          "output_type": "stream",
          "name": "stderr",
          "text": [
            "<ipython-input-3-68620a792cc4>:26: RuntimeWarning: Limited 1 annotation(s) that were expanding outside the data range.\n",
            "  raw.set_annotations(annotations)\n",
            "<ipython-input-3-68620a792cc4>:23: RuntimeWarning: Channels contain different highpass filters. Highest filter setting will be stored.\n",
            "  raw = mne.io.read_raw_edf(os.path.join(data_folder, psg_file), preload=True, verbose=False)\n",
            "<ipython-input-3-68620a792cc4>:23: RuntimeWarning: Channels contain different lowpass filters. Lowest filter setting will be stored.\n",
            "  raw = mne.io.read_raw_edf(os.path.join(data_folder, psg_file), preload=True, verbose=False)\n",
            "<ipython-input-3-68620a792cc4>:23: RuntimeWarning: Highpass cutoff frequency 16.0 is greater than lowpass cutoff frequency 0.7, setting values to 0 and Nyquist.\n",
            "  raw = mne.io.read_raw_edf(os.path.join(data_folder, psg_file), preload=True, verbose=False)\n"
          ]
        },
        {
          "output_type": "stream",
          "name": "stdout",
          "text": [
            "NOTE: pick_channels() is a legacy function. New code should use inst.pick(...).\n"
          ]
        },
        {
          "output_type": "stream",
          "name": "stderr",
          "text": [
            "<ipython-input-3-68620a792cc4>:26: RuntimeWarning: Limited 1 annotation(s) that were expanding outside the data range.\n",
            "  raw.set_annotations(annotations)\n",
            "<ipython-input-3-68620a792cc4>:23: RuntimeWarning: Channels contain different highpass filters. Highest filter setting will be stored.\n",
            "  raw = mne.io.read_raw_edf(os.path.join(data_folder, psg_file), preload=True, verbose=False)\n",
            "<ipython-input-3-68620a792cc4>:23: RuntimeWarning: Channels contain different lowpass filters. Lowest filter setting will be stored.\n",
            "  raw = mne.io.read_raw_edf(os.path.join(data_folder, psg_file), preload=True, verbose=False)\n",
            "<ipython-input-3-68620a792cc4>:23: RuntimeWarning: Highpass cutoff frequency 16.0 is greater than lowpass cutoff frequency 0.7, setting values to 0 and Nyquist.\n",
            "  raw = mne.io.read_raw_edf(os.path.join(data_folder, psg_file), preload=True, verbose=False)\n"
          ]
        },
        {
          "output_type": "stream",
          "name": "stdout",
          "text": [
            "NOTE: pick_channels() is a legacy function. New code should use inst.pick(...).\n"
          ]
        },
        {
          "output_type": "stream",
          "name": "stderr",
          "text": [
            "<ipython-input-3-68620a792cc4>:26: RuntimeWarning: Limited 1 annotation(s) that were expanding outside the data range.\n",
            "  raw.set_annotations(annotations)\n",
            "<ipython-input-3-68620a792cc4>:23: RuntimeWarning: Channels contain different highpass filters. Highest filter setting will be stored.\n",
            "  raw = mne.io.read_raw_edf(os.path.join(data_folder, psg_file), preload=True, verbose=False)\n",
            "<ipython-input-3-68620a792cc4>:23: RuntimeWarning: Channels contain different lowpass filters. Lowest filter setting will be stored.\n",
            "  raw = mne.io.read_raw_edf(os.path.join(data_folder, psg_file), preload=True, verbose=False)\n",
            "<ipython-input-3-68620a792cc4>:23: RuntimeWarning: Highpass cutoff frequency 16.0 is greater than lowpass cutoff frequency 0.7, setting values to 0 and Nyquist.\n",
            "  raw = mne.io.read_raw_edf(os.path.join(data_folder, psg_file), preload=True, verbose=False)\n"
          ]
        },
        {
          "output_type": "stream",
          "name": "stdout",
          "text": [
            "NOTE: pick_channels() is a legacy function. New code should use inst.pick(...).\n"
          ]
        },
        {
          "output_type": "stream",
          "name": "stderr",
          "text": [
            "<ipython-input-3-68620a792cc4>:26: RuntimeWarning: Limited 1 annotation(s) that were expanding outside the data range.\n",
            "  raw.set_annotations(annotations)\n",
            "<ipython-input-3-68620a792cc4>:23: RuntimeWarning: Channels contain different highpass filters. Highest filter setting will be stored.\n",
            "  raw = mne.io.read_raw_edf(os.path.join(data_folder, psg_file), preload=True, verbose=False)\n",
            "<ipython-input-3-68620a792cc4>:23: RuntimeWarning: Channels contain different lowpass filters. Lowest filter setting will be stored.\n",
            "  raw = mne.io.read_raw_edf(os.path.join(data_folder, psg_file), preload=True, verbose=False)\n",
            "<ipython-input-3-68620a792cc4>:23: RuntimeWarning: Highpass cutoff frequency 16.0 is greater than lowpass cutoff frequency 0.7, setting values to 0 and Nyquist.\n",
            "  raw = mne.io.read_raw_edf(os.path.join(data_folder, psg_file), preload=True, verbose=False)\n"
          ]
        },
        {
          "output_type": "stream",
          "name": "stdout",
          "text": [
            "NOTE: pick_channels() is a legacy function. New code should use inst.pick(...).\n"
          ]
        },
        {
          "output_type": "stream",
          "name": "stderr",
          "text": [
            "<ipython-input-3-68620a792cc4>:26: RuntimeWarning: Limited 1 annotation(s) that were expanding outside the data range.\n",
            "  raw.set_annotations(annotations)\n",
            "<ipython-input-3-68620a792cc4>:23: RuntimeWarning: Channels contain different highpass filters. Highest filter setting will be stored.\n",
            "  raw = mne.io.read_raw_edf(os.path.join(data_folder, psg_file), preload=True, verbose=False)\n",
            "<ipython-input-3-68620a792cc4>:23: RuntimeWarning: Channels contain different lowpass filters. Lowest filter setting will be stored.\n",
            "  raw = mne.io.read_raw_edf(os.path.join(data_folder, psg_file), preload=True, verbose=False)\n",
            "<ipython-input-3-68620a792cc4>:23: RuntimeWarning: Highpass cutoff frequency 16.0 is greater than lowpass cutoff frequency 0.7, setting values to 0 and Nyquist.\n",
            "  raw = mne.io.read_raw_edf(os.path.join(data_folder, psg_file), preload=True, verbose=False)\n"
          ]
        },
        {
          "output_type": "stream",
          "name": "stdout",
          "text": [
            "NOTE: pick_channels() is a legacy function. New code should use inst.pick(...).\n"
          ]
        },
        {
          "output_type": "stream",
          "name": "stderr",
          "text": [
            "<ipython-input-3-68620a792cc4>:26: RuntimeWarning: Limited 1 annotation(s) that were expanding outside the data range.\n",
            "  raw.set_annotations(annotations)\n",
            "<ipython-input-3-68620a792cc4>:23: RuntimeWarning: Channels contain different highpass filters. Highest filter setting will be stored.\n",
            "  raw = mne.io.read_raw_edf(os.path.join(data_folder, psg_file), preload=True, verbose=False)\n",
            "<ipython-input-3-68620a792cc4>:23: RuntimeWarning: Channels contain different lowpass filters. Lowest filter setting will be stored.\n",
            "  raw = mne.io.read_raw_edf(os.path.join(data_folder, psg_file), preload=True, verbose=False)\n",
            "<ipython-input-3-68620a792cc4>:23: RuntimeWarning: Highpass cutoff frequency 16.0 is greater than lowpass cutoff frequency 0.7, setting values to 0 and Nyquist.\n",
            "  raw = mne.io.read_raw_edf(os.path.join(data_folder, psg_file), preload=True, verbose=False)\n"
          ]
        },
        {
          "output_type": "stream",
          "name": "stdout",
          "text": [
            "NOTE: pick_channels() is a legacy function. New code should use inst.pick(...).\n"
          ]
        },
        {
          "output_type": "stream",
          "name": "stderr",
          "text": [
            "<ipython-input-3-68620a792cc4>:26: RuntimeWarning: Limited 1 annotation(s) that were expanding outside the data range.\n",
            "  raw.set_annotations(annotations)\n",
            "<ipython-input-3-68620a792cc4>:23: RuntimeWarning: Channels contain different highpass filters. Highest filter setting will be stored.\n",
            "  raw = mne.io.read_raw_edf(os.path.join(data_folder, psg_file), preload=True, verbose=False)\n",
            "<ipython-input-3-68620a792cc4>:23: RuntimeWarning: Channels contain different lowpass filters. Lowest filter setting will be stored.\n",
            "  raw = mne.io.read_raw_edf(os.path.join(data_folder, psg_file), preload=True, verbose=False)\n",
            "<ipython-input-3-68620a792cc4>:23: RuntimeWarning: Highpass cutoff frequency 16.0 is greater than lowpass cutoff frequency 0.7, setting values to 0 and Nyquist.\n",
            "  raw = mne.io.read_raw_edf(os.path.join(data_folder, psg_file), preload=True, verbose=False)\n"
          ]
        },
        {
          "output_type": "stream",
          "name": "stdout",
          "text": [
            "NOTE: pick_channels() is a legacy function. New code should use inst.pick(...).\n"
          ]
        },
        {
          "output_type": "stream",
          "name": "stderr",
          "text": [
            "<ipython-input-3-68620a792cc4>:26: RuntimeWarning: Limited 1 annotation(s) that were expanding outside the data range.\n",
            "  raw.set_annotations(annotations)\n",
            "<ipython-input-3-68620a792cc4>:23: RuntimeWarning: Channels contain different highpass filters. Highest filter setting will be stored.\n",
            "  raw = mne.io.read_raw_edf(os.path.join(data_folder, psg_file), preload=True, verbose=False)\n",
            "<ipython-input-3-68620a792cc4>:23: RuntimeWarning: Channels contain different lowpass filters. Lowest filter setting will be stored.\n",
            "  raw = mne.io.read_raw_edf(os.path.join(data_folder, psg_file), preload=True, verbose=False)\n",
            "<ipython-input-3-68620a792cc4>:23: RuntimeWarning: Highpass cutoff frequency 16.0 is greater than lowpass cutoff frequency 0.7, setting values to 0 and Nyquist.\n",
            "  raw = mne.io.read_raw_edf(os.path.join(data_folder, psg_file), preload=True, verbose=False)\n"
          ]
        },
        {
          "output_type": "stream",
          "name": "stdout",
          "text": [
            "NOTE: pick_channels() is a legacy function. New code should use inst.pick(...).\n"
          ]
        },
        {
          "output_type": "stream",
          "name": "stderr",
          "text": [
            "<ipython-input-3-68620a792cc4>:26: RuntimeWarning: Limited 1 annotation(s) that were expanding outside the data range.\n",
            "  raw.set_annotations(annotations)\n",
            "<ipython-input-3-68620a792cc4>:23: RuntimeWarning: Channels contain different highpass filters. Highest filter setting will be stored.\n",
            "  raw = mne.io.read_raw_edf(os.path.join(data_folder, psg_file), preload=True, verbose=False)\n",
            "<ipython-input-3-68620a792cc4>:23: RuntimeWarning: Channels contain different lowpass filters. Lowest filter setting will be stored.\n",
            "  raw = mne.io.read_raw_edf(os.path.join(data_folder, psg_file), preload=True, verbose=False)\n",
            "<ipython-input-3-68620a792cc4>:23: RuntimeWarning: Highpass cutoff frequency 16.0 is greater than lowpass cutoff frequency 0.7, setting values to 0 and Nyquist.\n",
            "  raw = mne.io.read_raw_edf(os.path.join(data_folder, psg_file), preload=True, verbose=False)\n"
          ]
        },
        {
          "output_type": "stream",
          "name": "stdout",
          "text": [
            "NOTE: pick_channels() is a legacy function. New code should use inst.pick(...).\n"
          ]
        },
        {
          "output_type": "stream",
          "name": "stderr",
          "text": [
            "<ipython-input-3-68620a792cc4>:26: RuntimeWarning: Limited 1 annotation(s) that were expanding outside the data range.\n",
            "  raw.set_annotations(annotations)\n",
            "<ipython-input-3-68620a792cc4>:23: RuntimeWarning: Channels contain different highpass filters. Highest filter setting will be stored.\n",
            "  raw = mne.io.read_raw_edf(os.path.join(data_folder, psg_file), preload=True, verbose=False)\n",
            "<ipython-input-3-68620a792cc4>:23: RuntimeWarning: Channels contain different lowpass filters. Lowest filter setting will be stored.\n",
            "  raw = mne.io.read_raw_edf(os.path.join(data_folder, psg_file), preload=True, verbose=False)\n",
            "<ipython-input-3-68620a792cc4>:23: RuntimeWarning: Highpass cutoff frequency 16.0 is greater than lowpass cutoff frequency 0.7, setting values to 0 and Nyquist.\n",
            "  raw = mne.io.read_raw_edf(os.path.join(data_folder, psg_file), preload=True, verbose=False)\n"
          ]
        },
        {
          "output_type": "stream",
          "name": "stdout",
          "text": [
            "NOTE: pick_channels() is a legacy function. New code should use inst.pick(...).\n"
          ]
        },
        {
          "output_type": "stream",
          "name": "stderr",
          "text": [
            "<ipython-input-3-68620a792cc4>:26: RuntimeWarning: Limited 1 annotation(s) that were expanding outside the data range.\n",
            "  raw.set_annotations(annotations)\n",
            "<ipython-input-3-68620a792cc4>:23: RuntimeWarning: Channels contain different highpass filters. Highest filter setting will be stored.\n",
            "  raw = mne.io.read_raw_edf(os.path.join(data_folder, psg_file), preload=True, verbose=False)\n",
            "<ipython-input-3-68620a792cc4>:23: RuntimeWarning: Channels contain different lowpass filters. Lowest filter setting will be stored.\n",
            "  raw = mne.io.read_raw_edf(os.path.join(data_folder, psg_file), preload=True, verbose=False)\n",
            "<ipython-input-3-68620a792cc4>:23: RuntimeWarning: Highpass cutoff frequency 16.0 is greater than lowpass cutoff frequency 0.7, setting values to 0 and Nyquist.\n",
            "  raw = mne.io.read_raw_edf(os.path.join(data_folder, psg_file), preload=True, verbose=False)\n"
          ]
        },
        {
          "output_type": "stream",
          "name": "stdout",
          "text": [
            "NOTE: pick_channels() is a legacy function. New code should use inst.pick(...).\n"
          ]
        },
        {
          "output_type": "stream",
          "name": "stderr",
          "text": [
            "<ipython-input-3-68620a792cc4>:26: RuntimeWarning: Limited 1 annotation(s) that were expanding outside the data range.\n",
            "  raw.set_annotations(annotations)\n",
            "<ipython-input-3-68620a792cc4>:23: RuntimeWarning: Channels contain different highpass filters. Highest filter setting will be stored.\n",
            "  raw = mne.io.read_raw_edf(os.path.join(data_folder, psg_file), preload=True, verbose=False)\n",
            "<ipython-input-3-68620a792cc4>:23: RuntimeWarning: Channels contain different lowpass filters. Lowest filter setting will be stored.\n",
            "  raw = mne.io.read_raw_edf(os.path.join(data_folder, psg_file), preload=True, verbose=False)\n",
            "<ipython-input-3-68620a792cc4>:23: RuntimeWarning: Highpass cutoff frequency 16.0 is greater than lowpass cutoff frequency 0.7, setting values to 0 and Nyquist.\n",
            "  raw = mne.io.read_raw_edf(os.path.join(data_folder, psg_file), preload=True, verbose=False)\n"
          ]
        },
        {
          "output_type": "stream",
          "name": "stdout",
          "text": [
            "NOTE: pick_channels() is a legacy function. New code should use inst.pick(...).\n"
          ]
        },
        {
          "output_type": "stream",
          "name": "stderr",
          "text": [
            "<ipython-input-3-68620a792cc4>:26: RuntimeWarning: Limited 1 annotation(s) that were expanding outside the data range.\n",
            "  raw.set_annotations(annotations)\n",
            "<ipython-input-3-68620a792cc4>:23: RuntimeWarning: Channels contain different highpass filters. Highest filter setting will be stored.\n",
            "  raw = mne.io.read_raw_edf(os.path.join(data_folder, psg_file), preload=True, verbose=False)\n",
            "<ipython-input-3-68620a792cc4>:23: RuntimeWarning: Channels contain different lowpass filters. Lowest filter setting will be stored.\n",
            "  raw = mne.io.read_raw_edf(os.path.join(data_folder, psg_file), preload=True, verbose=False)\n",
            "<ipython-input-3-68620a792cc4>:23: RuntimeWarning: Highpass cutoff frequency 16.0 is greater than lowpass cutoff frequency 0.7, setting values to 0 and Nyquist.\n",
            "  raw = mne.io.read_raw_edf(os.path.join(data_folder, psg_file), preload=True, verbose=False)\n"
          ]
        },
        {
          "output_type": "stream",
          "name": "stdout",
          "text": [
            "NOTE: pick_channels() is a legacy function. New code should use inst.pick(...).\n"
          ]
        },
        {
          "output_type": "stream",
          "name": "stderr",
          "text": [
            "<ipython-input-3-68620a792cc4>:26: RuntimeWarning: Omitted 1 annotation(s) that were outside data range.\n",
            "  raw.set_annotations(annotations)\n",
            "<ipython-input-3-68620a792cc4>:26: RuntimeWarning: Limited 1 annotation(s) that were expanding outside the data range.\n",
            "  raw.set_annotations(annotations)\n",
            "<ipython-input-3-68620a792cc4>:23: RuntimeWarning: Channels contain different highpass filters. Highest filter setting will be stored.\n",
            "  raw = mne.io.read_raw_edf(os.path.join(data_folder, psg_file), preload=True, verbose=False)\n",
            "<ipython-input-3-68620a792cc4>:23: RuntimeWarning: Channels contain different lowpass filters. Lowest filter setting will be stored.\n",
            "  raw = mne.io.read_raw_edf(os.path.join(data_folder, psg_file), preload=True, verbose=False)\n",
            "<ipython-input-3-68620a792cc4>:23: RuntimeWarning: Highpass cutoff frequency 16.0 is greater than lowpass cutoff frequency 0.7, setting values to 0 and Nyquist.\n",
            "  raw = mne.io.read_raw_edf(os.path.join(data_folder, psg_file), preload=True, verbose=False)\n"
          ]
        },
        {
          "output_type": "stream",
          "name": "stdout",
          "text": [
            "NOTE: pick_channels() is a legacy function. New code should use inst.pick(...).\n"
          ]
        },
        {
          "output_type": "stream",
          "name": "stderr",
          "text": [
            "<ipython-input-3-68620a792cc4>:26: RuntimeWarning: Limited 1 annotation(s) that were expanding outside the data range.\n",
            "  raw.set_annotations(annotations)\n",
            "<ipython-input-3-68620a792cc4>:23: RuntimeWarning: Channels contain different highpass filters. Highest filter setting will be stored.\n",
            "  raw = mne.io.read_raw_edf(os.path.join(data_folder, psg_file), preload=True, verbose=False)\n",
            "<ipython-input-3-68620a792cc4>:23: RuntimeWarning: Channels contain different lowpass filters. Lowest filter setting will be stored.\n",
            "  raw = mne.io.read_raw_edf(os.path.join(data_folder, psg_file), preload=True, verbose=False)\n",
            "<ipython-input-3-68620a792cc4>:23: RuntimeWarning: Highpass cutoff frequency 16.0 is greater than lowpass cutoff frequency 0.7, setting values to 0 and Nyquist.\n",
            "  raw = mne.io.read_raw_edf(os.path.join(data_folder, psg_file), preload=True, verbose=False)\n"
          ]
        },
        {
          "output_type": "stream",
          "name": "stdout",
          "text": [
            "NOTE: pick_channels() is a legacy function. New code should use inst.pick(...).\n"
          ]
        },
        {
          "output_type": "stream",
          "name": "stderr",
          "text": [
            "<ipython-input-3-68620a792cc4>:26: RuntimeWarning: Limited 1 annotation(s) that were expanding outside the data range.\n",
            "  raw.set_annotations(annotations)\n",
            "<ipython-input-3-68620a792cc4>:23: RuntimeWarning: Channels contain different highpass filters. Highest filter setting will be stored.\n",
            "  raw = mne.io.read_raw_edf(os.path.join(data_folder, psg_file), preload=True, verbose=False)\n",
            "<ipython-input-3-68620a792cc4>:23: RuntimeWarning: Channels contain different lowpass filters. Lowest filter setting will be stored.\n",
            "  raw = mne.io.read_raw_edf(os.path.join(data_folder, psg_file), preload=True, verbose=False)\n",
            "<ipython-input-3-68620a792cc4>:23: RuntimeWarning: Highpass cutoff frequency 16.0 is greater than lowpass cutoff frequency 0.7, setting values to 0 and Nyquist.\n",
            "  raw = mne.io.read_raw_edf(os.path.join(data_folder, psg_file), preload=True, verbose=False)\n"
          ]
        },
        {
          "output_type": "stream",
          "name": "stdout",
          "text": [
            "NOTE: pick_channels() is a legacy function. New code should use inst.pick(...).\n"
          ]
        },
        {
          "output_type": "stream",
          "name": "stderr",
          "text": [
            "<ipython-input-3-68620a792cc4>:26: RuntimeWarning: Limited 1 annotation(s) that were expanding outside the data range.\n",
            "  raw.set_annotations(annotations)\n",
            "<ipython-input-3-68620a792cc4>:23: RuntimeWarning: Channels contain different highpass filters. Highest filter setting will be stored.\n",
            "  raw = mne.io.read_raw_edf(os.path.join(data_folder, psg_file), preload=True, verbose=False)\n",
            "<ipython-input-3-68620a792cc4>:23: RuntimeWarning: Channels contain different lowpass filters. Lowest filter setting will be stored.\n",
            "  raw = mne.io.read_raw_edf(os.path.join(data_folder, psg_file), preload=True, verbose=False)\n",
            "<ipython-input-3-68620a792cc4>:23: RuntimeWarning: Highpass cutoff frequency 16.0 is greater than lowpass cutoff frequency 0.7, setting values to 0 and Nyquist.\n",
            "  raw = mne.io.read_raw_edf(os.path.join(data_folder, psg_file), preload=True, verbose=False)\n"
          ]
        },
        {
          "output_type": "stream",
          "name": "stdout",
          "text": [
            "NOTE: pick_channels() is a legacy function. New code should use inst.pick(...).\n"
          ]
        },
        {
          "output_type": "stream",
          "name": "stderr",
          "text": [
            "<ipython-input-3-68620a792cc4>:26: RuntimeWarning: Limited 1 annotation(s) that were expanding outside the data range.\n",
            "  raw.set_annotations(annotations)\n",
            "<ipython-input-3-68620a792cc4>:23: RuntimeWarning: Channels contain different highpass filters. Highest filter setting will be stored.\n",
            "  raw = mne.io.read_raw_edf(os.path.join(data_folder, psg_file), preload=True, verbose=False)\n",
            "<ipython-input-3-68620a792cc4>:23: RuntimeWarning: Channels contain different lowpass filters. Lowest filter setting will be stored.\n",
            "  raw = mne.io.read_raw_edf(os.path.join(data_folder, psg_file), preload=True, verbose=False)\n",
            "<ipython-input-3-68620a792cc4>:23: RuntimeWarning: Highpass cutoff frequency 16.0 is greater than lowpass cutoff frequency 0.7, setting values to 0 and Nyquist.\n",
            "  raw = mne.io.read_raw_edf(os.path.join(data_folder, psg_file), preload=True, verbose=False)\n"
          ]
        },
        {
          "output_type": "stream",
          "name": "stdout",
          "text": [
            "NOTE: pick_channels() is a legacy function. New code should use inst.pick(...).\n"
          ]
        },
        {
          "output_type": "stream",
          "name": "stderr",
          "text": [
            "<ipython-input-3-68620a792cc4>:26: RuntimeWarning: Limited 1 annotation(s) that were expanding outside the data range.\n",
            "  raw.set_annotations(annotations)\n",
            "<ipython-input-3-68620a792cc4>:23: RuntimeWarning: Channels contain different highpass filters. Highest filter setting will be stored.\n",
            "  raw = mne.io.read_raw_edf(os.path.join(data_folder, psg_file), preload=True, verbose=False)\n",
            "<ipython-input-3-68620a792cc4>:23: RuntimeWarning: Channels contain different lowpass filters. Lowest filter setting will be stored.\n",
            "  raw = mne.io.read_raw_edf(os.path.join(data_folder, psg_file), preload=True, verbose=False)\n",
            "<ipython-input-3-68620a792cc4>:23: RuntimeWarning: Highpass cutoff frequency 16.0 is greater than lowpass cutoff frequency 0.7, setting values to 0 and Nyquist.\n",
            "  raw = mne.io.read_raw_edf(os.path.join(data_folder, psg_file), preload=True, verbose=False)\n"
          ]
        },
        {
          "output_type": "stream",
          "name": "stdout",
          "text": [
            "NOTE: pick_channels() is a legacy function. New code should use inst.pick(...).\n"
          ]
        },
        {
          "output_type": "stream",
          "name": "stderr",
          "text": [
            "<ipython-input-3-68620a792cc4>:26: RuntimeWarning: Limited 1 annotation(s) that were expanding outside the data range.\n",
            "  raw.set_annotations(annotations)\n",
            "<ipython-input-3-68620a792cc4>:23: RuntimeWarning: Channels contain different highpass filters. Highest filter setting will be stored.\n",
            "  raw = mne.io.read_raw_edf(os.path.join(data_folder, psg_file), preload=True, verbose=False)\n",
            "<ipython-input-3-68620a792cc4>:23: RuntimeWarning: Channels contain different lowpass filters. Lowest filter setting will be stored.\n",
            "  raw = mne.io.read_raw_edf(os.path.join(data_folder, psg_file), preload=True, verbose=False)\n",
            "<ipython-input-3-68620a792cc4>:23: RuntimeWarning: Highpass cutoff frequency 16.0 is greater than lowpass cutoff frequency 0.7, setting values to 0 and Nyquist.\n",
            "  raw = mne.io.read_raw_edf(os.path.join(data_folder, psg_file), preload=True, verbose=False)\n"
          ]
        },
        {
          "output_type": "stream",
          "name": "stdout",
          "text": [
            "NOTE: pick_channels() is a legacy function. New code should use inst.pick(...).\n"
          ]
        },
        {
          "output_type": "stream",
          "name": "stderr",
          "text": [
            "<ipython-input-3-68620a792cc4>:26: RuntimeWarning: Limited 1 annotation(s) that were expanding outside the data range.\n",
            "  raw.set_annotations(annotations)\n",
            "<ipython-input-3-68620a792cc4>:23: RuntimeWarning: Channels contain different highpass filters. Highest filter setting will be stored.\n",
            "  raw = mne.io.read_raw_edf(os.path.join(data_folder, psg_file), preload=True, verbose=False)\n",
            "<ipython-input-3-68620a792cc4>:23: RuntimeWarning: Channels contain different lowpass filters. Lowest filter setting will be stored.\n",
            "  raw = mne.io.read_raw_edf(os.path.join(data_folder, psg_file), preload=True, verbose=False)\n",
            "<ipython-input-3-68620a792cc4>:23: RuntimeWarning: Highpass cutoff frequency 16.0 is greater than lowpass cutoff frequency 0.7, setting values to 0 and Nyquist.\n",
            "  raw = mne.io.read_raw_edf(os.path.join(data_folder, psg_file), preload=True, verbose=False)\n"
          ]
        },
        {
          "output_type": "stream",
          "name": "stdout",
          "text": [
            "NOTE: pick_channels() is a legacy function. New code should use inst.pick(...).\n"
          ]
        },
        {
          "output_type": "stream",
          "name": "stderr",
          "text": [
            "<ipython-input-3-68620a792cc4>:26: RuntimeWarning: Limited 1 annotation(s) that were expanding outside the data range.\n",
            "  raw.set_annotations(annotations)\n",
            "<ipython-input-3-68620a792cc4>:23: RuntimeWarning: Channels contain different highpass filters. Highest filter setting will be stored.\n",
            "  raw = mne.io.read_raw_edf(os.path.join(data_folder, psg_file), preload=True, verbose=False)\n",
            "<ipython-input-3-68620a792cc4>:23: RuntimeWarning: Channels contain different lowpass filters. Lowest filter setting will be stored.\n",
            "  raw = mne.io.read_raw_edf(os.path.join(data_folder, psg_file), preload=True, verbose=False)\n",
            "<ipython-input-3-68620a792cc4>:23: RuntimeWarning: Highpass cutoff frequency 16.0 is greater than lowpass cutoff frequency 0.7, setting values to 0 and Nyquist.\n",
            "  raw = mne.io.read_raw_edf(os.path.join(data_folder, psg_file), preload=True, verbose=False)\n"
          ]
        },
        {
          "output_type": "stream",
          "name": "stdout",
          "text": [
            "NOTE: pick_channels() is a legacy function. New code should use inst.pick(...).\n"
          ]
        },
        {
          "output_type": "stream",
          "name": "stderr",
          "text": [
            "<ipython-input-3-68620a792cc4>:26: RuntimeWarning: Limited 1 annotation(s) that were expanding outside the data range.\n",
            "  raw.set_annotations(annotations)\n",
            "<ipython-input-3-68620a792cc4>:23: RuntimeWarning: Channels contain different highpass filters. Highest filter setting will be stored.\n",
            "  raw = mne.io.read_raw_edf(os.path.join(data_folder, psg_file), preload=True, verbose=False)\n",
            "<ipython-input-3-68620a792cc4>:23: RuntimeWarning: Channels contain different lowpass filters. Lowest filter setting will be stored.\n",
            "  raw = mne.io.read_raw_edf(os.path.join(data_folder, psg_file), preload=True, verbose=False)\n",
            "<ipython-input-3-68620a792cc4>:23: RuntimeWarning: Highpass cutoff frequency 16.0 is greater than lowpass cutoff frequency 0.7, setting values to 0 and Nyquist.\n",
            "  raw = mne.io.read_raw_edf(os.path.join(data_folder, psg_file), preload=True, verbose=False)\n"
          ]
        },
        {
          "output_type": "stream",
          "name": "stdout",
          "text": [
            "NOTE: pick_channels() is a legacy function. New code should use inst.pick(...).\n"
          ]
        },
        {
          "output_type": "stream",
          "name": "stderr",
          "text": [
            "<ipython-input-3-68620a792cc4>:26: RuntimeWarning: Limited 1 annotation(s) that were expanding outside the data range.\n",
            "  raw.set_annotations(annotations)\n",
            "<ipython-input-3-68620a792cc4>:23: RuntimeWarning: Channels contain different highpass filters. Highest filter setting will be stored.\n",
            "  raw = mne.io.read_raw_edf(os.path.join(data_folder, psg_file), preload=True, verbose=False)\n",
            "<ipython-input-3-68620a792cc4>:23: RuntimeWarning: Channels contain different lowpass filters. Lowest filter setting will be stored.\n",
            "  raw = mne.io.read_raw_edf(os.path.join(data_folder, psg_file), preload=True, verbose=False)\n",
            "<ipython-input-3-68620a792cc4>:23: RuntimeWarning: Highpass cutoff frequency 16.0 is greater than lowpass cutoff frequency 0.7, setting values to 0 and Nyquist.\n",
            "  raw = mne.io.read_raw_edf(os.path.join(data_folder, psg_file), preload=True, verbose=False)\n"
          ]
        },
        {
          "output_type": "stream",
          "name": "stdout",
          "text": [
            "NOTE: pick_channels() is a legacy function. New code should use inst.pick(...).\n"
          ]
        },
        {
          "output_type": "stream",
          "name": "stderr",
          "text": [
            "<ipython-input-3-68620a792cc4>:26: RuntimeWarning: Limited 1 annotation(s) that were expanding outside the data range.\n",
            "  raw.set_annotations(annotations)\n",
            "<ipython-input-3-68620a792cc4>:23: RuntimeWarning: Channels contain different highpass filters. Highest filter setting will be stored.\n",
            "  raw = mne.io.read_raw_edf(os.path.join(data_folder, psg_file), preload=True, verbose=False)\n",
            "<ipython-input-3-68620a792cc4>:23: RuntimeWarning: Channels contain different lowpass filters. Lowest filter setting will be stored.\n",
            "  raw = mne.io.read_raw_edf(os.path.join(data_folder, psg_file), preload=True, verbose=False)\n",
            "<ipython-input-3-68620a792cc4>:23: RuntimeWarning: Highpass cutoff frequency 16.0 is greater than lowpass cutoff frequency 0.7, setting values to 0 and Nyquist.\n",
            "  raw = mne.io.read_raw_edf(os.path.join(data_folder, psg_file), preload=True, verbose=False)\n"
          ]
        },
        {
          "output_type": "stream",
          "name": "stdout",
          "text": [
            "NOTE: pick_channels() is a legacy function. New code should use inst.pick(...).\n"
          ]
        },
        {
          "output_type": "stream",
          "name": "stderr",
          "text": [
            "<ipython-input-3-68620a792cc4>:26: RuntimeWarning: Limited 1 annotation(s) that were expanding outside the data range.\n",
            "  raw.set_annotations(annotations)\n",
            "<ipython-input-3-68620a792cc4>:23: RuntimeWarning: Channels contain different highpass filters. Highest filter setting will be stored.\n",
            "  raw = mne.io.read_raw_edf(os.path.join(data_folder, psg_file), preload=True, verbose=False)\n",
            "<ipython-input-3-68620a792cc4>:23: RuntimeWarning: Channels contain different lowpass filters. Lowest filter setting will be stored.\n",
            "  raw = mne.io.read_raw_edf(os.path.join(data_folder, psg_file), preload=True, verbose=False)\n",
            "<ipython-input-3-68620a792cc4>:23: RuntimeWarning: Highpass cutoff frequency 16.0 is greater than lowpass cutoff frequency 0.7, setting values to 0 and Nyquist.\n",
            "  raw = mne.io.read_raw_edf(os.path.join(data_folder, psg_file), preload=True, verbose=False)\n"
          ]
        },
        {
          "output_type": "stream",
          "name": "stdout",
          "text": [
            "NOTE: pick_channels() is a legacy function. New code should use inst.pick(...).\n"
          ]
        },
        {
          "output_type": "stream",
          "name": "stderr",
          "text": [
            "<ipython-input-3-68620a792cc4>:26: RuntimeWarning: Limited 1 annotation(s) that were expanding outside the data range.\n",
            "  raw.set_annotations(annotations)\n",
            "<ipython-input-3-68620a792cc4>:23: RuntimeWarning: Channels contain different highpass filters. Highest filter setting will be stored.\n",
            "  raw = mne.io.read_raw_edf(os.path.join(data_folder, psg_file), preload=True, verbose=False)\n",
            "<ipython-input-3-68620a792cc4>:23: RuntimeWarning: Channels contain different lowpass filters. Lowest filter setting will be stored.\n",
            "  raw = mne.io.read_raw_edf(os.path.join(data_folder, psg_file), preload=True, verbose=False)\n",
            "<ipython-input-3-68620a792cc4>:23: RuntimeWarning: Highpass cutoff frequency 16.0 is greater than lowpass cutoff frequency 0.7, setting values to 0 and Nyquist.\n",
            "  raw = mne.io.read_raw_edf(os.path.join(data_folder, psg_file), preload=True, verbose=False)\n"
          ]
        },
        {
          "output_type": "stream",
          "name": "stdout",
          "text": [
            "NOTE: pick_channels() is a legacy function. New code should use inst.pick(...).\n"
          ]
        },
        {
          "output_type": "stream",
          "name": "stderr",
          "text": [
            "<ipython-input-3-68620a792cc4>:26: RuntimeWarning: Limited 1 annotation(s) that were expanding outside the data range.\n",
            "  raw.set_annotations(annotations)\n",
            "<ipython-input-3-68620a792cc4>:23: RuntimeWarning: Channels contain different highpass filters. Highest filter setting will be stored.\n",
            "  raw = mne.io.read_raw_edf(os.path.join(data_folder, psg_file), preload=True, verbose=False)\n",
            "<ipython-input-3-68620a792cc4>:23: RuntimeWarning: Channels contain different lowpass filters. Lowest filter setting will be stored.\n",
            "  raw = mne.io.read_raw_edf(os.path.join(data_folder, psg_file), preload=True, verbose=False)\n",
            "<ipython-input-3-68620a792cc4>:23: RuntimeWarning: Highpass cutoff frequency 16.0 is greater than lowpass cutoff frequency 0.7, setting values to 0 and Nyquist.\n",
            "  raw = mne.io.read_raw_edf(os.path.join(data_folder, psg_file), preload=True, verbose=False)\n"
          ]
        },
        {
          "output_type": "stream",
          "name": "stdout",
          "text": [
            "NOTE: pick_channels() is a legacy function. New code should use inst.pick(...).\n"
          ]
        },
        {
          "output_type": "stream",
          "name": "stderr",
          "text": [
            "<ipython-input-3-68620a792cc4>:26: RuntimeWarning: Limited 1 annotation(s) that were expanding outside the data range.\n",
            "  raw.set_annotations(annotations)\n",
            "<ipython-input-3-68620a792cc4>:23: RuntimeWarning: Channels contain different highpass filters. Highest filter setting will be stored.\n",
            "  raw = mne.io.read_raw_edf(os.path.join(data_folder, psg_file), preload=True, verbose=False)\n",
            "<ipython-input-3-68620a792cc4>:23: RuntimeWarning: Channels contain different lowpass filters. Lowest filter setting will be stored.\n",
            "  raw = mne.io.read_raw_edf(os.path.join(data_folder, psg_file), preload=True, verbose=False)\n",
            "<ipython-input-3-68620a792cc4>:23: RuntimeWarning: Highpass cutoff frequency 16.0 is greater than lowpass cutoff frequency 0.7, setting values to 0 and Nyquist.\n",
            "  raw = mne.io.read_raw_edf(os.path.join(data_folder, psg_file), preload=True, verbose=False)\n"
          ]
        },
        {
          "output_type": "stream",
          "name": "stdout",
          "text": [
            "NOTE: pick_channels() is a legacy function. New code should use inst.pick(...).\n"
          ]
        },
        {
          "output_type": "stream",
          "name": "stderr",
          "text": [
            "<ipython-input-3-68620a792cc4>:26: RuntimeWarning: Limited 1 annotation(s) that were expanding outside the data range.\n",
            "  raw.set_annotations(annotations)\n",
            "<ipython-input-3-68620a792cc4>:23: RuntimeWarning: Channels contain different highpass filters. Highest filter setting will be stored.\n",
            "  raw = mne.io.read_raw_edf(os.path.join(data_folder, psg_file), preload=True, verbose=False)\n",
            "<ipython-input-3-68620a792cc4>:23: RuntimeWarning: Channels contain different lowpass filters. Lowest filter setting will be stored.\n",
            "  raw = mne.io.read_raw_edf(os.path.join(data_folder, psg_file), preload=True, verbose=False)\n",
            "<ipython-input-3-68620a792cc4>:23: RuntimeWarning: Highpass cutoff frequency 16.0 is greater than lowpass cutoff frequency 0.7, setting values to 0 and Nyquist.\n",
            "  raw = mne.io.read_raw_edf(os.path.join(data_folder, psg_file), preload=True, verbose=False)\n"
          ]
        },
        {
          "output_type": "stream",
          "name": "stdout",
          "text": [
            "NOTE: pick_channels() is a legacy function. New code should use inst.pick(...).\n"
          ]
        },
        {
          "output_type": "stream",
          "name": "stderr",
          "text": [
            "<ipython-input-3-68620a792cc4>:26: RuntimeWarning: Limited 1 annotation(s) that were expanding outside the data range.\n",
            "  raw.set_annotations(annotations)\n",
            "<ipython-input-3-68620a792cc4>:23: RuntimeWarning: Channels contain different highpass filters. Highest filter setting will be stored.\n",
            "  raw = mne.io.read_raw_edf(os.path.join(data_folder, psg_file), preload=True, verbose=False)\n",
            "<ipython-input-3-68620a792cc4>:23: RuntimeWarning: Channels contain different lowpass filters. Lowest filter setting will be stored.\n",
            "  raw = mne.io.read_raw_edf(os.path.join(data_folder, psg_file), preload=True, verbose=False)\n",
            "<ipython-input-3-68620a792cc4>:23: RuntimeWarning: Highpass cutoff frequency 16.0 is greater than lowpass cutoff frequency 0.7, setting values to 0 and Nyquist.\n",
            "  raw = mne.io.read_raw_edf(os.path.join(data_folder, psg_file), preload=True, verbose=False)\n"
          ]
        },
        {
          "output_type": "stream",
          "name": "stdout",
          "text": [
            "NOTE: pick_channels() is a legacy function. New code should use inst.pick(...).\n"
          ]
        },
        {
          "output_type": "stream",
          "name": "stderr",
          "text": [
            "<ipython-input-3-68620a792cc4>:26: RuntimeWarning: Limited 1 annotation(s) that were expanding outside the data range.\n",
            "  raw.set_annotations(annotations)\n",
            "<ipython-input-3-68620a792cc4>:23: RuntimeWarning: Channels contain different highpass filters. Highest filter setting will be stored.\n",
            "  raw = mne.io.read_raw_edf(os.path.join(data_folder, psg_file), preload=True, verbose=False)\n",
            "<ipython-input-3-68620a792cc4>:23: RuntimeWarning: Channels contain different lowpass filters. Lowest filter setting will be stored.\n",
            "  raw = mne.io.read_raw_edf(os.path.join(data_folder, psg_file), preload=True, verbose=False)\n",
            "<ipython-input-3-68620a792cc4>:23: RuntimeWarning: Highpass cutoff frequency 16.0 is greater than lowpass cutoff frequency 0.7, setting values to 0 and Nyquist.\n",
            "  raw = mne.io.read_raw_edf(os.path.join(data_folder, psg_file), preload=True, verbose=False)\n"
          ]
        },
        {
          "output_type": "stream",
          "name": "stdout",
          "text": [
            "NOTE: pick_channels() is a legacy function. New code should use inst.pick(...).\n"
          ]
        },
        {
          "output_type": "stream",
          "name": "stderr",
          "text": [
            "<ipython-input-3-68620a792cc4>:26: RuntimeWarning: Limited 1 annotation(s) that were expanding outside the data range.\n",
            "  raw.set_annotations(annotations)\n",
            "<ipython-input-3-68620a792cc4>:23: RuntimeWarning: Channels contain different highpass filters. Highest filter setting will be stored.\n",
            "  raw = mne.io.read_raw_edf(os.path.join(data_folder, psg_file), preload=True, verbose=False)\n",
            "<ipython-input-3-68620a792cc4>:23: RuntimeWarning: Channels contain different lowpass filters. Lowest filter setting will be stored.\n",
            "  raw = mne.io.read_raw_edf(os.path.join(data_folder, psg_file), preload=True, verbose=False)\n",
            "<ipython-input-3-68620a792cc4>:23: RuntimeWarning: Highpass cutoff frequency 16.0 is greater than lowpass cutoff frequency 0.7, setting values to 0 and Nyquist.\n",
            "  raw = mne.io.read_raw_edf(os.path.join(data_folder, psg_file), preload=True, verbose=False)\n"
          ]
        },
        {
          "output_type": "stream",
          "name": "stdout",
          "text": [
            "NOTE: pick_channels() is a legacy function. New code should use inst.pick(...).\n"
          ]
        },
        {
          "output_type": "stream",
          "name": "stderr",
          "text": [
            "<ipython-input-3-68620a792cc4>:26: RuntimeWarning: Limited 1 annotation(s) that were expanding outside the data range.\n",
            "  raw.set_annotations(annotations)\n",
            "<ipython-input-3-68620a792cc4>:23: RuntimeWarning: Channels contain different highpass filters. Highest filter setting will be stored.\n",
            "  raw = mne.io.read_raw_edf(os.path.join(data_folder, psg_file), preload=True, verbose=False)\n",
            "<ipython-input-3-68620a792cc4>:23: RuntimeWarning: Channels contain different lowpass filters. Lowest filter setting will be stored.\n",
            "  raw = mne.io.read_raw_edf(os.path.join(data_folder, psg_file), preload=True, verbose=False)\n",
            "<ipython-input-3-68620a792cc4>:23: RuntimeWarning: Highpass cutoff frequency 16.0 is greater than lowpass cutoff frequency 0.7, setting values to 0 and Nyquist.\n",
            "  raw = mne.io.read_raw_edf(os.path.join(data_folder, psg_file), preload=True, verbose=False)\n"
          ]
        },
        {
          "output_type": "stream",
          "name": "stdout",
          "text": [
            "NOTE: pick_channels() is a legacy function. New code should use inst.pick(...).\n"
          ]
        },
        {
          "output_type": "stream",
          "name": "stderr",
          "text": [
            "<ipython-input-3-68620a792cc4>:23: RuntimeWarning: Channels contain different highpass filters. Highest filter setting will be stored.\n",
            "  raw = mne.io.read_raw_edf(os.path.join(data_folder, psg_file), preload=True, verbose=False)\n",
            "<ipython-input-3-68620a792cc4>:23: RuntimeWarning: Channels contain different lowpass filters. Lowest filter setting will be stored.\n",
            "  raw = mne.io.read_raw_edf(os.path.join(data_folder, psg_file), preload=True, verbose=False)\n",
            "<ipython-input-3-68620a792cc4>:23: RuntimeWarning: Highpass cutoff frequency 16.0 is greater than lowpass cutoff frequency 0.7, setting values to 0 and Nyquist.\n",
            "  raw = mne.io.read_raw_edf(os.path.join(data_folder, psg_file), preload=True, verbose=False)\n"
          ]
        },
        {
          "output_type": "stream",
          "name": "stdout",
          "text": [
            "NOTE: pick_channels() is a legacy function. New code should use inst.pick(...).\n"
          ]
        },
        {
          "output_type": "stream",
          "name": "stderr",
          "text": [
            "<ipython-input-3-68620a792cc4>:23: RuntimeWarning: Channels contain different highpass filters. Highest filter setting will be stored.\n",
            "  raw = mne.io.read_raw_edf(os.path.join(data_folder, psg_file), preload=True, verbose=False)\n",
            "<ipython-input-3-68620a792cc4>:23: RuntimeWarning: Channels contain different lowpass filters. Lowest filter setting will be stored.\n",
            "  raw = mne.io.read_raw_edf(os.path.join(data_folder, psg_file), preload=True, verbose=False)\n",
            "<ipython-input-3-68620a792cc4>:23: RuntimeWarning: Highpass cutoff frequency 16.0 is greater than lowpass cutoff frequency 0.7, setting values to 0 and Nyquist.\n",
            "  raw = mne.io.read_raw_edf(os.path.join(data_folder, psg_file), preload=True, verbose=False)\n"
          ]
        },
        {
          "output_type": "stream",
          "name": "stdout",
          "text": [
            "NOTE: pick_channels() is a legacy function. New code should use inst.pick(...).\n"
          ]
        },
        {
          "output_type": "stream",
          "name": "stderr",
          "text": [
            "<ipython-input-3-68620a792cc4>:26: RuntimeWarning: Limited 1 annotation(s) that were expanding outside the data range.\n",
            "  raw.set_annotations(annotations)\n",
            "<ipython-input-3-68620a792cc4>:23: RuntimeWarning: Channels contain different highpass filters. Highest filter setting will be stored.\n",
            "  raw = mne.io.read_raw_edf(os.path.join(data_folder, psg_file), preload=True, verbose=False)\n",
            "<ipython-input-3-68620a792cc4>:23: RuntimeWarning: Channels contain different lowpass filters. Lowest filter setting will be stored.\n",
            "  raw = mne.io.read_raw_edf(os.path.join(data_folder, psg_file), preload=True, verbose=False)\n",
            "<ipython-input-3-68620a792cc4>:23: RuntimeWarning: Highpass cutoff frequency 16.0 is greater than lowpass cutoff frequency 0.7, setting values to 0 and Nyquist.\n",
            "  raw = mne.io.read_raw_edf(os.path.join(data_folder, psg_file), preload=True, verbose=False)\n"
          ]
        },
        {
          "output_type": "stream",
          "name": "stdout",
          "text": [
            "NOTE: pick_channels() is a legacy function. New code should use inst.pick(...).\n"
          ]
        },
        {
          "output_type": "stream",
          "name": "stderr",
          "text": [
            "<ipython-input-3-68620a792cc4>:26: RuntimeWarning: Limited 1 annotation(s) that were expanding outside the data range.\n",
            "  raw.set_annotations(annotations)\n",
            "<ipython-input-3-68620a792cc4>:23: RuntimeWarning: Channels contain different highpass filters. Highest filter setting will be stored.\n",
            "  raw = mne.io.read_raw_edf(os.path.join(data_folder, psg_file), preload=True, verbose=False)\n",
            "<ipython-input-3-68620a792cc4>:23: RuntimeWarning: Channels contain different lowpass filters. Lowest filter setting will be stored.\n",
            "  raw = mne.io.read_raw_edf(os.path.join(data_folder, psg_file), preload=True, verbose=False)\n",
            "<ipython-input-3-68620a792cc4>:23: RuntimeWarning: Highpass cutoff frequency 16.0 is greater than lowpass cutoff frequency 0.7, setting values to 0 and Nyquist.\n",
            "  raw = mne.io.read_raw_edf(os.path.join(data_folder, psg_file), preload=True, verbose=False)\n"
          ]
        },
        {
          "output_type": "stream",
          "name": "stdout",
          "text": [
            "NOTE: pick_channels() is a legacy function. New code should use inst.pick(...).\n"
          ]
        },
        {
          "output_type": "stream",
          "name": "stderr",
          "text": [
            "<ipython-input-3-68620a792cc4>:26: RuntimeWarning: Limited 1 annotation(s) that were expanding outside the data range.\n",
            "  raw.set_annotations(annotations)\n",
            "<ipython-input-3-68620a792cc4>:23: RuntimeWarning: Channels contain different highpass filters. Highest filter setting will be stored.\n",
            "  raw = mne.io.read_raw_edf(os.path.join(data_folder, psg_file), preload=True, verbose=False)\n",
            "<ipython-input-3-68620a792cc4>:23: RuntimeWarning: Channels contain different lowpass filters. Lowest filter setting will be stored.\n",
            "  raw = mne.io.read_raw_edf(os.path.join(data_folder, psg_file), preload=True, verbose=False)\n",
            "<ipython-input-3-68620a792cc4>:23: RuntimeWarning: Highpass cutoff frequency 16.0 is greater than lowpass cutoff frequency 0.7, setting values to 0 and Nyquist.\n",
            "  raw = mne.io.read_raw_edf(os.path.join(data_folder, psg_file), preload=True, verbose=False)\n"
          ]
        },
        {
          "output_type": "stream",
          "name": "stdout",
          "text": [
            "NOTE: pick_channels() is a legacy function. New code should use inst.pick(...).\n"
          ]
        },
        {
          "output_type": "stream",
          "name": "stderr",
          "text": [
            "<ipython-input-3-68620a792cc4>:26: RuntimeWarning: Limited 1 annotation(s) that were expanding outside the data range.\n",
            "  raw.set_annotations(annotations)\n",
            "<ipython-input-3-68620a792cc4>:23: RuntimeWarning: Channels contain different highpass filters. Highest filter setting will be stored.\n",
            "  raw = mne.io.read_raw_edf(os.path.join(data_folder, psg_file), preload=True, verbose=False)\n",
            "<ipython-input-3-68620a792cc4>:23: RuntimeWarning: Channels contain different lowpass filters. Lowest filter setting will be stored.\n",
            "  raw = mne.io.read_raw_edf(os.path.join(data_folder, psg_file), preload=True, verbose=False)\n",
            "<ipython-input-3-68620a792cc4>:23: RuntimeWarning: Highpass cutoff frequency 16.0 is greater than lowpass cutoff frequency 0.7, setting values to 0 and Nyquist.\n",
            "  raw = mne.io.read_raw_edf(os.path.join(data_folder, psg_file), preload=True, verbose=False)\n"
          ]
        },
        {
          "output_type": "stream",
          "name": "stdout",
          "text": [
            "NOTE: pick_channels() is a legacy function. New code should use inst.pick(...).\n"
          ]
        },
        {
          "output_type": "stream",
          "name": "stderr",
          "text": [
            "<ipython-input-3-68620a792cc4>:26: RuntimeWarning: Limited 1 annotation(s) that were expanding outside the data range.\n",
            "  raw.set_annotations(annotations)\n",
            "<ipython-input-3-68620a792cc4>:23: RuntimeWarning: Channels contain different highpass filters. Highest filter setting will be stored.\n",
            "  raw = mne.io.read_raw_edf(os.path.join(data_folder, psg_file), preload=True, verbose=False)\n",
            "<ipython-input-3-68620a792cc4>:23: RuntimeWarning: Channels contain different lowpass filters. Lowest filter setting will be stored.\n",
            "  raw = mne.io.read_raw_edf(os.path.join(data_folder, psg_file), preload=True, verbose=False)\n",
            "<ipython-input-3-68620a792cc4>:23: RuntimeWarning: Highpass cutoff frequency 16.0 is greater than lowpass cutoff frequency 0.7, setting values to 0 and Nyquist.\n",
            "  raw = mne.io.read_raw_edf(os.path.join(data_folder, psg_file), preload=True, verbose=False)\n"
          ]
        },
        {
          "output_type": "stream",
          "name": "stdout",
          "text": [
            "NOTE: pick_channels() is a legacy function. New code should use inst.pick(...).\n"
          ]
        },
        {
          "output_type": "stream",
          "name": "stderr",
          "text": [
            "<ipython-input-3-68620a792cc4>:26: RuntimeWarning: Limited 1 annotation(s) that were expanding outside the data range.\n",
            "  raw.set_annotations(annotations)\n",
            "<ipython-input-3-68620a792cc4>:23: RuntimeWarning: Channels contain different highpass filters. Highest filter setting will be stored.\n",
            "  raw = mne.io.read_raw_edf(os.path.join(data_folder, psg_file), preload=True, verbose=False)\n",
            "<ipython-input-3-68620a792cc4>:23: RuntimeWarning: Channels contain different lowpass filters. Lowest filter setting will be stored.\n",
            "  raw = mne.io.read_raw_edf(os.path.join(data_folder, psg_file), preload=True, verbose=False)\n",
            "<ipython-input-3-68620a792cc4>:23: RuntimeWarning: Highpass cutoff frequency 16.0 is greater than lowpass cutoff frequency 0.7, setting values to 0 and Nyquist.\n",
            "  raw = mne.io.read_raw_edf(os.path.join(data_folder, psg_file), preload=True, verbose=False)\n"
          ]
        },
        {
          "output_type": "stream",
          "name": "stdout",
          "text": [
            "NOTE: pick_channels() is a legacy function. New code should use inst.pick(...).\n"
          ]
        },
        {
          "output_type": "stream",
          "name": "stderr",
          "text": [
            "<ipython-input-3-68620a792cc4>:26: RuntimeWarning: Limited 1 annotation(s) that were expanding outside the data range.\n",
            "  raw.set_annotations(annotations)\n",
            "<ipython-input-3-68620a792cc4>:23: RuntimeWarning: Channels contain different highpass filters. Highest filter setting will be stored.\n",
            "  raw = mne.io.read_raw_edf(os.path.join(data_folder, psg_file), preload=True, verbose=False)\n",
            "<ipython-input-3-68620a792cc4>:23: RuntimeWarning: Channels contain different lowpass filters. Lowest filter setting will be stored.\n",
            "  raw = mne.io.read_raw_edf(os.path.join(data_folder, psg_file), preload=True, verbose=False)\n",
            "<ipython-input-3-68620a792cc4>:23: RuntimeWarning: Highpass cutoff frequency 16.0 is greater than lowpass cutoff frequency 0.7, setting values to 0 and Nyquist.\n",
            "  raw = mne.io.read_raw_edf(os.path.join(data_folder, psg_file), preload=True, verbose=False)\n"
          ]
        },
        {
          "output_type": "stream",
          "name": "stdout",
          "text": [
            "NOTE: pick_channels() is a legacy function. New code should use inst.pick(...).\n"
          ]
        },
        {
          "output_type": "stream",
          "name": "stderr",
          "text": [
            "<ipython-input-3-68620a792cc4>:26: RuntimeWarning: Limited 1 annotation(s) that were expanding outside the data range.\n",
            "  raw.set_annotations(annotations)\n",
            "<ipython-input-3-68620a792cc4>:23: RuntimeWarning: Channels contain different highpass filters. Highest filter setting will be stored.\n",
            "  raw = mne.io.read_raw_edf(os.path.join(data_folder, psg_file), preload=True, verbose=False)\n",
            "<ipython-input-3-68620a792cc4>:23: RuntimeWarning: Channels contain different lowpass filters. Lowest filter setting will be stored.\n",
            "  raw = mne.io.read_raw_edf(os.path.join(data_folder, psg_file), preload=True, verbose=False)\n",
            "<ipython-input-3-68620a792cc4>:23: RuntimeWarning: Highpass cutoff frequency 16.0 is greater than lowpass cutoff frequency 0.7, setting values to 0 and Nyquist.\n",
            "  raw = mne.io.read_raw_edf(os.path.join(data_folder, psg_file), preload=True, verbose=False)\n"
          ]
        },
        {
          "output_type": "stream",
          "name": "stdout",
          "text": [
            "NOTE: pick_channels() is a legacy function. New code should use inst.pick(...).\n"
          ]
        },
        {
          "output_type": "stream",
          "name": "stderr",
          "text": [
            "<ipython-input-3-68620a792cc4>:26: RuntimeWarning: Limited 1 annotation(s) that were expanding outside the data range.\n",
            "  raw.set_annotations(annotations)\n",
            "<ipython-input-3-68620a792cc4>:23: RuntimeWarning: Channels contain different highpass filters. Highest filter setting will be stored.\n",
            "  raw = mne.io.read_raw_edf(os.path.join(data_folder, psg_file), preload=True, verbose=False)\n",
            "<ipython-input-3-68620a792cc4>:23: RuntimeWarning: Channels contain different lowpass filters. Lowest filter setting will be stored.\n",
            "  raw = mne.io.read_raw_edf(os.path.join(data_folder, psg_file), preload=True, verbose=False)\n",
            "<ipython-input-3-68620a792cc4>:23: RuntimeWarning: Highpass cutoff frequency 16.0 is greater than lowpass cutoff frequency 0.7, setting values to 0 and Nyquist.\n",
            "  raw = mne.io.read_raw_edf(os.path.join(data_folder, psg_file), preload=True, verbose=False)\n"
          ]
        },
        {
          "output_type": "stream",
          "name": "stdout",
          "text": [
            "NOTE: pick_channels() is a legacy function. New code should use inst.pick(...).\n"
          ]
        },
        {
          "output_type": "stream",
          "name": "stderr",
          "text": [
            "<ipython-input-3-68620a792cc4>:26: RuntimeWarning: Limited 1 annotation(s) that were expanding outside the data range.\n",
            "  raw.set_annotations(annotations)\n",
            "<ipython-input-3-68620a792cc4>:23: RuntimeWarning: Channels contain different highpass filters. Highest filter setting will be stored.\n",
            "  raw = mne.io.read_raw_edf(os.path.join(data_folder, psg_file), preload=True, verbose=False)\n",
            "<ipython-input-3-68620a792cc4>:23: RuntimeWarning: Channels contain different lowpass filters. Lowest filter setting will be stored.\n",
            "  raw = mne.io.read_raw_edf(os.path.join(data_folder, psg_file), preload=True, verbose=False)\n",
            "<ipython-input-3-68620a792cc4>:23: RuntimeWarning: Highpass cutoff frequency 16.0 is greater than lowpass cutoff frequency 0.7, setting values to 0 and Nyquist.\n",
            "  raw = mne.io.read_raw_edf(os.path.join(data_folder, psg_file), preload=True, verbose=False)\n"
          ]
        },
        {
          "output_type": "stream",
          "name": "stdout",
          "text": [
            "NOTE: pick_channels() is a legacy function. New code should use inst.pick(...).\n"
          ]
        },
        {
          "output_type": "stream",
          "name": "stderr",
          "text": [
            "<ipython-input-3-68620a792cc4>:26: RuntimeWarning: Limited 1 annotation(s) that were expanding outside the data range.\n",
            "  raw.set_annotations(annotations)\n",
            "<ipython-input-3-68620a792cc4>:23: RuntimeWarning: Channels contain different highpass filters. Highest filter setting will be stored.\n",
            "  raw = mne.io.read_raw_edf(os.path.join(data_folder, psg_file), preload=True, verbose=False)\n",
            "<ipython-input-3-68620a792cc4>:23: RuntimeWarning: Channels contain different lowpass filters. Lowest filter setting will be stored.\n",
            "  raw = mne.io.read_raw_edf(os.path.join(data_folder, psg_file), preload=True, verbose=False)\n",
            "<ipython-input-3-68620a792cc4>:23: RuntimeWarning: Highpass cutoff frequency 16.0 is greater than lowpass cutoff frequency 0.7, setting values to 0 and Nyquist.\n",
            "  raw = mne.io.read_raw_edf(os.path.join(data_folder, psg_file), preload=True, verbose=False)\n"
          ]
        },
        {
          "output_type": "stream",
          "name": "stdout",
          "text": [
            "NOTE: pick_channels() is a legacy function. New code should use inst.pick(...).\n"
          ]
        },
        {
          "output_type": "stream",
          "name": "stderr",
          "text": [
            "<ipython-input-3-68620a792cc4>:26: RuntimeWarning: Limited 1 annotation(s) that were expanding outside the data range.\n",
            "  raw.set_annotations(annotations)\n",
            "<ipython-input-3-68620a792cc4>:23: RuntimeWarning: Channels contain different highpass filters. Highest filter setting will be stored.\n",
            "  raw = mne.io.read_raw_edf(os.path.join(data_folder, psg_file), preload=True, verbose=False)\n",
            "<ipython-input-3-68620a792cc4>:23: RuntimeWarning: Channels contain different lowpass filters. Lowest filter setting will be stored.\n",
            "  raw = mne.io.read_raw_edf(os.path.join(data_folder, psg_file), preload=True, verbose=False)\n",
            "<ipython-input-3-68620a792cc4>:23: RuntimeWarning: Highpass cutoff frequency 16.0 is greater than lowpass cutoff frequency 0.7, setting values to 0 and Nyquist.\n",
            "  raw = mne.io.read_raw_edf(os.path.join(data_folder, psg_file), preload=True, verbose=False)\n"
          ]
        },
        {
          "output_type": "stream",
          "name": "stdout",
          "text": [
            "NOTE: pick_channels() is a legacy function. New code should use inst.pick(...).\n"
          ]
        },
        {
          "output_type": "stream",
          "name": "stderr",
          "text": [
            "<ipython-input-3-68620a792cc4>:26: RuntimeWarning: Limited 1 annotation(s) that were expanding outside the data range.\n",
            "  raw.set_annotations(annotations)\n",
            "<ipython-input-3-68620a792cc4>:23: RuntimeWarning: Channels contain different highpass filters. Highest filter setting will be stored.\n",
            "  raw = mne.io.read_raw_edf(os.path.join(data_folder, psg_file), preload=True, verbose=False)\n",
            "<ipython-input-3-68620a792cc4>:23: RuntimeWarning: Channels contain different lowpass filters. Lowest filter setting will be stored.\n",
            "  raw = mne.io.read_raw_edf(os.path.join(data_folder, psg_file), preload=True, verbose=False)\n",
            "<ipython-input-3-68620a792cc4>:23: RuntimeWarning: Highpass cutoff frequency 16.0 is greater than lowpass cutoff frequency 0.7, setting values to 0 and Nyquist.\n",
            "  raw = mne.io.read_raw_edf(os.path.join(data_folder, psg_file), preload=True, verbose=False)\n"
          ]
        },
        {
          "output_type": "stream",
          "name": "stdout",
          "text": [
            "NOTE: pick_channels() is a legacy function. New code should use inst.pick(...).\n"
          ]
        },
        {
          "output_type": "stream",
          "name": "stderr",
          "text": [
            "<ipython-input-3-68620a792cc4>:26: RuntimeWarning: Limited 1 annotation(s) that were expanding outside the data range.\n",
            "  raw.set_annotations(annotations)\n",
            "<ipython-input-3-68620a792cc4>:23: RuntimeWarning: Channels contain different highpass filters. Highest filter setting will be stored.\n",
            "  raw = mne.io.read_raw_edf(os.path.join(data_folder, psg_file), preload=True, verbose=False)\n",
            "<ipython-input-3-68620a792cc4>:23: RuntimeWarning: Channels contain different lowpass filters. Lowest filter setting will be stored.\n",
            "  raw = mne.io.read_raw_edf(os.path.join(data_folder, psg_file), preload=True, verbose=False)\n",
            "<ipython-input-3-68620a792cc4>:23: RuntimeWarning: Highpass cutoff frequency 16.0 is greater than lowpass cutoff frequency 0.7, setting values to 0 and Nyquist.\n",
            "  raw = mne.io.read_raw_edf(os.path.join(data_folder, psg_file), preload=True, verbose=False)\n"
          ]
        },
        {
          "output_type": "stream",
          "name": "stdout",
          "text": [
            "NOTE: pick_channels() is a legacy function. New code should use inst.pick(...).\n"
          ]
        },
        {
          "output_type": "stream",
          "name": "stderr",
          "text": [
            "<ipython-input-3-68620a792cc4>:26: RuntimeWarning: Limited 1 annotation(s) that were expanding outside the data range.\n",
            "  raw.set_annotations(annotations)\n",
            "<ipython-input-3-68620a792cc4>:23: RuntimeWarning: Channels contain different highpass filters. Highest filter setting will be stored.\n",
            "  raw = mne.io.read_raw_edf(os.path.join(data_folder, psg_file), preload=True, verbose=False)\n",
            "<ipython-input-3-68620a792cc4>:23: RuntimeWarning: Channels contain different lowpass filters. Lowest filter setting will be stored.\n",
            "  raw = mne.io.read_raw_edf(os.path.join(data_folder, psg_file), preload=True, verbose=False)\n",
            "<ipython-input-3-68620a792cc4>:23: RuntimeWarning: Highpass cutoff frequency 16.0 is greater than lowpass cutoff frequency 0.7, setting values to 0 and Nyquist.\n",
            "  raw = mne.io.read_raw_edf(os.path.join(data_folder, psg_file), preload=True, verbose=False)\n"
          ]
        },
        {
          "output_type": "stream",
          "name": "stdout",
          "text": [
            "NOTE: pick_channels() is a legacy function. New code should use inst.pick(...).\n"
          ]
        },
        {
          "output_type": "stream",
          "name": "stderr",
          "text": [
            "<ipython-input-3-68620a792cc4>:26: RuntimeWarning: Limited 1 annotation(s) that were expanding outside the data range.\n",
            "  raw.set_annotations(annotations)\n",
            "<ipython-input-3-68620a792cc4>:23: RuntimeWarning: Channels contain different highpass filters. Highest filter setting will be stored.\n",
            "  raw = mne.io.read_raw_edf(os.path.join(data_folder, psg_file), preload=True, verbose=False)\n",
            "<ipython-input-3-68620a792cc4>:23: RuntimeWarning: Channels contain different lowpass filters. Lowest filter setting will be stored.\n",
            "  raw = mne.io.read_raw_edf(os.path.join(data_folder, psg_file), preload=True, verbose=False)\n",
            "<ipython-input-3-68620a792cc4>:23: RuntimeWarning: Highpass cutoff frequency 16.0 is greater than lowpass cutoff frequency 0.7, setting values to 0 and Nyquist.\n",
            "  raw = mne.io.read_raw_edf(os.path.join(data_folder, psg_file), preload=True, verbose=False)\n"
          ]
        },
        {
          "output_type": "stream",
          "name": "stdout",
          "text": [
            "NOTE: pick_channels() is a legacy function. New code should use inst.pick(...).\n"
          ]
        },
        {
          "output_type": "stream",
          "name": "stderr",
          "text": [
            "<ipython-input-3-68620a792cc4>:23: RuntimeWarning: Channels contain different highpass filters. Highest filter setting will be stored.\n",
            "  raw = mne.io.read_raw_edf(os.path.join(data_folder, psg_file), preload=True, verbose=False)\n",
            "<ipython-input-3-68620a792cc4>:23: RuntimeWarning: Channels contain different lowpass filters. Lowest filter setting will be stored.\n",
            "  raw = mne.io.read_raw_edf(os.path.join(data_folder, psg_file), preload=True, verbose=False)\n",
            "<ipython-input-3-68620a792cc4>:23: RuntimeWarning: Highpass cutoff frequency 16.0 is greater than lowpass cutoff frequency 0.7, setting values to 0 and Nyquist.\n",
            "  raw = mne.io.read_raw_edf(os.path.join(data_folder, psg_file), preload=True, verbose=False)\n"
          ]
        },
        {
          "output_type": "stream",
          "name": "stdout",
          "text": [
            "NOTE: pick_channels() is a legacy function. New code should use inst.pick(...).\n"
          ]
        },
        {
          "output_type": "stream",
          "name": "stderr",
          "text": [
            "<ipython-input-3-68620a792cc4>:26: RuntimeWarning: Limited 1 annotation(s) that were expanding outside the data range.\n",
            "  raw.set_annotations(annotations)\n",
            "<ipython-input-3-68620a792cc4>:23: RuntimeWarning: Channels contain different highpass filters. Highest filter setting will be stored.\n",
            "  raw = mne.io.read_raw_edf(os.path.join(data_folder, psg_file), preload=True, verbose=False)\n",
            "<ipython-input-3-68620a792cc4>:23: RuntimeWarning: Channels contain different lowpass filters. Lowest filter setting will be stored.\n",
            "  raw = mne.io.read_raw_edf(os.path.join(data_folder, psg_file), preload=True, verbose=False)\n",
            "<ipython-input-3-68620a792cc4>:23: RuntimeWarning: Highpass cutoff frequency 16.0 is greater than lowpass cutoff frequency 0.7, setting values to 0 and Nyquist.\n",
            "  raw = mne.io.read_raw_edf(os.path.join(data_folder, psg_file), preload=True, verbose=False)\n"
          ]
        },
        {
          "output_type": "stream",
          "name": "stdout",
          "text": [
            "NOTE: pick_channels() is a legacy function. New code should use inst.pick(...).\n"
          ]
        },
        {
          "output_type": "stream",
          "name": "stderr",
          "text": [
            "<ipython-input-3-68620a792cc4>:26: RuntimeWarning: Limited 1 annotation(s) that were expanding outside the data range.\n",
            "  raw.set_annotations(annotations)\n",
            "<ipython-input-3-68620a792cc4>:23: RuntimeWarning: Channels contain different highpass filters. Highest filter setting will be stored.\n",
            "  raw = mne.io.read_raw_edf(os.path.join(data_folder, psg_file), preload=True, verbose=False)\n",
            "<ipython-input-3-68620a792cc4>:23: RuntimeWarning: Channels contain different lowpass filters. Lowest filter setting will be stored.\n",
            "  raw = mne.io.read_raw_edf(os.path.join(data_folder, psg_file), preload=True, verbose=False)\n",
            "<ipython-input-3-68620a792cc4>:23: RuntimeWarning: Highpass cutoff frequency 16.0 is greater than lowpass cutoff frequency 0.7, setting values to 0 and Nyquist.\n",
            "  raw = mne.io.read_raw_edf(os.path.join(data_folder, psg_file), preload=True, verbose=False)\n"
          ]
        },
        {
          "output_type": "stream",
          "name": "stdout",
          "text": [
            "NOTE: pick_channels() is a legacy function. New code should use inst.pick(...).\n"
          ]
        },
        {
          "output_type": "stream",
          "name": "stderr",
          "text": [
            "<ipython-input-3-68620a792cc4>:26: RuntimeWarning: Limited 1 annotation(s) that were expanding outside the data range.\n",
            "  raw.set_annotations(annotations)\n",
            "<ipython-input-3-68620a792cc4>:23: RuntimeWarning: Channels contain different highpass filters. Highest filter setting will be stored.\n",
            "  raw = mne.io.read_raw_edf(os.path.join(data_folder, psg_file), preload=True, verbose=False)\n",
            "<ipython-input-3-68620a792cc4>:23: RuntimeWarning: Channels contain different lowpass filters. Lowest filter setting will be stored.\n",
            "  raw = mne.io.read_raw_edf(os.path.join(data_folder, psg_file), preload=True, verbose=False)\n",
            "<ipython-input-3-68620a792cc4>:23: RuntimeWarning: Highpass cutoff frequency 16.0 is greater than lowpass cutoff frequency 0.7, setting values to 0 and Nyquist.\n",
            "  raw = mne.io.read_raw_edf(os.path.join(data_folder, psg_file), preload=True, verbose=False)\n"
          ]
        },
        {
          "output_type": "stream",
          "name": "stdout",
          "text": [
            "NOTE: pick_channels() is a legacy function. New code should use inst.pick(...).\n"
          ]
        },
        {
          "output_type": "stream",
          "name": "stderr",
          "text": [
            "<ipython-input-3-68620a792cc4>:26: RuntimeWarning: Limited 1 annotation(s) that were expanding outside the data range.\n",
            "  raw.set_annotations(annotations)\n",
            "<ipython-input-3-68620a792cc4>:23: RuntimeWarning: Channels contain different highpass filters. Highest filter setting will be stored.\n",
            "  raw = mne.io.read_raw_edf(os.path.join(data_folder, psg_file), preload=True, verbose=False)\n",
            "<ipython-input-3-68620a792cc4>:23: RuntimeWarning: Channels contain different lowpass filters. Lowest filter setting will be stored.\n",
            "  raw = mne.io.read_raw_edf(os.path.join(data_folder, psg_file), preload=True, verbose=False)\n",
            "<ipython-input-3-68620a792cc4>:23: RuntimeWarning: Highpass cutoff frequency 16.0 is greater than lowpass cutoff frequency 0.7, setting values to 0 and Nyquist.\n",
            "  raw = mne.io.read_raw_edf(os.path.join(data_folder, psg_file), preload=True, verbose=False)\n"
          ]
        },
        {
          "output_type": "stream",
          "name": "stdout",
          "text": [
            "NOTE: pick_channels() is a legacy function. New code should use inst.pick(...).\n"
          ]
        },
        {
          "output_type": "stream",
          "name": "stderr",
          "text": [
            "<ipython-input-3-68620a792cc4>:26: RuntimeWarning: Limited 1 annotation(s) that were expanding outside the data range.\n",
            "  raw.set_annotations(annotations)\n",
            "<ipython-input-3-68620a792cc4>:23: RuntimeWarning: Channels contain different highpass filters. Highest filter setting will be stored.\n",
            "  raw = mne.io.read_raw_edf(os.path.join(data_folder, psg_file), preload=True, verbose=False)\n",
            "<ipython-input-3-68620a792cc4>:23: RuntimeWarning: Channels contain different lowpass filters. Lowest filter setting will be stored.\n",
            "  raw = mne.io.read_raw_edf(os.path.join(data_folder, psg_file), preload=True, verbose=False)\n",
            "<ipython-input-3-68620a792cc4>:23: RuntimeWarning: Highpass cutoff frequency 16.0 is greater than lowpass cutoff frequency 0.7, setting values to 0 and Nyquist.\n",
            "  raw = mne.io.read_raw_edf(os.path.join(data_folder, psg_file), preload=True, verbose=False)\n"
          ]
        },
        {
          "output_type": "stream",
          "name": "stdout",
          "text": [
            "NOTE: pick_channels() is a legacy function. New code should use inst.pick(...).\n"
          ]
        },
        {
          "output_type": "stream",
          "name": "stderr",
          "text": [
            "<ipython-input-3-68620a792cc4>:26: RuntimeWarning: Limited 1 annotation(s) that were expanding outside the data range.\n",
            "  raw.set_annotations(annotations)\n",
            "<ipython-input-3-68620a792cc4>:23: RuntimeWarning: Channels contain different highpass filters. Highest filter setting will be stored.\n",
            "  raw = mne.io.read_raw_edf(os.path.join(data_folder, psg_file), preload=True, verbose=False)\n",
            "<ipython-input-3-68620a792cc4>:23: RuntimeWarning: Channels contain different lowpass filters. Lowest filter setting will be stored.\n",
            "  raw = mne.io.read_raw_edf(os.path.join(data_folder, psg_file), preload=True, verbose=False)\n",
            "<ipython-input-3-68620a792cc4>:23: RuntimeWarning: Highpass cutoff frequency 16.0 is greater than lowpass cutoff frequency 0.7, setting values to 0 and Nyquist.\n",
            "  raw = mne.io.read_raw_edf(os.path.join(data_folder, psg_file), preload=True, verbose=False)\n"
          ]
        },
        {
          "output_type": "stream",
          "name": "stdout",
          "text": [
            "NOTE: pick_channels() is a legacy function. New code should use inst.pick(...).\n"
          ]
        },
        {
          "output_type": "stream",
          "name": "stderr",
          "text": [
            "<ipython-input-3-68620a792cc4>:26: RuntimeWarning: Limited 1 annotation(s) that were expanding outside the data range.\n",
            "  raw.set_annotations(annotations)\n",
            "<ipython-input-3-68620a792cc4>:23: RuntimeWarning: Channels contain different highpass filters. Highest filter setting will be stored.\n",
            "  raw = mne.io.read_raw_edf(os.path.join(data_folder, psg_file), preload=True, verbose=False)\n",
            "<ipython-input-3-68620a792cc4>:23: RuntimeWarning: Channels contain different lowpass filters. Lowest filter setting will be stored.\n",
            "  raw = mne.io.read_raw_edf(os.path.join(data_folder, psg_file), preload=True, verbose=False)\n",
            "<ipython-input-3-68620a792cc4>:23: RuntimeWarning: Highpass cutoff frequency 16.0 is greater than lowpass cutoff frequency 0.7, setting values to 0 and Nyquist.\n",
            "  raw = mne.io.read_raw_edf(os.path.join(data_folder, psg_file), preload=True, verbose=False)\n"
          ]
        },
        {
          "output_type": "stream",
          "name": "stdout",
          "text": [
            "NOTE: pick_channels() is a legacy function. New code should use inst.pick(...).\n"
          ]
        },
        {
          "output_type": "stream",
          "name": "stderr",
          "text": [
            "<ipython-input-3-68620a792cc4>:26: RuntimeWarning: Limited 1 annotation(s) that were expanding outside the data range.\n",
            "  raw.set_annotations(annotations)\n",
            "<ipython-input-3-68620a792cc4>:23: RuntimeWarning: Channels contain different highpass filters. Highest filter setting will be stored.\n",
            "  raw = mne.io.read_raw_edf(os.path.join(data_folder, psg_file), preload=True, verbose=False)\n",
            "<ipython-input-3-68620a792cc4>:23: RuntimeWarning: Channels contain different lowpass filters. Lowest filter setting will be stored.\n",
            "  raw = mne.io.read_raw_edf(os.path.join(data_folder, psg_file), preload=True, verbose=False)\n",
            "<ipython-input-3-68620a792cc4>:23: RuntimeWarning: Highpass cutoff frequency 16.0 is greater than lowpass cutoff frequency 0.7, setting values to 0 and Nyquist.\n",
            "  raw = mne.io.read_raw_edf(os.path.join(data_folder, psg_file), preload=True, verbose=False)\n"
          ]
        },
        {
          "output_type": "stream",
          "name": "stdout",
          "text": [
            "NOTE: pick_channels() is a legacy function. New code should use inst.pick(...).\n"
          ]
        },
        {
          "output_type": "stream",
          "name": "stderr",
          "text": [
            "<ipython-input-3-68620a792cc4>:26: RuntimeWarning: Limited 1 annotation(s) that were expanding outside the data range.\n",
            "  raw.set_annotations(annotations)\n",
            "<ipython-input-3-68620a792cc4>:23: RuntimeWarning: Channels contain different highpass filters. Highest filter setting will be stored.\n",
            "  raw = mne.io.read_raw_edf(os.path.join(data_folder, psg_file), preload=True, verbose=False)\n",
            "<ipython-input-3-68620a792cc4>:23: RuntimeWarning: Channels contain different lowpass filters. Lowest filter setting will be stored.\n",
            "  raw = mne.io.read_raw_edf(os.path.join(data_folder, psg_file), preload=True, verbose=False)\n",
            "<ipython-input-3-68620a792cc4>:23: RuntimeWarning: Highpass cutoff frequency 16.0 is greater than lowpass cutoff frequency 0.7, setting values to 0 and Nyquist.\n",
            "  raw = mne.io.read_raw_edf(os.path.join(data_folder, psg_file), preload=True, verbose=False)\n"
          ]
        },
        {
          "output_type": "stream",
          "name": "stdout",
          "text": [
            "NOTE: pick_channels() is a legacy function. New code should use inst.pick(...).\n"
          ]
        },
        {
          "output_type": "stream",
          "name": "stderr",
          "text": [
            "<ipython-input-3-68620a792cc4>:26: RuntimeWarning: Limited 1 annotation(s) that were expanding outside the data range.\n",
            "  raw.set_annotations(annotations)\n",
            "<ipython-input-3-68620a792cc4>:23: RuntimeWarning: Channels contain different highpass filters. Highest filter setting will be stored.\n",
            "  raw = mne.io.read_raw_edf(os.path.join(data_folder, psg_file), preload=True, verbose=False)\n",
            "<ipython-input-3-68620a792cc4>:23: RuntimeWarning: Channels contain different lowpass filters. Lowest filter setting will be stored.\n",
            "  raw = mne.io.read_raw_edf(os.path.join(data_folder, psg_file), preload=True, verbose=False)\n",
            "<ipython-input-3-68620a792cc4>:23: RuntimeWarning: Highpass cutoff frequency 16.0 is greater than lowpass cutoff frequency 0.7, setting values to 0 and Nyquist.\n",
            "  raw = mne.io.read_raw_edf(os.path.join(data_folder, psg_file), preload=True, verbose=False)\n"
          ]
        },
        {
          "output_type": "stream",
          "name": "stdout",
          "text": [
            "NOTE: pick_channels() is a legacy function. New code should use inst.pick(...).\n"
          ]
        },
        {
          "output_type": "stream",
          "name": "stderr",
          "text": [
            "<ipython-input-3-68620a792cc4>:26: RuntimeWarning: Limited 1 annotation(s) that were expanding outside the data range.\n",
            "  raw.set_annotations(annotations)\n",
            "<ipython-input-3-68620a792cc4>:23: RuntimeWarning: Channels contain different highpass filters. Highest filter setting will be stored.\n",
            "  raw = mne.io.read_raw_edf(os.path.join(data_folder, psg_file), preload=True, verbose=False)\n",
            "<ipython-input-3-68620a792cc4>:23: RuntimeWarning: Channels contain different lowpass filters. Lowest filter setting will be stored.\n",
            "  raw = mne.io.read_raw_edf(os.path.join(data_folder, psg_file), preload=True, verbose=False)\n",
            "<ipython-input-3-68620a792cc4>:23: RuntimeWarning: Highpass cutoff frequency 16.0 is greater than lowpass cutoff frequency 0.7, setting values to 0 and Nyquist.\n",
            "  raw = mne.io.read_raw_edf(os.path.join(data_folder, psg_file), preload=True, verbose=False)\n"
          ]
        },
        {
          "output_type": "stream",
          "name": "stdout",
          "text": [
            "NOTE: pick_channels() is a legacy function. New code should use inst.pick(...).\n"
          ]
        },
        {
          "output_type": "stream",
          "name": "stderr",
          "text": [
            "<ipython-input-3-68620a792cc4>:26: RuntimeWarning: Limited 1 annotation(s) that were expanding outside the data range.\n",
            "  raw.set_annotations(annotations)\n",
            "<ipython-input-3-68620a792cc4>:23: RuntimeWarning: Channels contain different highpass filters. Highest filter setting will be stored.\n",
            "  raw = mne.io.read_raw_edf(os.path.join(data_folder, psg_file), preload=True, verbose=False)\n",
            "<ipython-input-3-68620a792cc4>:23: RuntimeWarning: Channels contain different lowpass filters. Lowest filter setting will be stored.\n",
            "  raw = mne.io.read_raw_edf(os.path.join(data_folder, psg_file), preload=True, verbose=False)\n",
            "<ipython-input-3-68620a792cc4>:23: RuntimeWarning: Highpass cutoff frequency 16.0 is greater than lowpass cutoff frequency 0.7, setting values to 0 and Nyquist.\n",
            "  raw = mne.io.read_raw_edf(os.path.join(data_folder, psg_file), preload=True, verbose=False)\n"
          ]
        },
        {
          "output_type": "stream",
          "name": "stdout",
          "text": [
            "NOTE: pick_channels() is a legacy function. New code should use inst.pick(...).\n"
          ]
        },
        {
          "output_type": "stream",
          "name": "stderr",
          "text": [
            "<ipython-input-3-68620a792cc4>:26: RuntimeWarning: Limited 1 annotation(s) that were expanding outside the data range.\n",
            "  raw.set_annotations(annotations)\n",
            "<ipython-input-3-68620a792cc4>:23: RuntimeWarning: Channels contain different highpass filters. Highest filter setting will be stored.\n",
            "  raw = mne.io.read_raw_edf(os.path.join(data_folder, psg_file), preload=True, verbose=False)\n",
            "<ipython-input-3-68620a792cc4>:23: RuntimeWarning: Channels contain different lowpass filters. Lowest filter setting will be stored.\n",
            "  raw = mne.io.read_raw_edf(os.path.join(data_folder, psg_file), preload=True, verbose=False)\n",
            "<ipython-input-3-68620a792cc4>:23: RuntimeWarning: Highpass cutoff frequency 16.0 is greater than lowpass cutoff frequency 0.7, setting values to 0 and Nyquist.\n",
            "  raw = mne.io.read_raw_edf(os.path.join(data_folder, psg_file), preload=True, verbose=False)\n"
          ]
        },
        {
          "output_type": "stream",
          "name": "stdout",
          "text": [
            "NOTE: pick_channels() is a legacy function. New code should use inst.pick(...).\n"
          ]
        },
        {
          "output_type": "stream",
          "name": "stderr",
          "text": [
            "<ipython-input-3-68620a792cc4>:26: RuntimeWarning: Limited 1 annotation(s) that were expanding outside the data range.\n",
            "  raw.set_annotations(annotations)\n",
            "<ipython-input-3-68620a792cc4>:23: RuntimeWarning: Channels contain different highpass filters. Highest filter setting will be stored.\n",
            "  raw = mne.io.read_raw_edf(os.path.join(data_folder, psg_file), preload=True, verbose=False)\n",
            "<ipython-input-3-68620a792cc4>:23: RuntimeWarning: Channels contain different lowpass filters. Lowest filter setting will be stored.\n",
            "  raw = mne.io.read_raw_edf(os.path.join(data_folder, psg_file), preload=True, verbose=False)\n",
            "<ipython-input-3-68620a792cc4>:23: RuntimeWarning: Highpass cutoff frequency 16.0 is greater than lowpass cutoff frequency 0.7, setting values to 0 and Nyquist.\n",
            "  raw = mne.io.read_raw_edf(os.path.join(data_folder, psg_file), preload=True, verbose=False)\n"
          ]
        },
        {
          "output_type": "stream",
          "name": "stdout",
          "text": [
            "NOTE: pick_channels() is a legacy function. New code should use inst.pick(...).\n"
          ]
        },
        {
          "output_type": "stream",
          "name": "stderr",
          "text": [
            "<ipython-input-3-68620a792cc4>:26: RuntimeWarning: Limited 1 annotation(s) that were expanding outside the data range.\n",
            "  raw.set_annotations(annotations)\n",
            "<ipython-input-3-68620a792cc4>:23: RuntimeWarning: Channels contain different highpass filters. Highest filter setting will be stored.\n",
            "  raw = mne.io.read_raw_edf(os.path.join(data_folder, psg_file), preload=True, verbose=False)\n",
            "<ipython-input-3-68620a792cc4>:23: RuntimeWarning: Channels contain different lowpass filters. Lowest filter setting will be stored.\n",
            "  raw = mne.io.read_raw_edf(os.path.join(data_folder, psg_file), preload=True, verbose=False)\n",
            "<ipython-input-3-68620a792cc4>:23: RuntimeWarning: Highpass cutoff frequency 16.0 is greater than lowpass cutoff frequency 0.7, setting values to 0 and Nyquist.\n",
            "  raw = mne.io.read_raw_edf(os.path.join(data_folder, psg_file), preload=True, verbose=False)\n"
          ]
        },
        {
          "output_type": "stream",
          "name": "stdout",
          "text": [
            "NOTE: pick_channels() is a legacy function. New code should use inst.pick(...).\n"
          ]
        },
        {
          "output_type": "stream",
          "name": "stderr",
          "text": [
            "<ipython-input-3-68620a792cc4>:26: RuntimeWarning: Limited 1 annotation(s) that were expanding outside the data range.\n",
            "  raw.set_annotations(annotations)\n",
            "<ipython-input-3-68620a792cc4>:23: RuntimeWarning: Channels contain different highpass filters. Highest filter setting will be stored.\n",
            "  raw = mne.io.read_raw_edf(os.path.join(data_folder, psg_file), preload=True, verbose=False)\n",
            "<ipython-input-3-68620a792cc4>:23: RuntimeWarning: Channels contain different lowpass filters. Lowest filter setting will be stored.\n",
            "  raw = mne.io.read_raw_edf(os.path.join(data_folder, psg_file), preload=True, verbose=False)\n",
            "<ipython-input-3-68620a792cc4>:23: RuntimeWarning: Highpass cutoff frequency 16.0 is greater than lowpass cutoff frequency 0.7, setting values to 0 and Nyquist.\n",
            "  raw = mne.io.read_raw_edf(os.path.join(data_folder, psg_file), preload=True, verbose=False)\n"
          ]
        },
        {
          "output_type": "stream",
          "name": "stdout",
          "text": [
            "NOTE: pick_channels() is a legacy function. New code should use inst.pick(...).\n"
          ]
        },
        {
          "output_type": "stream",
          "name": "stderr",
          "text": [
            "<ipython-input-3-68620a792cc4>:26: RuntimeWarning: Limited 1 annotation(s) that were expanding outside the data range.\n",
            "  raw.set_annotations(annotations)\n",
            "<ipython-input-3-68620a792cc4>:23: RuntimeWarning: Channels contain different highpass filters. Highest filter setting will be stored.\n",
            "  raw = mne.io.read_raw_edf(os.path.join(data_folder, psg_file), preload=True, verbose=False)\n",
            "<ipython-input-3-68620a792cc4>:23: RuntimeWarning: Channels contain different lowpass filters. Lowest filter setting will be stored.\n",
            "  raw = mne.io.read_raw_edf(os.path.join(data_folder, psg_file), preload=True, verbose=False)\n",
            "<ipython-input-3-68620a792cc4>:23: RuntimeWarning: Highpass cutoff frequency 16.0 is greater than lowpass cutoff frequency 0.7, setting values to 0 and Nyquist.\n",
            "  raw = mne.io.read_raw_edf(os.path.join(data_folder, psg_file), preload=True, verbose=False)\n"
          ]
        },
        {
          "output_type": "stream",
          "name": "stdout",
          "text": [
            "NOTE: pick_channels() is a legacy function. New code should use inst.pick(...).\n"
          ]
        },
        {
          "output_type": "stream",
          "name": "stderr",
          "text": [
            "<ipython-input-3-68620a792cc4>:26: RuntimeWarning: Limited 1 annotation(s) that were expanding outside the data range.\n",
            "  raw.set_annotations(annotations)\n",
            "<ipython-input-3-68620a792cc4>:23: RuntimeWarning: Channels contain different highpass filters. Highest filter setting will be stored.\n",
            "  raw = mne.io.read_raw_edf(os.path.join(data_folder, psg_file), preload=True, verbose=False)\n",
            "<ipython-input-3-68620a792cc4>:23: RuntimeWarning: Channels contain different lowpass filters. Lowest filter setting will be stored.\n",
            "  raw = mne.io.read_raw_edf(os.path.join(data_folder, psg_file), preload=True, verbose=False)\n",
            "<ipython-input-3-68620a792cc4>:23: RuntimeWarning: Highpass cutoff frequency 16.0 is greater than lowpass cutoff frequency 0.7, setting values to 0 and Nyquist.\n",
            "  raw = mne.io.read_raw_edf(os.path.join(data_folder, psg_file), preload=True, verbose=False)\n"
          ]
        },
        {
          "output_type": "stream",
          "name": "stdout",
          "text": [
            "NOTE: pick_channels() is a legacy function. New code should use inst.pick(...).\n"
          ]
        },
        {
          "output_type": "stream",
          "name": "stderr",
          "text": [
            "<ipython-input-3-68620a792cc4>:26: RuntimeWarning: Limited 1 annotation(s) that were expanding outside the data range.\n",
            "  raw.set_annotations(annotations)\n",
            "<ipython-input-3-68620a792cc4>:23: RuntimeWarning: Channels contain different highpass filters. Highest filter setting will be stored.\n",
            "  raw = mne.io.read_raw_edf(os.path.join(data_folder, psg_file), preload=True, verbose=False)\n",
            "<ipython-input-3-68620a792cc4>:23: RuntimeWarning: Channels contain different lowpass filters. Lowest filter setting will be stored.\n",
            "  raw = mne.io.read_raw_edf(os.path.join(data_folder, psg_file), preload=True, verbose=False)\n",
            "<ipython-input-3-68620a792cc4>:23: RuntimeWarning: Highpass cutoff frequency 16.0 is greater than lowpass cutoff frequency 0.7, setting values to 0 and Nyquist.\n",
            "  raw = mne.io.read_raw_edf(os.path.join(data_folder, psg_file), preload=True, verbose=False)\n"
          ]
        },
        {
          "output_type": "stream",
          "name": "stdout",
          "text": [
            "NOTE: pick_channels() is a legacy function. New code should use inst.pick(...).\n"
          ]
        },
        {
          "output_type": "stream",
          "name": "stderr",
          "text": [
            "<ipython-input-3-68620a792cc4>:26: RuntimeWarning: Limited 1 annotation(s) that were expanding outside the data range.\n",
            "  raw.set_annotations(annotations)\n",
            "<ipython-input-3-68620a792cc4>:23: RuntimeWarning: Channels contain different highpass filters. Highest filter setting will be stored.\n",
            "  raw = mne.io.read_raw_edf(os.path.join(data_folder, psg_file), preload=True, verbose=False)\n",
            "<ipython-input-3-68620a792cc4>:23: RuntimeWarning: Channels contain different lowpass filters. Lowest filter setting will be stored.\n",
            "  raw = mne.io.read_raw_edf(os.path.join(data_folder, psg_file), preload=True, verbose=False)\n",
            "<ipython-input-3-68620a792cc4>:23: RuntimeWarning: Highpass cutoff frequency 16.0 is greater than lowpass cutoff frequency 0.7, setting values to 0 and Nyquist.\n",
            "  raw = mne.io.read_raw_edf(os.path.join(data_folder, psg_file), preload=True, verbose=False)\n"
          ]
        },
        {
          "output_type": "stream",
          "name": "stdout",
          "text": [
            "NOTE: pick_channels() is a legacy function. New code should use inst.pick(...).\n"
          ]
        },
        {
          "output_type": "stream",
          "name": "stderr",
          "text": [
            "<ipython-input-3-68620a792cc4>:26: RuntimeWarning: Limited 1 annotation(s) that were expanding outside the data range.\n",
            "  raw.set_annotations(annotations)\n",
            "<ipython-input-3-68620a792cc4>:23: RuntimeWarning: Channels contain different highpass filters. Highest filter setting will be stored.\n",
            "  raw = mne.io.read_raw_edf(os.path.join(data_folder, psg_file), preload=True, verbose=False)\n",
            "<ipython-input-3-68620a792cc4>:23: RuntimeWarning: Channels contain different lowpass filters. Lowest filter setting will be stored.\n",
            "  raw = mne.io.read_raw_edf(os.path.join(data_folder, psg_file), preload=True, verbose=False)\n",
            "<ipython-input-3-68620a792cc4>:23: RuntimeWarning: Highpass cutoff frequency 16.0 is greater than lowpass cutoff frequency 0.7, setting values to 0 and Nyquist.\n",
            "  raw = mne.io.read_raw_edf(os.path.join(data_folder, psg_file), preload=True, verbose=False)\n"
          ]
        },
        {
          "output_type": "stream",
          "name": "stdout",
          "text": [
            "NOTE: pick_channels() is a legacy function. New code should use inst.pick(...).\n"
          ]
        },
        {
          "output_type": "stream",
          "name": "stderr",
          "text": [
            "<ipython-input-3-68620a792cc4>:26: RuntimeWarning: Limited 1 annotation(s) that were expanding outside the data range.\n",
            "  raw.set_annotations(annotations)\n",
            "<ipython-input-3-68620a792cc4>:23: RuntimeWarning: Channels contain different highpass filters. Highest filter setting will be stored.\n",
            "  raw = mne.io.read_raw_edf(os.path.join(data_folder, psg_file), preload=True, verbose=False)\n",
            "<ipython-input-3-68620a792cc4>:23: RuntimeWarning: Channels contain different lowpass filters. Lowest filter setting will be stored.\n",
            "  raw = mne.io.read_raw_edf(os.path.join(data_folder, psg_file), preload=True, verbose=False)\n",
            "<ipython-input-3-68620a792cc4>:23: RuntimeWarning: Highpass cutoff frequency 16.0 is greater than lowpass cutoff frequency 0.7, setting values to 0 and Nyquist.\n",
            "  raw = mne.io.read_raw_edf(os.path.join(data_folder, psg_file), preload=True, verbose=False)\n"
          ]
        },
        {
          "output_type": "stream",
          "name": "stdout",
          "text": [
            "NOTE: pick_channels() is a legacy function. New code should use inst.pick(...).\n"
          ]
        },
        {
          "output_type": "stream",
          "name": "stderr",
          "text": [
            "<ipython-input-3-68620a792cc4>:26: RuntimeWarning: Limited 1 annotation(s) that were expanding outside the data range.\n",
            "  raw.set_annotations(annotations)\n",
            "<ipython-input-3-68620a792cc4>:23: RuntimeWarning: Channels contain different highpass filters. Highest filter setting will be stored.\n",
            "  raw = mne.io.read_raw_edf(os.path.join(data_folder, psg_file), preload=True, verbose=False)\n",
            "<ipython-input-3-68620a792cc4>:23: RuntimeWarning: Channels contain different lowpass filters. Lowest filter setting will be stored.\n",
            "  raw = mne.io.read_raw_edf(os.path.join(data_folder, psg_file), preload=True, verbose=False)\n",
            "<ipython-input-3-68620a792cc4>:23: RuntimeWarning: Highpass cutoff frequency 16.0 is greater than lowpass cutoff frequency 0.7, setting values to 0 and Nyquist.\n",
            "  raw = mne.io.read_raw_edf(os.path.join(data_folder, psg_file), preload=True, verbose=False)\n"
          ]
        },
        {
          "output_type": "stream",
          "name": "stdout",
          "text": [
            "NOTE: pick_channels() is a legacy function. New code should use inst.pick(...).\n"
          ]
        },
        {
          "output_type": "stream",
          "name": "stderr",
          "text": [
            "<ipython-input-3-68620a792cc4>:26: RuntimeWarning: Limited 1 annotation(s) that were expanding outside the data range.\n",
            "  raw.set_annotations(annotations)\n",
            "<ipython-input-3-68620a792cc4>:23: RuntimeWarning: Channels contain different highpass filters. Highest filter setting will be stored.\n",
            "  raw = mne.io.read_raw_edf(os.path.join(data_folder, psg_file), preload=True, verbose=False)\n",
            "<ipython-input-3-68620a792cc4>:23: RuntimeWarning: Channels contain different lowpass filters. Lowest filter setting will be stored.\n",
            "  raw = mne.io.read_raw_edf(os.path.join(data_folder, psg_file), preload=True, verbose=False)\n",
            "<ipython-input-3-68620a792cc4>:23: RuntimeWarning: Highpass cutoff frequency 16.0 is greater than lowpass cutoff frequency 0.7, setting values to 0 and Nyquist.\n",
            "  raw = mne.io.read_raw_edf(os.path.join(data_folder, psg_file), preload=True, verbose=False)\n"
          ]
        },
        {
          "output_type": "stream",
          "name": "stdout",
          "text": [
            "NOTE: pick_channels() is a legacy function. New code should use inst.pick(...).\n"
          ]
        },
        {
          "output_type": "stream",
          "name": "stderr",
          "text": [
            "<ipython-input-3-68620a792cc4>:26: RuntimeWarning: Limited 1 annotation(s) that were expanding outside the data range.\n",
            "  raw.set_annotations(annotations)\n",
            "<ipython-input-3-68620a792cc4>:23: RuntimeWarning: Channels contain different highpass filters. Highest filter setting will be stored.\n",
            "  raw = mne.io.read_raw_edf(os.path.join(data_folder, psg_file), preload=True, verbose=False)\n",
            "<ipython-input-3-68620a792cc4>:23: RuntimeWarning: Channels contain different lowpass filters. Lowest filter setting will be stored.\n",
            "  raw = mne.io.read_raw_edf(os.path.join(data_folder, psg_file), preload=True, verbose=False)\n",
            "<ipython-input-3-68620a792cc4>:23: RuntimeWarning: Highpass cutoff frequency 16.0 is greater than lowpass cutoff frequency 0.7, setting values to 0 and Nyquist.\n",
            "  raw = mne.io.read_raw_edf(os.path.join(data_folder, psg_file), preload=True, verbose=False)\n"
          ]
        },
        {
          "output_type": "stream",
          "name": "stdout",
          "text": [
            "NOTE: pick_channels() is a legacy function. New code should use inst.pick(...).\n"
          ]
        },
        {
          "output_type": "stream",
          "name": "stderr",
          "text": [
            "<ipython-input-3-68620a792cc4>:26: RuntimeWarning: Limited 1 annotation(s) that were expanding outside the data range.\n",
            "  raw.set_annotations(annotations)\n",
            "<ipython-input-3-68620a792cc4>:23: RuntimeWarning: Channels contain different highpass filters. Highest filter setting will be stored.\n",
            "  raw = mne.io.read_raw_edf(os.path.join(data_folder, psg_file), preload=True, verbose=False)\n",
            "<ipython-input-3-68620a792cc4>:23: RuntimeWarning: Channels contain different lowpass filters. Lowest filter setting will be stored.\n",
            "  raw = mne.io.read_raw_edf(os.path.join(data_folder, psg_file), preload=True, verbose=False)\n",
            "<ipython-input-3-68620a792cc4>:23: RuntimeWarning: Highpass cutoff frequency 16.0 is greater than lowpass cutoff frequency 0.7, setting values to 0 and Nyquist.\n",
            "  raw = mne.io.read_raw_edf(os.path.join(data_folder, psg_file), preload=True, verbose=False)\n"
          ]
        },
        {
          "output_type": "stream",
          "name": "stdout",
          "text": [
            "NOTE: pick_channels() is a legacy function. New code should use inst.pick(...).\n"
          ]
        },
        {
          "output_type": "stream",
          "name": "stderr",
          "text": [
            "<ipython-input-3-68620a792cc4>:26: RuntimeWarning: Limited 1 annotation(s) that were expanding outside the data range.\n",
            "  raw.set_annotations(annotations)\n",
            "<ipython-input-3-68620a792cc4>:23: RuntimeWarning: Channels contain different highpass filters. Highest filter setting will be stored.\n",
            "  raw = mne.io.read_raw_edf(os.path.join(data_folder, psg_file), preload=True, verbose=False)\n",
            "<ipython-input-3-68620a792cc4>:23: RuntimeWarning: Channels contain different lowpass filters. Lowest filter setting will be stored.\n",
            "  raw = mne.io.read_raw_edf(os.path.join(data_folder, psg_file), preload=True, verbose=False)\n",
            "<ipython-input-3-68620a792cc4>:23: RuntimeWarning: Highpass cutoff frequency 16.0 is greater than lowpass cutoff frequency 0.7, setting values to 0 and Nyquist.\n",
            "  raw = mne.io.read_raw_edf(os.path.join(data_folder, psg_file), preload=True, verbose=False)\n"
          ]
        },
        {
          "output_type": "stream",
          "name": "stdout",
          "text": [
            "NOTE: pick_channels() is a legacy function. New code should use inst.pick(...).\n"
          ]
        },
        {
          "output_type": "stream",
          "name": "stderr",
          "text": [
            "<ipython-input-3-68620a792cc4>:26: RuntimeWarning: Limited 1 annotation(s) that were expanding outside the data range.\n",
            "  raw.set_annotations(annotations)\n",
            "<ipython-input-3-68620a792cc4>:23: RuntimeWarning: Channels contain different highpass filters. Highest filter setting will be stored.\n",
            "  raw = mne.io.read_raw_edf(os.path.join(data_folder, psg_file), preload=True, verbose=False)\n",
            "<ipython-input-3-68620a792cc4>:23: RuntimeWarning: Channels contain different lowpass filters. Lowest filter setting will be stored.\n",
            "  raw = mne.io.read_raw_edf(os.path.join(data_folder, psg_file), preload=True, verbose=False)\n",
            "<ipython-input-3-68620a792cc4>:23: RuntimeWarning: Highpass cutoff frequency 16.0 is greater than lowpass cutoff frequency 0.7, setting values to 0 and Nyquist.\n",
            "  raw = mne.io.read_raw_edf(os.path.join(data_folder, psg_file), preload=True, verbose=False)\n"
          ]
        },
        {
          "output_type": "stream",
          "name": "stdout",
          "text": [
            "NOTE: pick_channels() is a legacy function. New code should use inst.pick(...).\n"
          ]
        },
        {
          "output_type": "stream",
          "name": "stderr",
          "text": [
            "<ipython-input-3-68620a792cc4>:26: RuntimeWarning: Limited 1 annotation(s) that were expanding outside the data range.\n",
            "  raw.set_annotations(annotations)\n",
            "<ipython-input-3-68620a792cc4>:23: RuntimeWarning: Channels contain different highpass filters. Highest filter setting will be stored.\n",
            "  raw = mne.io.read_raw_edf(os.path.join(data_folder, psg_file), preload=True, verbose=False)\n",
            "<ipython-input-3-68620a792cc4>:23: RuntimeWarning: Channels contain different lowpass filters. Lowest filter setting will be stored.\n",
            "  raw = mne.io.read_raw_edf(os.path.join(data_folder, psg_file), preload=True, verbose=False)\n",
            "<ipython-input-3-68620a792cc4>:23: RuntimeWarning: Highpass cutoff frequency 16.0 is greater than lowpass cutoff frequency 0.7, setting values to 0 and Nyquist.\n",
            "  raw = mne.io.read_raw_edf(os.path.join(data_folder, psg_file), preload=True, verbose=False)\n"
          ]
        },
        {
          "output_type": "stream",
          "name": "stdout",
          "text": [
            "NOTE: pick_channels() is a legacy function. New code should use inst.pick(...).\n"
          ]
        },
        {
          "output_type": "stream",
          "name": "stderr",
          "text": [
            "<ipython-input-3-68620a792cc4>:26: RuntimeWarning: Limited 1 annotation(s) that were expanding outside the data range.\n",
            "  raw.set_annotations(annotations)\n",
            "<ipython-input-3-68620a792cc4>:23: RuntimeWarning: Channels contain different highpass filters. Highest filter setting will be stored.\n",
            "  raw = mne.io.read_raw_edf(os.path.join(data_folder, psg_file), preload=True, verbose=False)\n",
            "<ipython-input-3-68620a792cc4>:23: RuntimeWarning: Channels contain different lowpass filters. Lowest filter setting will be stored.\n",
            "  raw = mne.io.read_raw_edf(os.path.join(data_folder, psg_file), preload=True, verbose=False)\n",
            "<ipython-input-3-68620a792cc4>:23: RuntimeWarning: Highpass cutoff frequency 16.0 is greater than lowpass cutoff frequency 0.7, setting values to 0 and Nyquist.\n",
            "  raw = mne.io.read_raw_edf(os.path.join(data_folder, psg_file), preload=True, verbose=False)\n"
          ]
        },
        {
          "output_type": "stream",
          "name": "stdout",
          "text": [
            "NOTE: pick_channels() is a legacy function. New code should use inst.pick(...).\n"
          ]
        },
        {
          "output_type": "stream",
          "name": "stderr",
          "text": [
            "<ipython-input-3-68620a792cc4>:26: RuntimeWarning: Limited 1 annotation(s) that were expanding outside the data range.\n",
            "  raw.set_annotations(annotations)\n",
            "<ipython-input-3-68620a792cc4>:23: RuntimeWarning: Channels contain different highpass filters. Highest filter setting will be stored.\n",
            "  raw = mne.io.read_raw_edf(os.path.join(data_folder, psg_file), preload=True, verbose=False)\n",
            "<ipython-input-3-68620a792cc4>:23: RuntimeWarning: Channels contain different lowpass filters. Lowest filter setting will be stored.\n",
            "  raw = mne.io.read_raw_edf(os.path.join(data_folder, psg_file), preload=True, verbose=False)\n",
            "<ipython-input-3-68620a792cc4>:23: RuntimeWarning: Highpass cutoff frequency 16.0 is greater than lowpass cutoff frequency 0.7, setting values to 0 and Nyquist.\n",
            "  raw = mne.io.read_raw_edf(os.path.join(data_folder, psg_file), preload=True, verbose=False)\n"
          ]
        },
        {
          "output_type": "stream",
          "name": "stdout",
          "text": [
            "NOTE: pick_channels() is a legacy function. New code should use inst.pick(...).\n"
          ]
        },
        {
          "output_type": "stream",
          "name": "stderr",
          "text": [
            "<ipython-input-3-68620a792cc4>:26: RuntimeWarning: Limited 1 annotation(s) that were expanding outside the data range.\n",
            "  raw.set_annotations(annotations)\n",
            "<ipython-input-3-68620a792cc4>:23: RuntimeWarning: Channels contain different highpass filters. Highest filter setting will be stored.\n",
            "  raw = mne.io.read_raw_edf(os.path.join(data_folder, psg_file), preload=True, verbose=False)\n",
            "<ipython-input-3-68620a792cc4>:23: RuntimeWarning: Channels contain different lowpass filters. Lowest filter setting will be stored.\n",
            "  raw = mne.io.read_raw_edf(os.path.join(data_folder, psg_file), preload=True, verbose=False)\n",
            "<ipython-input-3-68620a792cc4>:23: RuntimeWarning: Highpass cutoff frequency 16.0 is greater than lowpass cutoff frequency 0.7, setting values to 0 and Nyquist.\n",
            "  raw = mne.io.read_raw_edf(os.path.join(data_folder, psg_file), preload=True, verbose=False)\n"
          ]
        },
        {
          "output_type": "stream",
          "name": "stdout",
          "text": [
            "NOTE: pick_channels() is a legacy function. New code should use inst.pick(...).\n"
          ]
        },
        {
          "output_type": "stream",
          "name": "stderr",
          "text": [
            "<ipython-input-3-68620a792cc4>:26: RuntimeWarning: Limited 1 annotation(s) that were expanding outside the data range.\n",
            "  raw.set_annotations(annotations)\n",
            "<ipython-input-3-68620a792cc4>:23: RuntimeWarning: Channels contain different highpass filters. Highest filter setting will be stored.\n",
            "  raw = mne.io.read_raw_edf(os.path.join(data_folder, psg_file), preload=True, verbose=False)\n",
            "<ipython-input-3-68620a792cc4>:23: RuntimeWarning: Channels contain different lowpass filters. Lowest filter setting will be stored.\n",
            "  raw = mne.io.read_raw_edf(os.path.join(data_folder, psg_file), preload=True, verbose=False)\n",
            "<ipython-input-3-68620a792cc4>:23: RuntimeWarning: Highpass cutoff frequency 16.0 is greater than lowpass cutoff frequency 0.7, setting values to 0 and Nyquist.\n",
            "  raw = mne.io.read_raw_edf(os.path.join(data_folder, psg_file), preload=True, verbose=False)\n"
          ]
        },
        {
          "output_type": "stream",
          "name": "stdout",
          "text": [
            "NOTE: pick_channels() is a legacy function. New code should use inst.pick(...).\n"
          ]
        },
        {
          "output_type": "stream",
          "name": "stderr",
          "text": [
            "<ipython-input-3-68620a792cc4>:26: RuntimeWarning: Limited 1 annotation(s) that were expanding outside the data range.\n",
            "  raw.set_annotations(annotations)\n",
            "<ipython-input-3-68620a792cc4>:23: RuntimeWarning: Channels contain different highpass filters. Highest filter setting will be stored.\n",
            "  raw = mne.io.read_raw_edf(os.path.join(data_folder, psg_file), preload=True, verbose=False)\n",
            "<ipython-input-3-68620a792cc4>:23: RuntimeWarning: Channels contain different lowpass filters. Lowest filter setting will be stored.\n",
            "  raw = mne.io.read_raw_edf(os.path.join(data_folder, psg_file), preload=True, verbose=False)\n",
            "<ipython-input-3-68620a792cc4>:23: RuntimeWarning: Highpass cutoff frequency 16.0 is greater than lowpass cutoff frequency 0.7, setting values to 0 and Nyquist.\n",
            "  raw = mne.io.read_raw_edf(os.path.join(data_folder, psg_file), preload=True, verbose=False)\n"
          ]
        },
        {
          "output_type": "stream",
          "name": "stdout",
          "text": [
            "NOTE: pick_channels() is a legacy function. New code should use inst.pick(...).\n"
          ]
        },
        {
          "output_type": "stream",
          "name": "stderr",
          "text": [
            "<ipython-input-3-68620a792cc4>:26: RuntimeWarning: Limited 1 annotation(s) that were expanding outside the data range.\n",
            "  raw.set_annotations(annotations)\n",
            "<ipython-input-3-68620a792cc4>:23: RuntimeWarning: Channels contain different highpass filters. Highest filter setting will be stored.\n",
            "  raw = mne.io.read_raw_edf(os.path.join(data_folder, psg_file), preload=True, verbose=False)\n",
            "<ipython-input-3-68620a792cc4>:23: RuntimeWarning: Channels contain different lowpass filters. Lowest filter setting will be stored.\n",
            "  raw = mne.io.read_raw_edf(os.path.join(data_folder, psg_file), preload=True, verbose=False)\n",
            "<ipython-input-3-68620a792cc4>:23: RuntimeWarning: Highpass cutoff frequency 16.0 is greater than lowpass cutoff frequency 0.7, setting values to 0 and Nyquist.\n",
            "  raw = mne.io.read_raw_edf(os.path.join(data_folder, psg_file), preload=True, verbose=False)\n"
          ]
        },
        {
          "output_type": "stream",
          "name": "stdout",
          "text": [
            "NOTE: pick_channels() is a legacy function. New code should use inst.pick(...).\n"
          ]
        },
        {
          "output_type": "stream",
          "name": "stderr",
          "text": [
            "<ipython-input-3-68620a792cc4>:26: RuntimeWarning: Limited 1 annotation(s) that were expanding outside the data range.\n",
            "  raw.set_annotations(annotations)\n",
            "<ipython-input-3-68620a792cc4>:23: RuntimeWarning: Channels contain different highpass filters. Highest filter setting will be stored.\n",
            "  raw = mne.io.read_raw_edf(os.path.join(data_folder, psg_file), preload=True, verbose=False)\n",
            "<ipython-input-3-68620a792cc4>:23: RuntimeWarning: Channels contain different lowpass filters. Lowest filter setting will be stored.\n",
            "  raw = mne.io.read_raw_edf(os.path.join(data_folder, psg_file), preload=True, verbose=False)\n",
            "<ipython-input-3-68620a792cc4>:23: RuntimeWarning: Highpass cutoff frequency 16.0 is greater than lowpass cutoff frequency 0.7, setting values to 0 and Nyquist.\n",
            "  raw = mne.io.read_raw_edf(os.path.join(data_folder, psg_file), preload=True, verbose=False)\n"
          ]
        },
        {
          "output_type": "stream",
          "name": "stdout",
          "text": [
            "NOTE: pick_channels() is a legacy function. New code should use inst.pick(...).\n"
          ]
        },
        {
          "output_type": "stream",
          "name": "stderr",
          "text": [
            "<ipython-input-3-68620a792cc4>:26: RuntimeWarning: Limited 1 annotation(s) that were expanding outside the data range.\n",
            "  raw.set_annotations(annotations)\n",
            "<ipython-input-3-68620a792cc4>:23: RuntimeWarning: Channels contain different highpass filters. Highest filter setting will be stored.\n",
            "  raw = mne.io.read_raw_edf(os.path.join(data_folder, psg_file), preload=True, verbose=False)\n",
            "<ipython-input-3-68620a792cc4>:23: RuntimeWarning: Channels contain different lowpass filters. Lowest filter setting will be stored.\n",
            "  raw = mne.io.read_raw_edf(os.path.join(data_folder, psg_file), preload=True, verbose=False)\n",
            "<ipython-input-3-68620a792cc4>:23: RuntimeWarning: Highpass cutoff frequency 16.0 is greater than lowpass cutoff frequency 0.7, setting values to 0 and Nyquist.\n",
            "  raw = mne.io.read_raw_edf(os.path.join(data_folder, psg_file), preload=True, verbose=False)\n"
          ]
        },
        {
          "output_type": "stream",
          "name": "stdout",
          "text": [
            "NOTE: pick_channels() is a legacy function. New code should use inst.pick(...).\n"
          ]
        },
        {
          "output_type": "stream",
          "name": "stderr",
          "text": [
            "<ipython-input-3-68620a792cc4>:26: RuntimeWarning: Limited 1 annotation(s) that were expanding outside the data range.\n",
            "  raw.set_annotations(annotations)\n",
            "<ipython-input-3-68620a792cc4>:23: RuntimeWarning: Channels contain different highpass filters. Highest filter setting will be stored.\n",
            "  raw = mne.io.read_raw_edf(os.path.join(data_folder, psg_file), preload=True, verbose=False)\n",
            "<ipython-input-3-68620a792cc4>:23: RuntimeWarning: Channels contain different lowpass filters. Lowest filter setting will be stored.\n",
            "  raw = mne.io.read_raw_edf(os.path.join(data_folder, psg_file), preload=True, verbose=False)\n",
            "<ipython-input-3-68620a792cc4>:23: RuntimeWarning: Highpass cutoff frequency 16.0 is greater than lowpass cutoff frequency 0.7, setting values to 0 and Nyquist.\n",
            "  raw = mne.io.read_raw_edf(os.path.join(data_folder, psg_file), preload=True, verbose=False)\n"
          ]
        },
        {
          "output_type": "stream",
          "name": "stdout",
          "text": [
            "NOTE: pick_channels() is a legacy function. New code should use inst.pick(...).\n"
          ]
        },
        {
          "output_type": "stream",
          "name": "stderr",
          "text": [
            "<ipython-input-3-68620a792cc4>:26: RuntimeWarning: Limited 1 annotation(s) that were expanding outside the data range.\n",
            "  raw.set_annotations(annotations)\n",
            "<ipython-input-3-68620a792cc4>:23: RuntimeWarning: Channels contain different highpass filters. Highest filter setting will be stored.\n",
            "  raw = mne.io.read_raw_edf(os.path.join(data_folder, psg_file), preload=True, verbose=False)\n",
            "<ipython-input-3-68620a792cc4>:23: RuntimeWarning: Channels contain different lowpass filters. Lowest filter setting will be stored.\n",
            "  raw = mne.io.read_raw_edf(os.path.join(data_folder, psg_file), preload=True, verbose=False)\n",
            "<ipython-input-3-68620a792cc4>:23: RuntimeWarning: Highpass cutoff frequency 16.0 is greater than lowpass cutoff frequency 0.7, setting values to 0 and Nyquist.\n",
            "  raw = mne.io.read_raw_edf(os.path.join(data_folder, psg_file), preload=True, verbose=False)\n"
          ]
        },
        {
          "output_type": "stream",
          "name": "stdout",
          "text": [
            "NOTE: pick_channels() is a legacy function. New code should use inst.pick(...).\n"
          ]
        },
        {
          "output_type": "stream",
          "name": "stderr",
          "text": [
            "<ipython-input-3-68620a792cc4>:26: RuntimeWarning: Limited 1 annotation(s) that were expanding outside the data range.\n",
            "  raw.set_annotations(annotations)\n",
            "<ipython-input-3-68620a792cc4>:23: RuntimeWarning: Channels contain different highpass filters. Highest filter setting will be stored.\n",
            "  raw = mne.io.read_raw_edf(os.path.join(data_folder, psg_file), preload=True, verbose=False)\n",
            "<ipython-input-3-68620a792cc4>:23: RuntimeWarning: Channels contain different lowpass filters. Lowest filter setting will be stored.\n",
            "  raw = mne.io.read_raw_edf(os.path.join(data_folder, psg_file), preload=True, verbose=False)\n",
            "<ipython-input-3-68620a792cc4>:23: RuntimeWarning: Highpass cutoff frequency 16.0 is greater than lowpass cutoff frequency 0.7, setting values to 0 and Nyquist.\n",
            "  raw = mne.io.read_raw_edf(os.path.join(data_folder, psg_file), preload=True, verbose=False)\n"
          ]
        },
        {
          "output_type": "stream",
          "name": "stdout",
          "text": [
            "NOTE: pick_channels() is a legacy function. New code should use inst.pick(...).\n"
          ]
        },
        {
          "output_type": "stream",
          "name": "stderr",
          "text": [
            "<ipython-input-3-68620a792cc4>:26: RuntimeWarning: Limited 1 annotation(s) that were expanding outside the data range.\n",
            "  raw.set_annotations(annotations)\n",
            "<ipython-input-3-68620a792cc4>:23: RuntimeWarning: Channels contain different highpass filters. Highest filter setting will be stored.\n",
            "  raw = mne.io.read_raw_edf(os.path.join(data_folder, psg_file), preload=True, verbose=False)\n",
            "<ipython-input-3-68620a792cc4>:23: RuntimeWarning: Channels contain different lowpass filters. Lowest filter setting will be stored.\n",
            "  raw = mne.io.read_raw_edf(os.path.join(data_folder, psg_file), preload=True, verbose=False)\n",
            "<ipython-input-3-68620a792cc4>:23: RuntimeWarning: Highpass cutoff frequency 16.0 is greater than lowpass cutoff frequency 0.7, setting values to 0 and Nyquist.\n",
            "  raw = mne.io.read_raw_edf(os.path.join(data_folder, psg_file), preload=True, verbose=False)\n"
          ]
        },
        {
          "output_type": "stream",
          "name": "stdout",
          "text": [
            "NOTE: pick_channels() is a legacy function. New code should use inst.pick(...).\n"
          ]
        },
        {
          "output_type": "stream",
          "name": "stderr",
          "text": [
            "<ipython-input-3-68620a792cc4>:26: RuntimeWarning: Limited 1 annotation(s) that were expanding outside the data range.\n",
            "  raw.set_annotations(annotations)\n"
          ]
        }
      ]
    },
    {
      "cell_type": "code",
      "source": [
        "#VERİ ARTIRMA\n",
        "def augment_data(X, y):\n",
        "    aug_X, aug_y = [], []\n",
        "    for signal, label in zip(X, y):\n",
        "        aug_X.append(signal)\n",
        "        aug_y.append(label)\n",
        "\n",
        "        # Gürültü ekle\n",
        "        noise = np.random.normal(0, 0.1, signal.shape)\n",
        "        aug_X.append(signal + noise)\n",
        "        aug_y.append(label)\n",
        "\n",
        "        # Zaman kaydır\n",
        "        shift = np.roll(signal, 5)\n",
        "        aug_X.append(shift)\n",
        "        aug_y.append(label)\n",
        "\n",
        "    return np.array(aug_X), np.array(aug_y)\n",
        "\n",
        "X_aug, y_aug = augment_data(X, y)\n"
      ],
      "metadata": {
        "id": "Cc1yIirEQMjz"
      },
      "execution_count": 4,
      "outputs": []
    },
    {
      "cell_type": "code",
      "source": [
        "#veri artırma 2"
      ],
      "metadata": {
        "id": "KJ70V_vtar2b"
      },
      "execution_count": null,
      "outputs": []
    },
    {
      "cell_type": "code",
      "source": [
        "#EĞİTİME HAZIRLIK\n",
        "from sklearn.model_selection import train_test_split\n",
        "from sklearn.utils import class_weight\n",
        "\n",
        "X_aug = X_aug.reshape((X_aug.shape[0], X_aug.shape[1], 1))\n",
        "X_train, X_test, y_train, y_test = train_test_split(X_aug, y_aug, test_size=0.2, stratify=y_aug, random_state=42)\n",
        "\n",
        "# Sınıf ağırlıkları\n",
        "weights = class_weight.compute_class_weight(class_weight='balanced', classes=np.unique(y_train), y=y_train)\n",
        "class_weights = dict(enumerate(weights))\n"
      ],
      "metadata": {
        "id": "IjpEC7eOQMmA"
      },
      "execution_count": 5,
      "outputs": []
    },
    {
      "cell_type": "code",
      "source": [
        "#MODEL Oluşturma 1\n",
        "from tensorflow.keras.models import Model\n",
        "from tensorflow.keras.layers import Input, Conv1D, BatchNormalization, ReLU, MaxPooling1D, Bidirectional, LSTM, Dropout, Dense\n",
        "\n",
        "input_layer = Input(shape=(X_train.shape[1], 1))\n",
        "\n",
        "x = Conv1D(64, 50, strides=6, padding=\"same\")(input_layer)\n",
        "x = BatchNormalization()(x)\n",
        "x = ReLU()(x)\n",
        "x = MaxPooling1D(pool_size=8, strides=8, padding='same')(x)\n",
        "\n",
        "x = Conv1D(128, 8, strides=1, padding=\"same\")(x)\n",
        "x = BatchNormalization()(x)\n",
        "x = ReLU()(x)\n",
        "x = MaxPooling1D(pool_size=4, strides=4, padding='same')(x)\n",
        "\n",
        "x = Bidirectional(LSTM(64, return_sequences=False))(x)\n",
        "x = Dropout(0.5)(x)\n",
        "output = Dense(len(np.unique(y)), activation='softmax')(x)\n",
        "\n",
        "model = Model(inputs=input_layer, outputs=output)\n",
        "model.compile(optimizer='adam', loss='sparse_categorical_crossentropy', metrics=['accuracy'])\n",
        "model.summary()\n"
      ],
      "metadata": {
        "id": "AfF2pHXrQMoQ",
        "colab": {
          "base_uri": "https://localhost:8080/",
          "height": 545
        },
        "outputId": "8e1d8074-b847-4ed9-8b49-24f4852e211a"
      },
      "execution_count": 6,
      "outputs": [
        {
          "output_type": "display_data",
          "data": {
            "text/plain": [
              "\u001b[1mModel: \"functional\"\u001b[0m\n"
            ],
            "text/html": [
              "<pre style=\"white-space:pre;overflow-x:auto;line-height:normal;font-family:Menlo,'DejaVu Sans Mono',consolas,'Courier New',monospace\"><span style=\"font-weight: bold\">Model: \"functional\"</span>\n",
              "</pre>\n"
            ]
          },
          "metadata": {}
        },
        {
          "output_type": "display_data",
          "data": {
            "text/plain": [
              "┏━━━━━━━━━━━━━━━━━━━━━━━━━━━━━━━━━┳━━━━━━━━━━━━━━━━━━━━━━━━┳━━━━━━━━━━━━━━━┓\n",
              "┃\u001b[1m \u001b[0m\u001b[1mLayer (type)                   \u001b[0m\u001b[1m \u001b[0m┃\u001b[1m \u001b[0m\u001b[1mOutput Shape          \u001b[0m\u001b[1m \u001b[0m┃\u001b[1m \u001b[0m\u001b[1m      Param #\u001b[0m\u001b[1m \u001b[0m┃\n",
              "┡━━━━━━━━━━━━━━━━━━━━━━━━━━━━━━━━━╇━━━━━━━━━━━━━━━━━━━━━━━━╇━━━━━━━━━━━━━━━┩\n",
              "│ input_layer (\u001b[38;5;33mInputLayer\u001b[0m)        │ (\u001b[38;5;45mNone\u001b[0m, \u001b[38;5;34m3000\u001b[0m, \u001b[38;5;34m1\u001b[0m)        │             \u001b[38;5;34m0\u001b[0m │\n",
              "├─────────────────────────────────┼────────────────────────┼───────────────┤\n",
              "│ conv1d (\u001b[38;5;33mConv1D\u001b[0m)                 │ (\u001b[38;5;45mNone\u001b[0m, \u001b[38;5;34m500\u001b[0m, \u001b[38;5;34m64\u001b[0m)        │         \u001b[38;5;34m3,264\u001b[0m │\n",
              "├─────────────────────────────────┼────────────────────────┼───────────────┤\n",
              "│ batch_normalization             │ (\u001b[38;5;45mNone\u001b[0m, \u001b[38;5;34m500\u001b[0m, \u001b[38;5;34m64\u001b[0m)        │           \u001b[38;5;34m256\u001b[0m │\n",
              "│ (\u001b[38;5;33mBatchNormalization\u001b[0m)            │                        │               │\n",
              "├─────────────────────────────────┼────────────────────────┼───────────────┤\n",
              "│ re_lu (\u001b[38;5;33mReLU\u001b[0m)                    │ (\u001b[38;5;45mNone\u001b[0m, \u001b[38;5;34m500\u001b[0m, \u001b[38;5;34m64\u001b[0m)        │             \u001b[38;5;34m0\u001b[0m │\n",
              "├─────────────────────────────────┼────────────────────────┼───────────────┤\n",
              "│ max_pooling1d (\u001b[38;5;33mMaxPooling1D\u001b[0m)    │ (\u001b[38;5;45mNone\u001b[0m, \u001b[38;5;34m63\u001b[0m, \u001b[38;5;34m64\u001b[0m)         │             \u001b[38;5;34m0\u001b[0m │\n",
              "├─────────────────────────────────┼────────────────────────┼───────────────┤\n",
              "│ conv1d_1 (\u001b[38;5;33mConv1D\u001b[0m)               │ (\u001b[38;5;45mNone\u001b[0m, \u001b[38;5;34m63\u001b[0m, \u001b[38;5;34m128\u001b[0m)        │        \u001b[38;5;34m65,664\u001b[0m │\n",
              "├─────────────────────────────────┼────────────────────────┼───────────────┤\n",
              "│ batch_normalization_1           │ (\u001b[38;5;45mNone\u001b[0m, \u001b[38;5;34m63\u001b[0m, \u001b[38;5;34m128\u001b[0m)        │           \u001b[38;5;34m512\u001b[0m │\n",
              "│ (\u001b[38;5;33mBatchNormalization\u001b[0m)            │                        │               │\n",
              "├─────────────────────────────────┼────────────────────────┼───────────────┤\n",
              "│ re_lu_1 (\u001b[38;5;33mReLU\u001b[0m)                  │ (\u001b[38;5;45mNone\u001b[0m, \u001b[38;5;34m63\u001b[0m, \u001b[38;5;34m128\u001b[0m)        │             \u001b[38;5;34m0\u001b[0m │\n",
              "├─────────────────────────────────┼────────────────────────┼───────────────┤\n",
              "│ max_pooling1d_1 (\u001b[38;5;33mMaxPooling1D\u001b[0m)  │ (\u001b[38;5;45mNone\u001b[0m, \u001b[38;5;34m16\u001b[0m, \u001b[38;5;34m128\u001b[0m)        │             \u001b[38;5;34m0\u001b[0m │\n",
              "├─────────────────────────────────┼────────────────────────┼───────────────┤\n",
              "│ bidirectional (\u001b[38;5;33mBidirectional\u001b[0m)   │ (\u001b[38;5;45mNone\u001b[0m, \u001b[38;5;34m128\u001b[0m)            │        \u001b[38;5;34m98,816\u001b[0m │\n",
              "├─────────────────────────────────┼────────────────────────┼───────────────┤\n",
              "│ dropout (\u001b[38;5;33mDropout\u001b[0m)               │ (\u001b[38;5;45mNone\u001b[0m, \u001b[38;5;34m128\u001b[0m)            │             \u001b[38;5;34m0\u001b[0m │\n",
              "├─────────────────────────────────┼────────────────────────┼───────────────┤\n",
              "│ dense (\u001b[38;5;33mDense\u001b[0m)                   │ (\u001b[38;5;45mNone\u001b[0m, \u001b[38;5;34m5\u001b[0m)              │           \u001b[38;5;34m645\u001b[0m │\n",
              "└─────────────────────────────────┴────────────────────────┴───────────────┘\n"
            ],
            "text/html": [
              "<pre style=\"white-space:pre;overflow-x:auto;line-height:normal;font-family:Menlo,'DejaVu Sans Mono',consolas,'Courier New',monospace\">┏━━━━━━━━━━━━━━━━━━━━━━━━━━━━━━━━━┳━━━━━━━━━━━━━━━━━━━━━━━━┳━━━━━━━━━━━━━━━┓\n",
              "┃<span style=\"font-weight: bold\"> Layer (type)                    </span>┃<span style=\"font-weight: bold\"> Output Shape           </span>┃<span style=\"font-weight: bold\">       Param # </span>┃\n",
              "┡━━━━━━━━━━━━━━━━━━━━━━━━━━━━━━━━━╇━━━━━━━━━━━━━━━━━━━━━━━━╇━━━━━━━━━━━━━━━┩\n",
              "│ input_layer (<span style=\"color: #0087ff; text-decoration-color: #0087ff\">InputLayer</span>)        │ (<span style=\"color: #00d7ff; text-decoration-color: #00d7ff\">None</span>, <span style=\"color: #00af00; text-decoration-color: #00af00\">3000</span>, <span style=\"color: #00af00; text-decoration-color: #00af00\">1</span>)        │             <span style=\"color: #00af00; text-decoration-color: #00af00\">0</span> │\n",
              "├─────────────────────────────────┼────────────────────────┼───────────────┤\n",
              "│ conv1d (<span style=\"color: #0087ff; text-decoration-color: #0087ff\">Conv1D</span>)                 │ (<span style=\"color: #00d7ff; text-decoration-color: #00d7ff\">None</span>, <span style=\"color: #00af00; text-decoration-color: #00af00\">500</span>, <span style=\"color: #00af00; text-decoration-color: #00af00\">64</span>)        │         <span style=\"color: #00af00; text-decoration-color: #00af00\">3,264</span> │\n",
              "├─────────────────────────────────┼────────────────────────┼───────────────┤\n",
              "│ batch_normalization             │ (<span style=\"color: #00d7ff; text-decoration-color: #00d7ff\">None</span>, <span style=\"color: #00af00; text-decoration-color: #00af00\">500</span>, <span style=\"color: #00af00; text-decoration-color: #00af00\">64</span>)        │           <span style=\"color: #00af00; text-decoration-color: #00af00\">256</span> │\n",
              "│ (<span style=\"color: #0087ff; text-decoration-color: #0087ff\">BatchNormalization</span>)            │                        │               │\n",
              "├─────────────────────────────────┼────────────────────────┼───────────────┤\n",
              "│ re_lu (<span style=\"color: #0087ff; text-decoration-color: #0087ff\">ReLU</span>)                    │ (<span style=\"color: #00d7ff; text-decoration-color: #00d7ff\">None</span>, <span style=\"color: #00af00; text-decoration-color: #00af00\">500</span>, <span style=\"color: #00af00; text-decoration-color: #00af00\">64</span>)        │             <span style=\"color: #00af00; text-decoration-color: #00af00\">0</span> │\n",
              "├─────────────────────────────────┼────────────────────────┼───────────────┤\n",
              "│ max_pooling1d (<span style=\"color: #0087ff; text-decoration-color: #0087ff\">MaxPooling1D</span>)    │ (<span style=\"color: #00d7ff; text-decoration-color: #00d7ff\">None</span>, <span style=\"color: #00af00; text-decoration-color: #00af00\">63</span>, <span style=\"color: #00af00; text-decoration-color: #00af00\">64</span>)         │             <span style=\"color: #00af00; text-decoration-color: #00af00\">0</span> │\n",
              "├─────────────────────────────────┼────────────────────────┼───────────────┤\n",
              "│ conv1d_1 (<span style=\"color: #0087ff; text-decoration-color: #0087ff\">Conv1D</span>)               │ (<span style=\"color: #00d7ff; text-decoration-color: #00d7ff\">None</span>, <span style=\"color: #00af00; text-decoration-color: #00af00\">63</span>, <span style=\"color: #00af00; text-decoration-color: #00af00\">128</span>)        │        <span style=\"color: #00af00; text-decoration-color: #00af00\">65,664</span> │\n",
              "├─────────────────────────────────┼────────────────────────┼───────────────┤\n",
              "│ batch_normalization_1           │ (<span style=\"color: #00d7ff; text-decoration-color: #00d7ff\">None</span>, <span style=\"color: #00af00; text-decoration-color: #00af00\">63</span>, <span style=\"color: #00af00; text-decoration-color: #00af00\">128</span>)        │           <span style=\"color: #00af00; text-decoration-color: #00af00\">512</span> │\n",
              "│ (<span style=\"color: #0087ff; text-decoration-color: #0087ff\">BatchNormalization</span>)            │                        │               │\n",
              "├─────────────────────────────────┼────────────────────────┼───────────────┤\n",
              "│ re_lu_1 (<span style=\"color: #0087ff; text-decoration-color: #0087ff\">ReLU</span>)                  │ (<span style=\"color: #00d7ff; text-decoration-color: #00d7ff\">None</span>, <span style=\"color: #00af00; text-decoration-color: #00af00\">63</span>, <span style=\"color: #00af00; text-decoration-color: #00af00\">128</span>)        │             <span style=\"color: #00af00; text-decoration-color: #00af00\">0</span> │\n",
              "├─────────────────────────────────┼────────────────────────┼───────────────┤\n",
              "│ max_pooling1d_1 (<span style=\"color: #0087ff; text-decoration-color: #0087ff\">MaxPooling1D</span>)  │ (<span style=\"color: #00d7ff; text-decoration-color: #00d7ff\">None</span>, <span style=\"color: #00af00; text-decoration-color: #00af00\">16</span>, <span style=\"color: #00af00; text-decoration-color: #00af00\">128</span>)        │             <span style=\"color: #00af00; text-decoration-color: #00af00\">0</span> │\n",
              "├─────────────────────────────────┼────────────────────────┼───────────────┤\n",
              "│ bidirectional (<span style=\"color: #0087ff; text-decoration-color: #0087ff\">Bidirectional</span>)   │ (<span style=\"color: #00d7ff; text-decoration-color: #00d7ff\">None</span>, <span style=\"color: #00af00; text-decoration-color: #00af00\">128</span>)            │        <span style=\"color: #00af00; text-decoration-color: #00af00\">98,816</span> │\n",
              "├─────────────────────────────────┼────────────────────────┼───────────────┤\n",
              "│ dropout (<span style=\"color: #0087ff; text-decoration-color: #0087ff\">Dropout</span>)               │ (<span style=\"color: #00d7ff; text-decoration-color: #00d7ff\">None</span>, <span style=\"color: #00af00; text-decoration-color: #00af00\">128</span>)            │             <span style=\"color: #00af00; text-decoration-color: #00af00\">0</span> │\n",
              "├─────────────────────────────────┼────────────────────────┼───────────────┤\n",
              "│ dense (<span style=\"color: #0087ff; text-decoration-color: #0087ff\">Dense</span>)                   │ (<span style=\"color: #00d7ff; text-decoration-color: #00d7ff\">None</span>, <span style=\"color: #00af00; text-decoration-color: #00af00\">5</span>)              │           <span style=\"color: #00af00; text-decoration-color: #00af00\">645</span> │\n",
              "└─────────────────────────────────┴────────────────────────┴───────────────┘\n",
              "</pre>\n"
            ]
          },
          "metadata": {}
        },
        {
          "output_type": "display_data",
          "data": {
            "text/plain": [
              "\u001b[1m Total params: \u001b[0m\u001b[38;5;34m169,157\u001b[0m (660.77 KB)\n"
            ],
            "text/html": [
              "<pre style=\"white-space:pre;overflow-x:auto;line-height:normal;font-family:Menlo,'DejaVu Sans Mono',consolas,'Courier New',monospace\"><span style=\"font-weight: bold\"> Total params: </span><span style=\"color: #00af00; text-decoration-color: #00af00\">169,157</span> (660.77 KB)\n",
              "</pre>\n"
            ]
          },
          "metadata": {}
        },
        {
          "output_type": "display_data",
          "data": {
            "text/plain": [
              "\u001b[1m Trainable params: \u001b[0m\u001b[38;5;34m168,773\u001b[0m (659.27 KB)\n"
            ],
            "text/html": [
              "<pre style=\"white-space:pre;overflow-x:auto;line-height:normal;font-family:Menlo,'DejaVu Sans Mono',consolas,'Courier New',monospace\"><span style=\"font-weight: bold\"> Trainable params: </span><span style=\"color: #00af00; text-decoration-color: #00af00\">168,773</span> (659.27 KB)\n",
              "</pre>\n"
            ]
          },
          "metadata": {}
        },
        {
          "output_type": "display_data",
          "data": {
            "text/plain": [
              "\u001b[1m Non-trainable params: \u001b[0m\u001b[38;5;34m384\u001b[0m (1.50 KB)\n"
            ],
            "text/html": [
              "<pre style=\"white-space:pre;overflow-x:auto;line-height:normal;font-family:Menlo,'DejaVu Sans Mono',consolas,'Courier New',monospace\"><span style=\"font-weight: bold\"> Non-trainable params: </span><span style=\"color: #00af00; text-decoration-color: #00af00\">384</span> (1.50 KB)\n",
              "</pre>\n"
            ]
          },
          "metadata": {}
        }
      ]
    },
    {
      "cell_type": "code",
      "source": [
        "#modeli eğitme\n",
        "from tensorflow.keras.callbacks import EarlyStopping\n",
        "\n",
        "early_stop = EarlyStopping(monitor='val_accuracy', patience=5, restore_best_weights=True)\n",
        "\n",
        "history = model.fit(\n",
        "    X_train, y_train,\n",
        "    validation_data=(X_test, y_test),\n",
        "    epochs=50,\n",
        "    batch_size=64,\n",
        "    class_weight=class_weights,\n",
        "    callbacks=[early_stop]\n",
        ")\n"
      ],
      "metadata": {
        "id": "GsW9fQ5BQMqf",
        "colab": {
          "base_uri": "https://localhost:8080/"
        },
        "outputId": "96b6ab14-9df9-409b-9209-27e29ac621f8"
      },
      "execution_count": 7,
      "outputs": [
        {
          "output_type": "stream",
          "name": "stdout",
          "text": [
            "Epoch 1/50\n",
            "\u001b[1m830/830\u001b[0m \u001b[32m━━━━━━━━━━━━━━━━━━━━\u001b[0m\u001b[37m\u001b[0m \u001b[1m16s\u001b[0m 11ms/step - accuracy: 0.5251 - loss: 1.0487 - val_accuracy: 0.6196 - val_loss: 0.8676\n",
            "Epoch 2/50\n",
            "\u001b[1m830/830\u001b[0m \u001b[32m━━━━━━━━━━━━━━━━━━━━\u001b[0m\u001b[37m\u001b[0m \u001b[1m8s\u001b[0m 10ms/step - accuracy: 0.6348 - loss: 0.8234 - val_accuracy: 0.6279 - val_loss: 0.8457\n",
            "Epoch 3/50\n",
            "\u001b[1m830/830\u001b[0m \u001b[32m━━━━━━━━━━━━━━━━━━━━\u001b[0m\u001b[37m\u001b[0m \u001b[1m8s\u001b[0m 10ms/step - accuracy: 0.6548 - loss: 0.7694 - val_accuracy: 0.6777 - val_loss: 0.7673\n",
            "Epoch 4/50\n",
            "\u001b[1m830/830\u001b[0m \u001b[32m━━━━━━━━━━━━━━━━━━━━\u001b[0m\u001b[37m\u001b[0m \u001b[1m8s\u001b[0m 10ms/step - accuracy: 0.6663 - loss: 0.7320 - val_accuracy: 0.6796 - val_loss: 0.7634\n",
            "Epoch 5/50\n",
            "\u001b[1m830/830\u001b[0m \u001b[32m━━━━━━━━━━━━━━━━━━━━\u001b[0m\u001b[37m\u001b[0m \u001b[1m8s\u001b[0m 10ms/step - accuracy: 0.6792 - loss: 0.7023 - val_accuracy: 0.7113 - val_loss: 0.6944\n",
            "Epoch 6/50\n",
            "\u001b[1m830/830\u001b[0m \u001b[32m━━━━━━━━━━━━━━━━━━━━\u001b[0m\u001b[37m\u001b[0m \u001b[1m8s\u001b[0m 10ms/step - accuracy: 0.6938 - loss: 0.6644 - val_accuracy: 0.6677 - val_loss: 0.7869\n",
            "Epoch 7/50\n",
            "\u001b[1m830/830\u001b[0m \u001b[32m━━━━━━━━━━━━━━━━━━━━\u001b[0m\u001b[37m\u001b[0m \u001b[1m8s\u001b[0m 10ms/step - accuracy: 0.7075 - loss: 0.6275 - val_accuracy: 0.7195 - val_loss: 0.6748\n",
            "Epoch 8/50\n",
            "\u001b[1m830/830\u001b[0m \u001b[32m━━━━━━━━━━━━━━━━━━━━\u001b[0m\u001b[37m\u001b[0m \u001b[1m8s\u001b[0m 10ms/step - accuracy: 0.7203 - loss: 0.5930 - val_accuracy: 0.7099 - val_loss: 0.6902\n",
            "Epoch 9/50\n",
            "\u001b[1m830/830\u001b[0m \u001b[32m━━━━━━━━━━━━━━━━━━━━\u001b[0m\u001b[37m\u001b[0m \u001b[1m8s\u001b[0m 10ms/step - accuracy: 0.7314 - loss: 0.5655 - val_accuracy: 0.6619 - val_loss: 0.8181\n",
            "Epoch 10/50\n",
            "\u001b[1m830/830\u001b[0m \u001b[32m━━━━━━━━━━━━━━━━━━━━\u001b[0m\u001b[37m\u001b[0m \u001b[1m8s\u001b[0m 10ms/step - accuracy: 0.7453 - loss: 0.5299 - val_accuracy: 0.7357 - val_loss: 0.6307\n",
            "Epoch 11/50\n",
            "\u001b[1m830/830\u001b[0m \u001b[32m━━━━━━━━━━━━━━━━━━━━\u001b[0m\u001b[37m\u001b[0m \u001b[1m8s\u001b[0m 10ms/step - accuracy: 0.7628 - loss: 0.4927 - val_accuracy: 0.6694 - val_loss: 0.8094\n",
            "Epoch 12/50\n",
            "\u001b[1m830/830\u001b[0m \u001b[32m━━━━━━━━━━━━━━━━━━━━\u001b[0m\u001b[37m\u001b[0m \u001b[1m8s\u001b[0m 10ms/step - accuracy: 0.7705 - loss: 0.4684 - val_accuracy: 0.7300 - val_loss: 0.6460\n",
            "Epoch 13/50\n",
            "\u001b[1m830/830\u001b[0m \u001b[32m━━━━━━━━━━━━━━━━━━━━\u001b[0m\u001b[37m\u001b[0m \u001b[1m8s\u001b[0m 10ms/step - accuracy: 0.7837 - loss: 0.4492 - val_accuracy: 0.7526 - val_loss: 0.6160\n",
            "Epoch 14/50\n",
            "\u001b[1m830/830\u001b[0m \u001b[32m━━━━━━━━━━━━━━━━━━━━\u001b[0m\u001b[37m\u001b[0m \u001b[1m8s\u001b[0m 10ms/step - accuracy: 0.7996 - loss: 0.4169 - val_accuracy: 0.7572 - val_loss: 0.6110\n",
            "Epoch 15/50\n",
            "\u001b[1m830/830\u001b[0m \u001b[32m━━━━━━━━━━━━━━━━━━━━\u001b[0m\u001b[37m\u001b[0m \u001b[1m8s\u001b[0m 10ms/step - accuracy: 0.8067 - loss: 0.3957 - val_accuracy: 0.7531 - val_loss: 0.5908\n",
            "Epoch 16/50\n",
            "\u001b[1m830/830\u001b[0m \u001b[32m━━━━━━━━━━━━━━━━━━━━\u001b[0m\u001b[37m\u001b[0m \u001b[1m8s\u001b[0m 10ms/step - accuracy: 0.8144 - loss: 0.3743 - val_accuracy: 0.7639 - val_loss: 0.6057\n",
            "Epoch 17/50\n",
            "\u001b[1m830/830\u001b[0m \u001b[32m━━━━━━━━━━━━━━━━━━━━\u001b[0m\u001b[37m\u001b[0m \u001b[1m9s\u001b[0m 10ms/step - accuracy: 0.8273 - loss: 0.3589 - val_accuracy: 0.7517 - val_loss: 0.6198\n",
            "Epoch 18/50\n",
            "\u001b[1m830/830\u001b[0m \u001b[32m━━━━━━━━━━━━━━━━━━━━\u001b[0m\u001b[37m\u001b[0m \u001b[1m9s\u001b[0m 10ms/step - accuracy: 0.8375 - loss: 0.3320 - val_accuracy: 0.7913 - val_loss: 0.5392\n",
            "Epoch 19/50\n",
            "\u001b[1m830/830\u001b[0m \u001b[32m━━━━━━━━━━━━━━━━━━━━\u001b[0m\u001b[37m\u001b[0m \u001b[1m9s\u001b[0m 10ms/step - accuracy: 0.8480 - loss: 0.3077 - val_accuracy: 0.7802 - val_loss: 0.5591\n",
            "Epoch 20/50\n",
            "\u001b[1m830/830\u001b[0m \u001b[32m━━━━━━━━━━━━━━━━━━━━\u001b[0m\u001b[37m\u001b[0m \u001b[1m9s\u001b[0m 10ms/step - accuracy: 0.8600 - loss: 0.2932 - val_accuracy: 0.7959 - val_loss: 0.5566\n",
            "Epoch 21/50\n",
            "\u001b[1m830/830\u001b[0m \u001b[32m━━━━━━━━━━━━━━━━━━━━\u001b[0m\u001b[37m\u001b[0m \u001b[1m9s\u001b[0m 10ms/step - accuracy: 0.8682 - loss: 0.2713 - val_accuracy: 0.8147 - val_loss: 0.4978\n",
            "Epoch 22/50\n",
            "\u001b[1m830/830\u001b[0m \u001b[32m━━━━━━━━━━━━━━━━━━━━\u001b[0m\u001b[37m\u001b[0m \u001b[1m8s\u001b[0m 10ms/step - accuracy: 0.8724 - loss: 0.2665 - val_accuracy: 0.8006 - val_loss: 0.5295\n",
            "Epoch 23/50\n",
            "\u001b[1m830/830\u001b[0m \u001b[32m━━━━━━━━━━━━━━━━━━━━\u001b[0m\u001b[37m\u001b[0m \u001b[1m9s\u001b[0m 10ms/step - accuracy: 0.8840 - loss: 0.2411 - val_accuracy: 0.7492 - val_loss: 0.7124\n",
            "Epoch 24/50\n",
            "\u001b[1m830/830\u001b[0m \u001b[32m━━━━━━━━━━━━━━━━━━━━\u001b[0m\u001b[37m\u001b[0m \u001b[1m9s\u001b[0m 10ms/step - accuracy: 0.8919 - loss: 0.2273 - val_accuracy: 0.8297 - val_loss: 0.4735\n",
            "Epoch 25/50\n",
            "\u001b[1m830/830\u001b[0m \u001b[32m━━━━━━━━━━━━━━━━━━━━\u001b[0m\u001b[37m\u001b[0m \u001b[1m9s\u001b[0m 10ms/step - accuracy: 0.8939 - loss: 0.2261 - val_accuracy: 0.8251 - val_loss: 0.4679\n",
            "Epoch 26/50\n",
            "\u001b[1m830/830\u001b[0m \u001b[32m━━━━━━━━━━━━━━━━━━━━\u001b[0m\u001b[37m\u001b[0m \u001b[1m9s\u001b[0m 10ms/step - accuracy: 0.9016 - loss: 0.2103 - val_accuracy: 0.8214 - val_loss: 0.4719\n",
            "Epoch 27/50\n",
            "\u001b[1m830/830\u001b[0m \u001b[32m━━━━━━━━━━━━━━━━━━━━\u001b[0m\u001b[37m\u001b[0m \u001b[1m8s\u001b[0m 10ms/step - accuracy: 0.9106 - loss: 0.1892 - val_accuracy: 0.8474 - val_loss: 0.4311\n",
            "Epoch 28/50\n",
            "\u001b[1m830/830\u001b[0m \u001b[32m━━━━━━━━━━━━━━━━━━━━\u001b[0m\u001b[37m\u001b[0m \u001b[1m8s\u001b[0m 10ms/step - accuracy: 0.9102 - loss: 0.1948 - val_accuracy: 0.8324 - val_loss: 0.4667\n",
            "Epoch 29/50\n",
            "\u001b[1m830/830\u001b[0m \u001b[32m━━━━━━━━━━━━━━━━━━━━\u001b[0m\u001b[37m\u001b[0m \u001b[1m8s\u001b[0m 10ms/step - accuracy: 0.9146 - loss: 0.1825 - val_accuracy: 0.8412 - val_loss: 0.4555\n",
            "Epoch 30/50\n",
            "\u001b[1m830/830\u001b[0m \u001b[32m━━━━━━━━━━━━━━━━━━━━\u001b[0m\u001b[37m\u001b[0m \u001b[1m8s\u001b[0m 10ms/step - accuracy: 0.9189 - loss: 0.1760 - val_accuracy: 0.8160 - val_loss: 0.5522\n",
            "Epoch 31/50\n",
            "\u001b[1m830/830\u001b[0m \u001b[32m━━━━━━━━━━━━━━━━━━━━\u001b[0m\u001b[37m\u001b[0m \u001b[1m8s\u001b[0m 10ms/step - accuracy: 0.9260 - loss: 0.1592 - val_accuracy: 0.8301 - val_loss: 0.5051\n",
            "Epoch 32/50\n",
            "\u001b[1m830/830\u001b[0m \u001b[32m━━━━━━━━━━━━━━━━━━━━\u001b[0m\u001b[37m\u001b[0m \u001b[1m8s\u001b[0m 10ms/step - accuracy: 0.9290 - loss: 0.1575 - val_accuracy: 0.8372 - val_loss: 0.4873\n"
          ]
        }
      ]
    },
    {
      "cell_type": "code",
      "source": [
        "#geliştirilmiş model oluşturma 2"
      ],
      "metadata": {
        "id": "wt6pfdtOafMj"
      },
      "execution_count": null,
      "outputs": []
    },
    {
      "cell_type": "code",
      "source": [
        "#doğruluk ve karışıklık matrisi\n",
        "from sklearn.metrics import classification_report, confusion_matrix, ConfusionMatrixDisplay\n",
        "import matplotlib.pyplot as plt\n",
        "\n",
        "y_pred = np.argmax(model.predict(X_test), axis=1)\n",
        "\n",
        "print(classification_report(y_test, y_pred))\n",
        "cm = confusion_matrix(y_test, y_pred)\n",
        "disp = ConfusionMatrixDisplay(confusion_matrix=cm)\n",
        "disp.plot()\n",
        "plt.show()\n"
      ],
      "metadata": {
        "id": "6mMKo7xrQMs4",
        "colab": {
          "base_uri": "https://localhost:8080/",
          "height": 675
        },
        "outputId": "8af27d46-5545-45cb-d2bc-aa87a22d6cf3"
      },
      "execution_count": 8,
      "outputs": [
        {
          "output_type": "stream",
          "name": "stdout",
          "text": [
            "\u001b[1m415/415\u001b[0m \u001b[32m━━━━━━━━━━━━━━━━━━━━\u001b[0m\u001b[37m\u001b[0m \u001b[1m1s\u001b[0m 3ms/step\n",
            "              precision    recall  f1-score   support\n",
            "\n",
            "           0       0.89      0.83      0.86      2219\n",
            "           1       0.79      0.81      0.80      3566\n",
            "           2       0.83      0.84      0.83      3827\n",
            "           3       0.93      0.90      0.92      2732\n",
            "           4       0.82      0.90      0.86       936\n",
            "\n",
            "    accuracy                           0.85     13280\n",
            "   macro avg       0.85      0.86      0.85     13280\n",
            "weighted avg       0.85      0.85      0.85     13280\n",
            "\n"
          ]
        },
        {
          "output_type": "display_data",
          "data": {
            "text/plain": [
              "<Figure size 640x480 with 2 Axes>"
            ],
            "image/png": "[encoded data removed]"
          },
          "metadata": {}
        }
      ]
    },
    {
      "cell_type": "code",
      "source": [
        "import matplotlib.pyplot as plt\n",
        "\n",
        "# Eğitim ve doğrulama doğruluğu\n",
        "plt.figure(figsize=(12, 5))\n",
        "\n",
        "plt.subplot(1, 2, 1)\n",
        "plt.plot(history.history['accuracy'], label='Eğitim Doğruluğu')\n",
        "plt.plot(history.history['val_accuracy'], label='Doğrulama Doğruluğu')\n",
        "plt.title('Model Doğruluğu')\n",
        "plt.xlabel('Epoch')\n",
        "plt.ylabel('Doğruluk')\n",
        "plt.legend()\n",
        "plt.grid(True)\n",
        "\n",
        "# Eğitim ve doğrulama kaybı\n",
        "plt.subplot(1, 2, 2)\n",
        "plt.plot(history.history['loss'], label='Eğitim Kaybı')\n",
        "plt.plot(history.history['val_loss'], label='Doğrulama Kaybı')\n",
        "plt.title('Model Kaybı')\n",
        "plt.xlabel('Epoch')\n",
        "plt.ylabel('Kayıp')\n",
        "plt.legend()\n",
        "plt.grid(True)\n",
        "\n",
        "plt.tight_layout()\n",
        "plt.show()\n"
      ],
      "metadata": {
        "id": "Epv0yGZXQMu_",
        "colab": {
          "base_uri": "https://localhost:8080/",
          "height": 507
        },
        "outputId": "8ff30a8a-46ac-4688-d687-d04990d300a4"
      },
      "execution_count": 9,
      "outputs": [
        {
          "output_type": "display_data",
          "data": {
            "text/plain": [
              "<Figure size 1200x500 with 2 Axes>"
            ],
            "image/png": "[encoded data removed]"
          },
          "metadata": {}
        }
      ]
    },
    {
      "cell_type": "code",
      "source": [
        "# Kaydedilecek klasörü oluştur\n",
        "model_path = \"/content/drive/MyDrive/sleep-cassette/model_CONV1D.keras\"\n",
        "model.save(model_path)\n",
        "print(f\"Model kaydedildi: {model_path}\")\n"
      ],
      "metadata": {
        "id": "Q6TH9FHeQMw1",
        "colab": {
          "base_uri": "https://localhost:8080/"
        },
        "outputId": "2c6424bd-e2f9-4e7f-c93a-8148974c9212"
      },
      "execution_count": 10,
      "outputs": [
        {
          "output_type": "stream",
          "name": "stdout",
          "text": [
            "Model kaydedildi: /content/drive/MyDrive/sleep-cassette/model_CONV1D.keras\n"
          ]
        }
      ]
    },
    {
      "cell_type": "code",
      "source": [
        "def analyze_patient(psg_path, hypnogram_path):\n",
        "    raw = mne.io.read_raw_edf(psg_path, preload=True, verbose=False)\n",
        "    raw.pick_channels(['EEG Fpz-Cz'])\n",
        "    annotations = mne.read_annotations(hypnogram_path)\n",
        "    raw.set_annotations(annotations)\n",
        "\n",
        "    sfreq = raw.info['sfreq']\n",
        "    signal = raw.get_data()[0]\n",
        "    epoch_duration = 30\n",
        "    samples_per_epoch = int(epoch_duration * sfreq)\n",
        "\n",
        "    mapping = {\n",
        "        'Sleep stage W': 0,\n",
        "        'Sleep stage 1': 1,\n",
        "        'Sleep stage 2': 2,\n",
        "        'Sleep stage 3': 3,\n",
        "        'Sleep stage 4': 3,\n",
        "        'Sleep stage R': 4\n",
        "    }\n",
        "\n",
        "    annotations_df = pd.DataFrame({\n",
        "        'onset': raw.annotations.onset,\n",
        "        'description': raw.annotations.description\n",
        "    })\n",
        "    annotations_df = annotations_df[annotations_df['description'].isin(mapping.keys())].reset_index(drop=True)\n",
        "\n",
        "    epochs = []\n",
        "    true_labels = []\n",
        "\n",
        "    for _, row in annotations_df.iterrows():\n",
        "        start_sample = int(row['onset'] * sfreq)\n",
        "        end_sample = start_sample + samples_per_epoch\n",
        "        if end_sample <= len(signal):\n",
        "            epoch = signal[start_sample:end_sample]\n",
        "            epoch = zscore(epoch)\n",
        "            epochs.append(epoch)\n",
        "            true_labels.append(mapping[row['description']])\n",
        "\n",
        "    X_individual = np.array(epochs).reshape(-1, samples_per_epoch, 1)\n",
        "    y_pred = model.predict(X_individual)\n",
        "    y_pred_classes = np.argmax(y_pred, axis=1)\n",
        "\n",
        "    # === Uyku Kalitesi Metrikleri ===\n",
        "    df_results = pd.DataFrame({'epochs': y_pred_classes})\n",
        "    TST = len(df_results[df_results['epochs'] != 0]) * 30 / 60\n",
        "    N3 = len(df_results[df_results['epochs'] == 3]) * 30 / 60\n",
        "    REM = len(df_results[df_results['epochs'] == 4]) * 30 / 60\n",
        "    total_time = len(df_results) * 30 / 60\n",
        "\n",
        "    sleep_efficiency = (TST / total_time) * 100\n",
        "    deep_sleep_percent = (N3 / TST) * 100 if TST != 0 else 0\n",
        "    rem_percent = (REM / TST) * 100 if TST != 0 else 0\n",
        "\n",
        "    print(\"=== Uyku Verimlilik Analizi ===\")\n",
        "    print(f\"Toplam Uyku Süresi: {TST:.2f} dk\")\n",
        "    print(f\"Uyku Verimliliği: %{sleep_efficiency:.2f}\")\n",
        "    print(f\"Derin Uyku Oranı (N3): %{deep_sleep_percent:.2f}\")\n",
        "    print(f\"REM Uyku Oranı: %{rem_percent:.2f}\")\n",
        "\n",
        "    # === Hormon Tahmini (Basit Formüller) ===\n",
        "    melatonin = (deep_sleep_percent * 0.6) + (sleep_efficiency * 0.3) + ((REM / TST) * 100 * 0.1 if TST != 0 else 0)\n",
        "    cortisol = 25 - (sleep_efficiency * 0.15) - (TST / 10)\n",
        "    gh = (N3 * 0.08) + (deep_sleep_percent * 0.2)\n",
        "\n",
        "    print(\"\\n=== Hormon Tahminleri ===\")\n",
        "    print(f\"Tahmini Melatonin: {melatonin:.2f} ng/mL\")\n",
        "    print(f\"Tahmini Kortizol: {cortisol:.2f} µg/dL\")\n",
        "    print(f\"Tahmini Büyüme Hormonu (GH): {gh:.2f} ng/mL\")\n",
        "\n",
        "    # === Görselleştirme: Uyku Verimliliği ve Hormon Seviyeleri ===\n",
        "    import matplotlib.pyplot as plt\n",
        "\n",
        "    # Uyku kalitesi grafiği\n",
        "    labels = ['Uyku Verimliliği', 'Derin Uyku (N3)', 'REM Uyku']\n",
        "    values = [sleep_efficiency, deep_sleep_percent, rem_percent]\n",
        "\n",
        "    plt.figure(figsize=(8, 5))\n",
        "    plt.bar(labels, values)\n",
        "    plt.title(\"Uyku Kalitesi Göstergeleri\")\n",
        "    plt.ylim(0, 100)\n",
        "    plt.ylabel(\"Yüzde (%)\")\n",
        "    plt.grid(axis='y')\n",
        "    plt.show()\n",
        "\n",
        "    # Hormon tahminleri grafiği\n",
        "    hormone_labels = ['Melatonin (ng/mL)', 'Kortizol (µg/dL)', 'Büyüme Hormonu (GH, ng/mL)']\n",
        "    hormone_values = [melatonin, cortisol, gh]\n",
        "\n",
        "    plt.figure(figsize=(8, 5))\n",
        "    bars = plt.bar(hormone_labels, hormone_values)\n",
        "    plt.title(\"Tahmini Hormon Seviyeleri\")\n",
        "    plt.grid(axis='y')\n",
        "\n",
        "    # Değerleri çubukların üstüne yaz\n",
        "    for bar in bars:\n",
        "        yval = bar.get_height()\n",
        "        plt.text(bar.get_x() + bar.get_width() / 2.0, yval + 0.5, f'{yval:.2f}', ha='center', va='bottom')\n",
        "\n",
        "    plt.show()\n"
      ],
      "metadata": {
        "id": "wS0e7Y4bQMyu"
      },
      "execution_count": 18,
      "outputs": []
    },
    {
      "cell_type": "code",
      "source": [
        "analyze_patient(\n",
        "    \"/content/drive/MyDrive/sleep-cassette/SC4002E0-PSG.edf\",\n",
        "    \"/content/drive/MyDrive/sleep-cassette/SC4002EC-Hypnogram.edf\"\n",
        ")"
      ],
      "metadata": {
        "id": "07gZCPOeQM2M",
        "colab": {
          "base_uri": "https://localhost:8080/",
          "height": 1000
        },
        "outputId": "2a7e9903-8ab9-4db8-bcd8-edf14b1786b0"
      },
      "execution_count": 19,
      "outputs": [
        {
          "output_type": "stream",
          "name": "stderr",
          "text": [
            "<ipython-input-18-605560ae3198>:2: RuntimeWarning: Channels contain different highpass filters. Highest filter setting will be stored.\n",
            "  raw = mne.io.read_raw_edf(psg_path, preload=True, verbose=False)\n",
            "<ipython-input-18-605560ae3198>:2: RuntimeWarning: Channels contain different lowpass filters. Lowest filter setting will be stored.\n",
            "  raw = mne.io.read_raw_edf(psg_path, preload=True, verbose=False)\n",
            "<ipython-input-18-605560ae3198>:2: RuntimeWarning: Highpass cutoff frequency 16.0 is greater than lowpass cutoff frequency 0.7, setting values to 0 and Nyquist.\n",
            "  raw = mne.io.read_raw_edf(psg_path, preload=True, verbose=False)\n"
          ]
        },
        {
          "output_type": "stream",
          "name": "stdout",
          "text": [
            "NOTE: pick_channels() is a legacy function. New code should use inst.pick(...).\n",
            "\u001b[1m5/5\u001b[0m \u001b[32m━━━━━━━━━━━━━━━━━━━━\u001b[0m\u001b[37m\u001b[0m \u001b[1m0s\u001b[0m 7ms/step \n"
          ]
        },
        {
          "output_type": "stream",
          "name": "stderr",
          "text": [
            "<ipython-input-18-605560ae3198>:5: RuntimeWarning: Limited 1 annotation(s) that were expanding outside the data range.\n",
            "  raw.set_annotations(annotations)\n"
          ]
        },
        {
          "output_type": "stream",
          "name": "stdout",
          "text": [
            "=== Uyku Verimlilik Analizi ===\n",
            "Toplam Uyku Süresi: 64.50 dk\n",
            "Uyku Verimliliği: %86.00\n",
            "Derin Uyku Oranı (N3): %33.33\n",
            "REM Uyku Oranı: %11.63\n",
            "\n",
            "=== Hormon Tahminleri ===\n",
            "Tahmini Melatonin: 46.96 ng/mL\n",
            "Tahmini Kortizol: 5.65 µg/dL\n",
            "Tahmini Büyüme Hormonu (GH): 8.39 ng/mL\n"
          ]
        },
        {
          "output_type": "display_data",
          "data": {
            "text/plain": [
              "<Figure size 800x500 with 1 Axes>"
            ],
            "image/png": "[encoded data removed]"
          },
          "metadata": {}
        },
        {
          "output_type": "display_data",
          "data": {
            "text/plain": [
              "<Figure size 800x500 with 1 Axes>"
            ],
            "image/png": "[encoded data removed]"
          },
          "metadata": {}
        }
      ]
    }
  ]
}